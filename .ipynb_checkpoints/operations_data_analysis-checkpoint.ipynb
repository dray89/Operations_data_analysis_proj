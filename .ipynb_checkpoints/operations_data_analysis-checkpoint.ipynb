{
 "cells": [
  {
   "cell_type": "markdown",
   "metadata": {},
   "source": [
    "# Operations Data Analysis Project"
   ]
  },
  {
   "cell_type": "markdown",
   "metadata": {},
   "source": [
    "<strong>1. Provide advice on what tranches inventory should be “fast-tracked” through the warehouse, if any.</strong>\n",
    "\n",
    "Based on weighted averages of the total time to process, tops, dresses, and sweaters contribute more to the final weighted average of overall processing time.\n",
    "\n",
    "Active pants, tops, and dresses have the highest weighted average QA station time.\n",
    "\n",
    "Tops, dresses, and sweaters have the highest weighted average photo, itemization, and QA station times.\n",
    "\n",
    "Tops, dresses, and sweaters in the brand tier groups of value and mass contribute most to the weighted average total time to process.\n",
    "\n",
    "================================================================================================="
   ]
  },
  {
   "cell_type": "markdown",
   "metadata": {},
   "source": [
    "<strong>2. What are the caveats of your approach? Is there any additional data you would like to have that may help define this inventory?</strong>\n",
    "\n",
    "There appears to be two types of zero values in the station time columns. Zeros because the items were rejected before reaching the station and zeros for accepted items which may mean the item was fast tracked through the station for one reason or another. Where applicable in my analysis, I filtered rejected items that had zero values in the station under analysis. I made the assumption that these items were rejected before reaching the station and should not be factored into station averages.\n",
    "\n",
    "I didn't analyze the dates items were processed or received by the warehouse because this information was not available in the data set.\n",
    "\n",
    "The date received by the warehouse might help analyze the inventory processing times in these categories. \n",
    "\n",
    "Interesting to note, although less relevant when using weighted averages ... we can look at the amount of items that arrive for processing on each day to see if that influences processing times. The amount of items being received in these groups by time of year might also influence processing times. In other words, there may be times when more of the high processing time items are entering the warehouse and bottlenecking the process. If we have the date received, we can test this hypothesis.\n",
    "\n",
    "With the date an item begins processing at the first station, we can see how long an item waits to begin processing after arriving at the warehouse. The difference in time until an item begins processing after arriving at the warehouse could be useful in directing solutions to lower processing time.  \n",
    "\n",
    "The time between stations could also be useful to see if a bottleneck is building up during the process.\n",
    "\n",
    "================================================================================================="
   ]
  },
  {
   "cell_type": "markdown",
   "metadata": {},
   "source": [
    "<strong>3. How would you go about testing whether or not “fast tracking” inventory is effective?</strong>\n",
    "\n",
    "I would look at the change in weighted average processing times at each of the stations and overall. The caveat to this is if we implement fast-tracking across all the inventory in these groups, we can't observe the counterfactual had we not implemented this change. Thus, any changes in the KPIs are merely approximations of the effect of the fast-tracking rather than the actual treatment effect. If we want a more concrete measure of the effect of the fast tracking on the processing times, then we need to implement a quasi-experimental regression design.\n",
    "\n",
    "Another option to test whether the fast tracking is effective is to randomly assign incoming inventory into control and treatment groups. If we run an experiment like this, we can feel more confident that the difference in processing times between these two groups is a valid measure of the effectiveness of fast tracking. \n",
    "\n",
    "In either method, to measure the effectiveness of fast tracking, we need to consider other outside influences on processing times:\n",
    "        \n",
    "1. Differences in how quickly individual employees process inventory, percent of new hires, or changes in staffing levels.\n",
    "2. Unobservable differences in the items which are not as good as randomly assigned between the treatment and control groups.\n",
    "3. Time-effects, which would be particularly relevant if we choose to implement the fast-tracking without randomly assigning inventory to control and treatment groups. In other words, if we compare KPIs to KPIs from one or two months ago, then there may be unaccounted for time effects at play. Identifying why processing times vary by date is still crucial.\n",
    "       \n",
    "        \n",
    "We could choose from a number of regression designs including:\n",
    "        \n",
    "1. Differences-in-differences: Using the trend of the control group to approximate a counterfactual and assuming the treatment group follows the same trend before the treatment is implemented (parallel trends assumption).\n",
    "2. Propensity score matching: To compare \"apples-to-apples\" on observable differences assuming that the unobservable differences are as good as randomly assigned.\n",
    "\n",
    "========================================================================================================================="
   ]
  },
  {
   "cell_type": "markdown",
   "metadata": {},
   "source": [
    "<strong>4. What metrics or KPIs would you look at? Anything else to note?</strong>\n",
    "\n",
    "I would look at changes in the average processing time controlling for the station, brand tier, warehouse, and/or price although as segmenting increases, the amount of items within each group decreases (something to watch). \n",
    "<ul>\n",
    "    <li> Company level: Average time to process across all warehouses.</li>\n",
    "    <li> Warehouse level: Average time to process at each warehouse. </li>\n",
    "    <li> Individual level: Average time to process across employees. </li>\n",
    "</ul>\n",
    "Time to process seems to vary between warehouses. The reason for this should be explored further.\n",
    "\n",
    "Possible Explanations:\n",
    "       \n",
    "1. Amount of inventory being processed \n",
    "2. Diversity of inventory (lack of specialization)\n",
    "3. Differences in average years of processing experience between employees at the warehouses\n",
    "    \n",
    "========================================================================================================================="
   ]
  },
  {
   "cell_type": "markdown",
   "metadata": {},
   "source": [
    "<strong>5. Explore the data and note any additional observations. This is meant to be open-ended.</strong>\n",
    "\n",
    "Although rejected items take less time to process overall, if there is a way to make the rejection decision at an earlier point in time, then the warehouses may be able to reduce item processing times. Based on this data, 81% of rejected items are rejected at the itemization station. If the warehouses are able to change the process in a way to reject items before the itemization station, then there could be an opportunity for time savings. \n",
    "    \n",
    "Warehouses DC02 and DC05 take the longest time to process merchandise and also receive the most merchandise out of all the other warehouses, particularly in the long-to-process item categories. This information could potentially lead to a testable solution like rerouting items between the warehouses, changing staffing levels at the warehouses, or distributing responsibilities differently based on the levels of each category received by the warehouses.\n",
    "\n",
    "========================================================================================================================"
   ]
  },
  {
   "cell_type": "markdown",
   "metadata": {},
   "source": [
    "<strong>Assumptions</strong><br>\n",
    "<ul>\n",
    "    <li>The data is for new inventory items entering the warehouse.</li>\n",
    "    <li>Station times are in minutes.</li>\n",
    "    <li>The listing date, purchase date, and time at each station do not shed light on when the item arrives at the warehouse or on what date processing begins.</li>\n",
    "    <li>Rejected items with zeros in the station time column represents when it was rejected and removed from processing</li>\n",
    "    <li>Accepted items with zeros in the station time column represent actual time spent at that station, possibly due to fast-tracking</li>\n",
    "    </ul>\n",
    "    </ol>"
   ]
  },
  {
   "cell_type": "markdown",
   "metadata": {},
   "source": [
    "<strong>Variables</strong><br>\n",
    "<ul>\n",
    "    <li> item_id : id of the clothing item </li>\n",
    "    <li> warehouse : distribution center where item is processed </li>\n",
    "<li> gender : designates kids or womens </li>\n",
    "<li>item_category : category of clothing </li>\n",
    "<li>brand_tier_group : Brand tiers are tagged by merchandising specialists for each brand. The\n",
    "    higher the brand tier of an item, the more \"luxury\" / expensive the brand is. The order is value,\n",
    "    mass, premium, and designer. </li>\n",
    "<li>listing_price : the price the item was listed at on the website </li>\n",
    "<li>item_listing_date : the date the item was listed on the site </li>\n",
    "<li>item_purchase_date : the date the item was purchased by a customer, if any. </li>\n",
    "<li>Item_accepted_or_rejected : whether the item was accepted into stockroom or rejected due to\n",
    "quality issues </li>\n",
    "<li>merch_station_time: how long the item spent at the merchandising station, where initial quality\n",
    "inspection occurs </li>\n",
    "<li>itemization_station_time: how long the item spent at the itemization station, where brand,\n",
    "measurement, category, and other characteristics are recorded </li>\n",
    "<li>photo_station_time: how long the item spent at the photo station, where its picture is taken for\n",
    "listing on site </li>\n",
    "<li>qa_time: how long the item spent in QA, where itemization values are cross-checked </li>\n",
    "\n",
    "</ul>"
   ]
  },
  {
   "cell_type": "code",
   "execution_count": 1,
   "metadata": {},
   "outputs": [],
   "source": [
    "import pandas as pd\n",
    "import numpy as np\n",
    "import seaborn as sns\n",
    "import matplotlib.pyplot as plt\n",
    "from sqlalchemy import create_engine\n",
    "import os\n",
    "%reload_ext sql"
   ]
  },
  {
   "cell_type": "code",
   "execution_count": 2,
   "metadata": {
    "scrolled": true
   },
   "outputs": [],
   "source": [
    "merch_processing = pd.read_csv(\"ops_analyst_challenge_data.csv\", parse_dates = ['item_purchase_date' ,'item_listing_date'])"
   ]
  },
  {
   "cell_type": "markdown",
   "metadata": {},
   "source": [
    "# SQL queries"
   ]
  },
  {
   "cell_type": "code",
   "execution_count": 3,
   "metadata": {},
   "outputs": [],
   "source": [
    "engine = create_engine('sqlite:///merchprocessingdb.sql', echo=False)\n",
    "merch_processing.to_sql('merch_processing', con=engine, if_exists='replace')\n",
    "os.environ[\"DATABASE_URL\"]='sqlite:///merchprocessingdb.sql'"
   ]
  },
  {
   "cell_type": "code",
   "execution_count": 4,
   "metadata": {},
   "outputs": [
    {
     "name": "stdout",
     "output_type": "stream",
     "text": [
      "Done.\n",
      "25000 rows affected.\n"
     ]
    },
    {
     "data": {
      "text/plain": [
       "[]"
      ]
     },
     "execution_count": 4,
     "metadata": {},
     "output_type": "execute_result"
    }
   ],
   "source": [
    "%%sql\n",
    "ALTER TABLE merch_processing ADD COLUMN total_time INT;\n",
    "\n",
    "UPDATE merch_processing\n",
    "SET total_time = merch_station_time + itemization_station_time + photo_station_time + qa_time;"
   ]
  },
  {
   "cell_type": "code",
   "execution_count": 5,
   "metadata": {},
   "outputs": [
    {
     "name": "stdout",
     "output_type": "stream",
     "text": [
      " * sqlite:///merchprocessingdb.sql\n",
      "Done.\n"
     ]
    },
    {
     "data": {
      "text/plain": [
       "[]"
      ]
     },
     "execution_count": 5,
     "metadata": {},
     "output_type": "execute_result"
    }
   ],
   "source": [
    "%%sql\n",
    "ALTER TABLE merch_processing ADD COLUMN long_processing_time bool; "
   ]
  },
  {
   "cell_type": "code",
   "execution_count": 6,
   "metadata": {},
   "outputs": [
    {
     "name": "stdout",
     "output_type": "stream",
     "text": [
      " * sqlite:///merchprocessingdb.sql\n",
      "Done.\n",
      "Done.\n"
     ]
    },
    {
     "data": {
      "text/plain": [
       "[]"
      ]
     },
     "execution_count": 6,
     "metadata": {},
     "output_type": "execute_result"
    }
   ],
   "source": [
    "%%sql\n",
    "\n",
    "/*Add long_processing_time column based on average processing times in each item category */\n",
    "\n",
    "WITH cte AS (\n",
    "SELECT item_id, total_time, AVG(total_time) OVER(PARTITION BY item_category) as avg_time\n",
    "FROM merch_processing)\n",
    "\n",
    "UPDATE merch_processing\n",
    "SET long_processing_time = True\n",
    "WHERE merch_processing.item_id = (SELECT cte.item_id FROM cte WHERE cte.item_id = merch_processing.item_id)\n",
    "                    AND merch_processing.total_time > (SELECT avg_time FROM cte WHERE cte.item_id = merch_processing.item_id);\n",
    "\n",
    "    WITH cte AS (\n",
    "SELECT item_id, total_time, AVG(total_time) OVER(PARTITION BY item_category) as avg_time\n",
    "FROM merch_processing)\n",
    "    \n",
    "UPDATE merch_processing\n",
    "SET long_processing_time = False\n",
    "WHERE merch_processing.item_id = (SELECT cte.item_id FROM cte WHERE cte.item_id = merch_processing.item_id)\n",
    "                    AND merch_processing.total_time <= (SELECT avg_time FROM cte WHERE cte.item_id = merch_processing.item_id);\n"
   ]
  },
  {
   "cell_type": "code",
   "execution_count": 7,
   "metadata": {},
   "outputs": [
    {
     "name": "stdout",
     "output_type": "stream",
     "text": [
      " * sqlite:///merchprocessingdb.sql\n",
      "Done.\n"
     ]
    },
    {
     "data": {
      "text/html": [
       "<table>\n",
       "    <tr>\n",
       "        <th>warehouse</th>\n",
       "        <th>item_category</th>\n",
       "        <th>percent_inventory</th>\n",
       "        <th>avg_merch_station_time</th>\n",
       "        <th>avg_itemization_station_time</th>\n",
       "        <th>avg_photo_station_time</th>\n",
       "        <th>avg_qa_time</th>\n",
       "    </tr>\n",
       "    <tr>\n",
       "        <td>DC02</td>\n",
       "        <td>Tops &amp; Blouses &amp; Shirts</td>\n",
       "        <td>14.657117629745903</td>\n",
       "        <td>4.940914352987344</td>\n",
       "        <td>8.199191602079857</td>\n",
       "        <td>12.379401550083388</td>\n",
       "        <td>0.568696164034141</td>\n",
       "    </tr>\n",
       "    <tr>\n",
       "        <td>DC05</td>\n",
       "        <td>Tops &amp; Blouses &amp; Shirts</td>\n",
       "        <td>14.50014715981556</td>\n",
       "        <td>4.853199254390268</td>\n",
       "        <td>8.69428823702541</td>\n",
       "        <td>8.910340429706663</td>\n",
       "        <td>None</td>\n",
       "    </tr>\n",
       "    <tr>\n",
       "        <td>DC02</td>\n",
       "        <td>Dresses</td>\n",
       "        <td>9.437849504561955</td>\n",
       "        <td>3.3343922299617383</td>\n",
       "        <td>5.587206906700677</td>\n",
       "        <td>8.38741685470421</td>\n",
       "        <td>0.47189247522809774</td>\n",
       "    </tr>\n",
       "    <tr>\n",
       "        <td>DC05</td>\n",
       "        <td>Dresses</td>\n",
       "        <td>9.172961836554498</td>\n",
       "        <td>3.3352889237712153</td>\n",
       "        <td>5.94499656627097</td>\n",
       "        <td>6.664156774256844</td>\n",
       "        <td>None</td>\n",
       "    </tr>\n",
       "    <tr>\n",
       "        <td>DC04</td>\n",
       "        <td>Tops &amp; Blouses &amp; Shirts</td>\n",
       "        <td>8.88845285980575</td>\n",
       "        <td>2.1758932600804477</td>\n",
       "        <td>3.8007024428529386</td>\n",
       "        <td>5.188189934268616</td>\n",
       "        <td>5.1286373001079175</td>\n",
       "    </tr>\n",
       "    <tr>\n",
       "        <td>DC02</td>\n",
       "        <td>Sweaters</td>\n",
       "        <td>8.868831551064456</td>\n",
       "        <td>3.1076385754929854</td>\n",
       "        <td>4.870762287844599</td>\n",
       "        <td>7.150051996468164</td>\n",
       "        <td>0.2953320906504464</td>\n",
       "    </tr>\n",
       "    <tr>\n",
       "        <td>DC03</td>\n",
       "        <td>Tops &amp; Blouses &amp; Shirts</td>\n",
       "        <td>8.290002943196312</td>\n",
       "        <td>2.431457863239478</td>\n",
       "        <td>4.085313450407143</td>\n",
       "        <td>5.502074953399393</td>\n",
       "        <td>0.5114931815952124</td>\n",
       "    </tr>\n",
       "    <tr>\n",
       "        <td>DC05</td>\n",
       "        <td>Sweaters</td>\n",
       "        <td>7.112724418718728</td>\n",
       "        <td>2.4674041008535266</td>\n",
       "        <td>4.022245658785441</td>\n",
       "        <td>4.319557539487883</td>\n",
       "        <td>None</td>\n",
       "    </tr>\n",
       "    <tr>\n",
       "        <td>DC04</td>\n",
       "        <td>Dresses</td>\n",
       "        <td>6.269008142843127</td>\n",
       "        <td>1.7252310409104286</td>\n",
       "        <td>2.7865741194937703</td>\n",
       "        <td>4.168263514176395</td>\n",
       "        <td>4.325615618561757</td>\n",
       "    </tr>\n",
       "    <tr>\n",
       "        <td>DC03</td>\n",
       "        <td>Dresses</td>\n",
       "        <td>5.013244383400373</td>\n",
       "        <td>1.5972196605513587</td>\n",
       "        <td>2.7823506327872067</td>\n",
       "        <td>4.432209359364269</td>\n",
       "        <td>0.3594496222898067</td>\n",
       "    </tr>\n",
       "    <tr>\n",
       "        <td>DC03</td>\n",
       "        <td>Sweaters</td>\n",
       "        <td>4.198960070636711</td>\n",
       "        <td>1.3713803590699498</td>\n",
       "        <td>2.021799274011576</td>\n",
       "        <td>3.5552594918081035</td>\n",
       "        <td>0.27671146865495927</td>\n",
       "    </tr>\n",
       "    <tr>\n",
       "        <td>DC04</td>\n",
       "        <td>Sweaters</td>\n",
       "        <td>3.590699499656627</td>\n",
       "        <td>0.9565623467085255</td>\n",
       "        <td>1.666084567840675</td>\n",
       "        <td>1.9899656627097029</td>\n",
       "        <td>0.7360933974296086</td>\n",
       "    </tr>\n",
       "</table>"
      ],
      "text/plain": [
       "[('DC02', 'Tops & Blouses & Shirts', 14.657117629745903, 4.940914352987344, 8.199191602079857, 12.379401550083388, 0.568696164034141),\n",
       " ('DC05', 'Tops & Blouses & Shirts', 14.50014715981556, 4.853199254390268, 8.69428823702541, 8.910340429706663, None),\n",
       " ('DC02', 'Dresses', 9.437849504561955, 3.3343922299617383, 5.587206906700677, 8.38741685470421, 0.47189247522809774),\n",
       " ('DC05', 'Dresses', 9.172961836554498, 3.3352889237712153, 5.94499656627097, 6.664156774256844, None),\n",
       " ('DC04', 'Tops & Blouses & Shirts', 8.88845285980575, 2.1758932600804477, 3.8007024428529386, 5.188189934268616, 5.1286373001079175),\n",
       " ('DC02', 'Sweaters', 8.868831551064456, 3.1076385754929854, 4.870762287844599, 7.150051996468164, 0.2953320906504464),\n",
       " ('DC03', 'Tops & Blouses & Shirts', 8.290002943196312, 2.431457863239478, 4.085313450407143, 5.502074953399393, 0.5114931815952124),\n",
       " ('DC05', 'Sweaters', 7.112724418718728, 2.4674041008535266, 4.022245658785441, 4.319557539487883, None),\n",
       " ('DC04', 'Dresses', 6.269008142843127, 1.7252310409104286, 2.7865741194937703, 4.168263514176395, 4.325615618561757),\n",
       " ('DC03', 'Dresses', 5.013244383400373, 1.5972196605513587, 2.7823506327872067, 4.432209359364269, 0.3594496222898067),\n",
       " ('DC03', 'Sweaters', 4.198960070636711, 1.3713803590699498, 2.021799274011576, 3.5552594918081035, 0.27671146865495927),\n",
       " ('DC04', 'Sweaters', 3.590699499656627, 0.9565623467085255, 1.666084567840675, 1.9899656627097029, 0.7360933974296086)]"
      ]
     },
     "execution_count": 7,
     "metadata": {},
     "output_type": "execute_result"
    }
   ],
   "source": [
    "%%sql\n",
    "/* average processing time by warehouse and item_category rounded to two decimal places \n",
    "    filtering out the rejected items that have zero values \n",
    "*/\n",
    "WITH merch AS  \n",
    "(\n",
    "SELECT warehouse, item_category, CAST(COUNT(item_id) OVER(PARTITION BY warehouse, item_category) AS FLOAT)/COUNT(item_id) OVER() AS rate_inventory,\n",
    "    item_accepted_or_rejected, merch_station_time, itemization_station_time, photo_station_time, qa_time\n",
    "FROM merch_processing\n",
    "WHERE item_category IN ('Tops & Blouses & Shirts', 'Dresses', 'Sweaters')\n",
    ")\n",
    "\n",
    "SELECT DISTINCT warehouse, item_category, rate_inventory*100 AS percent_inventory,\n",
    "    rate_inventory*ROUND(AVG(merch_station_time) FILTER(WHERE (item_accepted_or_rejected != 'rejected') & (merch_station_time !=0)) OVER(PARTITION BY warehouse, item_category), 2)AS avg_merch_station_time,\n",
    "    rate_inventory*ROUND(AVG(itemization_station_time) FILTER(WHERE (item_accepted_or_rejected != 'rejected') & (itemization_station_time !=0)) OVER(PARTITION BY warehouse, item_category),2) AS avg_itemization_station_time,\n",
    "    rate_inventory*ROUND(AVG(photo_station_time) FILTER(WHERE (item_accepted_or_rejected != 'rejected') & (photo_station_time !=0)) OVER(PARTITION BY warehouse, item_category),2) AS avg_photo_station_time, \n",
    "    rate_inventory*ROUND(AVG(qa_time) FILTER(WHERE (item_accepted_or_rejected != 'rejected') & (qa_time !=0)) OVER(PARTITION BY warehouse, item_category),2) AS avg_qa_time\n",
    "FROM merch\n",
    "ORDER BY percent_inventory DESC"
   ]
  },
  {
   "cell_type": "code",
   "execution_count": 8,
   "metadata": {},
   "outputs": [
    {
     "name": "stdout",
     "output_type": "stream",
     "text": [
      " * sqlite:///merchprocessingdb.sql\n",
      "Done.\n"
     ]
    },
    {
     "data": {
      "text/html": [
       "<table>\n",
       "    <tr>\n",
       "        <th>avg_merch_station_time</th>\n",
       "        <th>avg_itemization_station_time</th>\n",
       "        <th>avg_photo_station_time</th>\n",
       "        <th>avg_qa_time</th>\n",
       "    </tr>\n",
       "    <tr>\n",
       "        <td>32.73</td>\n",
       "        <td>56.28</td>\n",
       "        <td>75.71</td>\n",
       "        <td>8.89</td>\n",
       "    </tr>\n",
       "</table>"
      ],
      "text/plain": [
       "[(32.73, 56.28, 75.71, 8.89)]"
      ]
     },
     "execution_count": 8,
     "metadata": {},
     "output_type": "execute_result"
    }
   ],
   "source": [
    "%%sql \n",
    "/*AVERAGE STATION TIMES ACROSS ALL ITEMS (UNWEIGHTED)*/\n",
    "SELECT DISTINCT \n",
    "    ROUND(AVG(merch_station_time) FILTER(WHERE (item_accepted_or_rejected != 'rejected') & (merch_station_time !=0)) OVER(), 2)AS avg_merch_station_time,\n",
    "    ROUND(AVG(itemization_station_time) FILTER(WHERE (item_accepted_or_rejected != 'rejected') & (itemization_station_time !=0)) OVER(),2) AS avg_itemization_station_time,\n",
    "    ROUND(AVG(photo_station_time) FILTER(WHERE (item_accepted_or_rejected != 'rejected') & (photo_station_time !=0)) OVER(),2) AS avg_photo_station_time, \n",
    "    ROUND(AVG(qa_time) FILTER(WHERE (item_accepted_or_rejected != 'rejected') & (qa_time !=0)) OVER(),2) AS avg_qa_time\n",
    "FROM merch_processing"
   ]
  },
  {
   "cell_type": "code",
   "execution_count": 10,
   "metadata": {},
   "outputs": [
    {
     "name": "stdout",
     "output_type": "stream",
     "text": [
      " * sqlite:///merchprocessingdb.sql\n",
      "Done.\n"
     ]
    },
    {
     "data": {
      "text/html": [
       "<table>\n",
       "    <tr>\n",
       "        <th>brand_tier_group</th>\n",
       "        <th>item_category</th>\n",
       "        <th>percent_inventory</th>\n",
       "        <th>weighted_avg_time</th>\n",
       "    </tr>\n",
       "    <tr>\n",
       "        <td>1-Value</td>\n",
       "        <td>Tops &amp; Blouses &amp; Shirts</td>\n",
       "        <td>9.580969009166303</td>\n",
       "        <td>13.623179834133566</td>\n",
       "    </tr>\n",
       "    <tr>\n",
       "        <td>2-Mass</td>\n",
       "        <td>Tops &amp; Blouses &amp; Shirts</td>\n",
       "        <td>7.114797031863815</td>\n",
       "        <td>10.706346573548668</td>\n",
       "    </tr>\n",
       "    <tr>\n",
       "        <td>1-Value</td>\n",
       "        <td>Dresses</td>\n",
       "        <td>5.822784810126582</td>\n",
       "        <td>9.446303797468353</td>\n",
       "    </tr>\n",
       "    <tr>\n",
       "        <td>2-Mass</td>\n",
       "        <td>Dresses</td>\n",
       "        <td>4.251418594500218</td>\n",
       "        <td>7.036097773897861</td>\n",
       "    </tr>\n",
       "    <tr>\n",
       "        <td>1-Value</td>\n",
       "        <td>Sweaters</td>\n",
       "        <td>4.552597119161938</td>\n",
       "        <td>6.9677498908773465</td>\n",
       "    </tr>\n",
       "    <tr>\n",
       "        <td>1-Value</td>\n",
       "        <td>Tees &amp; Tanks</td>\n",
       "        <td>5.032736796158883</td>\n",
       "        <td>6.318097773897862</td>\n",
       "    </tr>\n",
       "    <tr>\n",
       "        <td>2-Mass</td>\n",
       "        <td>Sweaters</td>\n",
       "        <td>3.736359668267132</td>\n",
       "        <td>5.782016586643387</td>\n",
       "    </tr>\n",
       "    <tr>\n",
       "        <td>2-Mass</td>\n",
       "        <td>Pants</td>\n",
       "        <td>2.4487123526844172</td>\n",
       "        <td>4.441719336534264</td>\n",
       "    </tr>\n",
       "    <tr>\n",
       "        <td>3-Premium</td>\n",
       "        <td>Tops &amp; Blouses &amp; Shirts</td>\n",
       "        <td>2.684417285028372</td>\n",
       "        <td>4.083535573985159</td>\n",
       "    </tr>\n",
       "    <tr>\n",
       "        <td>1-Value</td>\n",
       "        <td>Jeans</td>\n",
       "        <td>2.2304670449585333</td>\n",
       "        <td>3.9597481449148844</td>\n",
       "    </tr>\n",
       "    <tr>\n",
       "        <td>1-Value</td>\n",
       "        <td>Pants</td>\n",
       "        <td>2.3788738542121344</td>\n",
       "        <td>3.8364098646879095</td>\n",
       "    </tr>\n",
       "    <tr>\n",
       "        <td>3-Premium</td>\n",
       "        <td>Dresses</td>\n",
       "        <td>1.8463553033609779</td>\n",
       "        <td>3.2106272370144042</td>\n",
       "    </tr>\n",
       "    <tr>\n",
       "        <td>1-Value</td>\n",
       "        <td>Skirts &amp; Skorts</td>\n",
       "        <td>2.1082496726320383</td>\n",
       "        <td>3.074671322566565</td>\n",
       "    </tr>\n",
       "    <tr>\n",
       "        <td>2-Mass</td>\n",
       "        <td>Tees &amp; Tanks</td>\n",
       "        <td>2.1562636403317326</td>\n",
       "        <td>2.886590135312091</td>\n",
       "    </tr>\n",
       "    <tr>\n",
       "        <td>2-Mass</td>\n",
       "        <td>Jeans</td>\n",
       "        <td>1.6062854648625053</td>\n",
       "        <td>2.8082688782191183</td>\n",
       "    </tr>\n",
       "    <tr>\n",
       "        <td>2-Mass</td>\n",
       "        <td>Skirts &amp; Skorts</td>\n",
       "        <td>1.6979484941073768</td>\n",
       "        <td>2.4715338280226975</td>\n",
       "    </tr>\n",
       "    <tr>\n",
       "        <td>3-Premium</td>\n",
       "        <td>Sweaters</td>\n",
       "        <td>1.5495416848537757</td>\n",
       "        <td>2.4473461370580534</td>\n",
       "    </tr>\n",
       "    <tr>\n",
       "        <td>2-Mass</td>\n",
       "        <td>Shoes</td>\n",
       "        <td>1.4666084679179399</td>\n",
       "        <td>2.3954116106503713</td>\n",
       "    </tr>\n",
       "    <tr>\n",
       "        <td>1-Value</td>\n",
       "        <td>Coats &amp; Jackets</td>\n",
       "        <td>1.4229594063727629</td>\n",
       "        <td>2.340910519423832</td>\n",
       "    </tr>\n",
       "    <tr>\n",
       "        <td>2-Mass</td>\n",
       "        <td>Coats &amp; Jackets</td>\n",
       "        <td>1.3138367525098211</td>\n",
       "        <td>2.0594391095591447</td>\n",
       "    </tr>\n",
       "    <tr>\n",
       "        <td>1-Value</td>\n",
       "        <td>Handbags</td>\n",
       "        <td>0.7682234831951112</td>\n",
       "        <td>1.9722601484068092</td>\n",
       "    </tr>\n",
       "    <tr>\n",
       "        <td>4-Designer</td>\n",
       "        <td>Dresses</td>\n",
       "        <td>0.894805761676124</td>\n",
       "        <td>1.8994041903099086</td>\n",
       "    </tr>\n",
       "    <tr>\n",
       "        <td>1-Value</td>\n",
       "        <td>One Piece</td>\n",
       "        <td>1.2701876909646441</td>\n",
       "        <td>1.845074639895242</td>\n",
       "    </tr>\n",
       "    <tr>\n",
       "        <td>2-Mass</td>\n",
       "        <td>Active Pants</td>\n",
       "        <td>1.1305106940200786</td>\n",
       "        <td>1.8210266259275427</td>\n",
       "    </tr>\n",
       "    <tr>\n",
       "        <td>1-Value</td>\n",
       "        <td>Sweatshirts &amp; Fleece</td>\n",
       "        <td>1.069402007856831</td>\n",
       "        <td>1.7593801833260585</td>\n",
       "    </tr>\n",
       "    <tr>\n",
       "        <td>3-Premium</td>\n",
       "        <td>Jeans</td>\n",
       "        <td>0.9777389786119599</td>\n",
       "        <td>1.7412553470100394</td>\n",
       "    </tr>\n",
       "    <tr>\n",
       "        <td>1-Value</td>\n",
       "        <td>Shorts</td>\n",
       "        <td>1.5189873417721518</td>\n",
       "        <td>1.6614683544303797</td>\n",
       "    </tr>\n",
       "    <tr>\n",
       "        <td>1-Value</td>\n",
       "        <td>Shoes</td>\n",
       "        <td>0.9821038847664776</td>\n",
       "        <td>1.6425687472719337</td>\n",
       "    </tr>\n",
       "    <tr>\n",
       "        <td>2-Mass</td>\n",
       "        <td>Handbags</td>\n",
       "        <td>0.6154517677869926</td>\n",
       "        <td>1.5541388040157138</td>\n",
       "    </tr>\n",
       "    <tr>\n",
       "        <td>1-Value</td>\n",
       "        <td>Scarves &amp; Wraps</td>\n",
       "        <td>1.4404190309908338</td>\n",
       "        <td>1.484351811436054</td>\n",
       "    </tr>\n",
       "    <tr>\n",
       "        <td>4-Designer</td>\n",
       "        <td>Handbags</td>\n",
       "        <td>0.48886948930597995</td>\n",
       "        <td>1.4748214753382805</td>\n",
       "    </tr>\n",
       "    <tr>\n",
       "        <td>2-Mass</td>\n",
       "        <td>Active Tops</td>\n",
       "        <td>1.056307289393278</td>\n",
       "        <td>1.4440776953295504</td>\n",
       "    </tr>\n",
       "    <tr>\n",
       "        <td>3-Premium</td>\n",
       "        <td>Pants</td>\n",
       "        <td>0.8336970755128764</td>\n",
       "        <td>1.417618507202095</td>\n",
       "    </tr>\n",
       "    <tr>\n",
       "        <td>1-Value</td>\n",
       "        <td>Active Pants</td>\n",
       "        <td>0.9079004801396771</td>\n",
       "        <td>1.3584914884329986</td>\n",
       "    </tr>\n",
       "    <tr>\n",
       "        <td>1-Value</td>\n",
       "        <td>None</td>\n",
       "        <td>1.938018332605849</td>\n",
       "        <td>1.334325621999127</td>\n",
       "    </tr>\n",
       "    <tr>\n",
       "        <td>1-Value</td>\n",
       "        <td>Leggings</td>\n",
       "        <td>0.92099519860323</td>\n",
       "        <td>1.3036687036228722</td>\n",
       "    </tr>\n",
       "    <tr>\n",
       "        <td>4-Designer</td>\n",
       "        <td>Tops &amp; Blouses &amp; Shirts</td>\n",
       "        <td>0.7114797031863814</td>\n",
       "        <td>1.1841156700130946</td>\n",
       "    </tr>\n",
       "    <tr>\n",
       "        <td>1-Value</td>\n",
       "        <td>Active Tops</td>\n",
       "        <td>0.8642514185945003</td>\n",
       "        <td>1.1663937145351377</td>\n",
       "    </tr>\n",
       "    <tr>\n",
       "        <td>3-Premium</td>\n",
       "        <td>Skirts &amp; Skorts</td>\n",
       "        <td>0.7245744216499346</td>\n",
       "        <td>1.1377992143168922</td>\n",
       "    </tr>\n",
       "    <tr>\n",
       "        <td>2-Mass</td>\n",
       "        <td>Sweatshirts &amp; Fleece</td>\n",
       "        <td>0.7333042339589699</td>\n",
       "        <td>1.1058227848101267</td>\n",
       "    </tr>\n",
       "    <tr>\n",
       "        <td>3-Premium</td>\n",
       "        <td>Tees &amp; Tanks</td>\n",
       "        <td>0.7638585770405936</td>\n",
       "        <td>1.0392295940637277</td>\n",
       "    </tr>\n",
       "    <tr>\n",
       "        <td>3-Premium</td>\n",
       "        <td>Shoes</td>\n",
       "        <td>0.6154517677869926</td>\n",
       "        <td>0.995185508511567</td>\n",
       "    </tr>\n",
       "    <tr>\n",
       "        <td>2-Mass</td>\n",
       "        <td>Shorts</td>\n",
       "        <td>0.6765604539502401</td>\n",
       "        <td>0.8938040157136623</td>\n",
       "    </tr>\n",
       "    <tr>\n",
       "        <td>4-Designer</td>\n",
       "        <td>Sweaters</td>\n",
       "        <td>0.4975993016150153</td>\n",
       "        <td>0.8616927106067219</td>\n",
       "    </tr>\n",
       "    <tr>\n",
       "        <td>2-Mass</td>\n",
       "        <td>One Piece</td>\n",
       "        <td>0.37538192928852027</td>\n",
       "        <td>0.8469367088607594</td>\n",
       "    </tr>\n",
       "    <tr>\n",
       "        <td>2-Mass</td>\n",
       "        <td>Blazers</td>\n",
       "        <td>0.5805325185508512</td>\n",
       "        <td>0.8291165429943256</td>\n",
       "    </tr>\n",
       "    <tr>\n",
       "        <td>1-Value</td>\n",
       "        <td>Swim</td>\n",
       "        <td>0.5761676123963335</td>\n",
       "        <td>0.8291051942383239</td>\n",
       "    </tr>\n",
       "    <tr>\n",
       "        <td>3-Premium</td>\n",
       "        <td>Handbags</td>\n",
       "        <td>0.28808380619816676</td>\n",
       "        <td>0.8253024879965081</td>\n",
       "    </tr>\n",
       "    <tr>\n",
       "        <td>1-Value</td>\n",
       "        <td>Boots</td>\n",
       "        <td>0.42776080314273246</td>\n",
       "        <td>0.8218140549978177</td>\n",
       "    </tr>\n",
       "    <tr>\n",
       "        <td>2-Mass</td>\n",
       "        <td>Boots</td>\n",
       "        <td>0.37101702313400264</td>\n",
       "        <td>0.70400480139677</td>\n",
       "    </tr>\n",
       "    <tr>\n",
       "        <td>3-Premium</td>\n",
       "        <td>Coats &amp; Jackets</td>\n",
       "        <td>0.41903099083369705</td>\n",
       "        <td>0.6944600611086861</td>\n",
       "    </tr>\n",
       "    <tr>\n",
       "        <td>3-Premium</td>\n",
       "        <td>Active Tops</td>\n",
       "        <td>0.3841117415975556</td>\n",
       "        <td>0.6771890004364907</td>\n",
       "    </tr>\n",
       "    <tr>\n",
       "        <td>4-Designer</td>\n",
       "        <td>Skirts &amp; Skorts</td>\n",
       "        <td>0.33173286774334354</td>\n",
       "        <td>0.6288991706678307</td>\n",
       "    </tr>\n",
       "    <tr>\n",
       "        <td>4-Designer</td>\n",
       "        <td>Shoes</td>\n",
       "        <td>0.28808380619816676</td>\n",
       "        <td>0.6270720209515495</td>\n",
       "    </tr>\n",
       "    <tr>\n",
       "        <td>2-Mass</td>\n",
       "        <td>Shorts - Active</td>\n",
       "        <td>0.45831514622435615</td>\n",
       "        <td>0.5953972064600611</td>\n",
       "    </tr>\n",
       "    <tr>\n",
       "        <td>4-Designer</td>\n",
       "        <td>Pants</td>\n",
       "        <td>0.30554343081623747</td>\n",
       "        <td>0.5814797031863815</td>\n",
       "    </tr>\n",
       "    <tr>\n",
       "        <td>4-Designer</td>\n",
       "        <td>Coats &amp; Jackets</td>\n",
       "        <td>0.24879965080750766</td>\n",
       "        <td>0.5786084679179399</td>\n",
       "    </tr>\n",
       "    <tr>\n",
       "        <td>1-Value</td>\n",
       "        <td>Headwear</td>\n",
       "        <td>0.39284155390659103</td>\n",
       "        <td>0.5783020515058926</td>\n",
       "    </tr>\n",
       "    <tr>\n",
       "        <td>1-Value</td>\n",
       "        <td>Blazers</td>\n",
       "        <td>0.3622872108249673</td>\n",
       "        <td>0.5696604103011785</td>\n",
       "    </tr>\n",
       "    <tr>\n",
       "        <td>3-Premium</td>\n",
       "        <td>Active Pants</td>\n",
       "        <td>0.30990833697075515</td>\n",
       "        <td>0.5282697512003492</td>\n",
       "    </tr>\n",
       "    <tr>\n",
       "        <td>2-Mass</td>\n",
       "        <td>Leggings</td>\n",
       "        <td>0.30990833697075515</td>\n",
       "        <td>0.519561326931471</td>\n",
       "    </tr>\n",
       "    <tr>\n",
       "        <td>2-Mass</td>\n",
       "        <td>None</td>\n",
       "        <td>0.6765604539502401</td>\n",
       "        <td>0.5024137931034484</td>\n",
       "    </tr>\n",
       "    <tr>\n",
       "        <td>1-Value</td>\n",
       "        <td>Belts</td>\n",
       "        <td>0.3273679615888258</td>\n",
       "        <td>0.4551396769969445</td>\n",
       "    </tr>\n",
       "    <tr>\n",
       "        <td>4-Designer</td>\n",
       "        <td>Jeans</td>\n",
       "        <td>0.22697512003491926</td>\n",
       "        <td>0.4444853775643824</td>\n",
       "    </tr>\n",
       "    <tr>\n",
       "        <td>1-Value</td>\n",
       "        <td>Vest</td>\n",
       "        <td>0.2749890877346137</td>\n",
       "        <td>0.3980467044958534</td>\n",
       "    </tr>\n",
       "    <tr>\n",
       "        <td>3-Premium</td>\n",
       "        <td>Sweatshirts &amp; Fleece</td>\n",
       "        <td>0.22697512003491926</td>\n",
       "        <td>0.34647752073330423</td>\n",
       "    </tr>\n",
       "    <tr>\n",
       "        <td>1-Value</td>\n",
       "        <td>Shorts - Active</td>\n",
       "        <td>0.29681361850720206</td>\n",
       "        <td>0.33551811436054124</td>\n",
       "    </tr>\n",
       "    <tr>\n",
       "        <td>3-Premium</td>\n",
       "        <td>One Piece</td>\n",
       "        <td>0.1396769969445657</td>\n",
       "        <td>0.3334369271060672</td>\n",
       "    </tr>\n",
       "    <tr>\n",
       "        <td>2-Mass</td>\n",
       "        <td>Swim</td>\n",
       "        <td>0.2182453077258839</td>\n",
       "        <td>0.3209079004801397</td>\n",
       "    </tr>\n",
       "    <tr>\n",
       "        <td>4-Designer</td>\n",
       "        <td>Blazers</td>\n",
       "        <td>0.14840680925360103</td>\n",
       "        <td>0.2904469663902226</td>\n",
       "    </tr>\n",
       "    <tr>\n",
       "        <td>3-Premium</td>\n",
       "        <td>Shorts</td>\n",
       "        <td>0.21388040157136623</td>\n",
       "        <td>0.28315626364033175</td>\n",
       "    </tr>\n",
       "    <tr>\n",
       "        <td>3-Premium</td>\n",
       "        <td>Boots</td>\n",
       "        <td>0.16586643387167177</td>\n",
       "        <td>0.2813260584897425</td>\n",
       "    </tr>\n",
       "    <tr>\n",
       "        <td>2-Mass</td>\n",
       "        <td>Scarves &amp; Wraps</td>\n",
       "        <td>0.16586643387167177</td>\n",
       "        <td>0.2731488432998691</td>\n",
       "    </tr>\n",
       "    <tr>\n",
       "        <td>3-Premium</td>\n",
       "        <td>Blazers</td>\n",
       "        <td>0.18769096464426013</td>\n",
       "        <td>0.2722457442164994</td>\n",
       "    </tr>\n",
       "    <tr>\n",
       "        <td>3-Premium</td>\n",
       "        <td>None</td>\n",
       "        <td>0.32300305543430813</td>\n",
       "        <td>0.25452640768223483</td>\n",
       "    </tr>\n",
       "    <tr>\n",
       "        <td>4-Designer</td>\n",
       "        <td>None</td>\n",
       "        <td>0.19642077695329552</td>\n",
       "        <td>0.24560453950240071</td>\n",
       "    </tr>\n",
       "    <tr>\n",
       "        <td>2-Mass</td>\n",
       "        <td>Vest</td>\n",
       "        <td>0.1789611523352248</td>\n",
       "        <td>0.2116036665211698</td>\n",
       "    </tr>\n",
       "    <tr>\n",
       "        <td>2-Mass</td>\n",
       "        <td>Headwear</td>\n",
       "        <td>0.16586643387167177</td>\n",
       "        <td>0.18887210824967265</td>\n",
       "    </tr>\n",
       "    <tr>\n",
       "        <td>2-Mass</td>\n",
       "        <td>Bags &amp; Luggage</td>\n",
       "        <td>0.056743780008729816</td>\n",
       "        <td>0.16905106940200787</td>\n",
       "    </tr>\n",
       "    <tr>\n",
       "        <td>3-Premium</td>\n",
       "        <td>Swim</td>\n",
       "        <td>0.08293321693583589</td>\n",
       "        <td>0.14364862505456133</td>\n",
       "    </tr>\n",
       "    <tr>\n",
       "        <td>4-Designer</td>\n",
       "        <td>Boots</td>\n",
       "        <td>0.0785683107813182</td>\n",
       "        <td>0.14334002618943692</td>\n",
       "    </tr>\n",
       "    <tr>\n",
       "        <td>4-Designer</td>\n",
       "        <td>Wallet</td>\n",
       "        <td>0.09166302924487124</td>\n",
       "        <td>0.14272850283718902</td>\n",
       "    </tr>\n",
       "    <tr>\n",
       "        <td>4-Designer</td>\n",
       "        <td>Headwear</td>\n",
       "        <td>0.043649061545176775</td>\n",
       "        <td>0.1383238760366652</td>\n",
       "    </tr>\n",
       "    <tr>\n",
       "        <td>4-Designer</td>\n",
       "        <td>Tees &amp; Tanks</td>\n",
       "        <td>0.10475774770842426</td>\n",
       "        <td>0.1341737232649498</td>\n",
       "    </tr>\n",
       "    <tr>\n",
       "        <td>3-Premium</td>\n",
       "        <td>Scarves &amp; Wraps</td>\n",
       "        <td>0.09166302924487124</td>\n",
       "        <td>0.13147228284591883</td>\n",
       "    </tr>\n",
       "    <tr>\n",
       "        <td>1-Value</td>\n",
       "        <td>Cover up</td>\n",
       "        <td>0.04801396769969445</td>\n",
       "        <td>0.12579659537319948</td>\n",
       "    </tr>\n",
       "    <tr>\n",
       "        <td>1-Value</td>\n",
       "        <td>Winter Accessories</td>\n",
       "        <td>0.09166302924487124</td>\n",
       "        <td>0.12553251855085115</td>\n",
       "    </tr>\n",
       "    <tr>\n",
       "        <td>4-Designer</td>\n",
       "        <td>One Piece</td>\n",
       "        <td>0.043649061545176775</td>\n",
       "        <td>0.1110868616324749</td>\n",
       "    </tr>\n",
       "    <tr>\n",
       "        <td>2-Mass</td>\n",
       "        <td>Active Skirts / Skorts</td>\n",
       "        <td>0.0785683107813182</td>\n",
       "        <td>0.10541510257529461</td>\n",
       "    </tr>\n",
       "    <tr>\n",
       "        <td>1-Value</td>\n",
       "        <td>Overalls</td>\n",
       "        <td>0.06983849847228285</td>\n",
       "        <td>0.10392666957660411</td>\n",
       "    </tr>\n",
       "    <tr>\n",
       "        <td>3-Premium</td>\n",
       "        <td>Belts</td>\n",
       "        <td>0.06983849847228285</td>\n",
       "        <td>0.09786468790920995</td>\n",
       "    </tr>\n",
       "    <tr>\n",
       "        <td>3-Premium</td>\n",
       "        <td>Leggings</td>\n",
       "        <td>0.06547359231776517</td>\n",
       "        <td>0.09729375818419904</td>\n",
       "    </tr>\n",
       "    <tr>\n",
       "        <td>1-Value</td>\n",
       "        <td>Wallet</td>\n",
       "        <td>0.061108686163247494</td>\n",
       "        <td>0.09633173286774334</td>\n",
       "    </tr>\n",
       "    <tr>\n",
       "        <td>4-Designer</td>\n",
       "        <td>Bags &amp; Luggage</td>\n",
       "        <td>0.021824530772588387</td>\n",
       "        <td>0.09231776516804889</td>\n",
       "    </tr>\n",
       "    <tr>\n",
       "        <td>2-Mass</td>\n",
       "        <td>Belts</td>\n",
       "        <td>0.056743780008729816</td>\n",
       "        <td>0.08756132693147098</td>\n",
       "    </tr>\n",
       "    <tr>\n",
       "        <td>4-Designer</td>\n",
       "        <td>In the bag</td>\n",
       "        <td>0.034919249236141425</td>\n",
       "        <td>0.08581405499781755</td>\n",
       "    </tr>\n",
       "    <tr>\n",
       "        <td>1-Value</td>\n",
       "        <td>In the bag</td>\n",
       "        <td>0.06547359231776517</td>\n",
       "        <td>0.08485377564382365</td>\n",
       "    </tr>\n",
       "    <tr>\n",
       "        <td>3-Premium</td>\n",
       "        <td>Vest</td>\n",
       "        <td>0.061108686163247494</td>\n",
       "        <td>0.08450720209515496</td>\n",
       "    </tr>\n",
       "    <tr>\n",
       "        <td>1-Value</td>\n",
       "        <td>Bags &amp; Luggage</td>\n",
       "        <td>0.0392841553906591</td>\n",
       "        <td>0.08158140549978175</td>\n",
       "    </tr>\n",
       "    <tr>\n",
       "        <td>2-Mass</td>\n",
       "        <td>In the bag</td>\n",
       "        <td>0.043649061545176775</td>\n",
       "        <td>0.08013967699694456</td>\n",
       "    </tr>\n",
       "    <tr>\n",
       "        <td>4-Designer</td>\n",
       "        <td>Shorts</td>\n",
       "        <td>0.061108686163247494</td>\n",
       "        <td>0.07769358358795286</td>\n",
       "    </tr>\n",
       "    <tr>\n",
       "        <td>3-Premium</td>\n",
       "        <td>Headwear</td>\n",
       "        <td>0.0392841553906591</td>\n",
       "        <td>0.06656307289393278</td>\n",
       "    </tr>\n",
       "    <tr>\n",
       "        <td>4-Designer</td>\n",
       "        <td>Scarves &amp; Wraps</td>\n",
       "        <td>0.0392841553906591</td>\n",
       "        <td>0.06324749017896115</td>\n",
       "    </tr>\n",
       "    <tr>\n",
       "        <td>4-Designer</td>\n",
       "        <td>Swim</td>\n",
       "        <td>0.021824530772588387</td>\n",
       "        <td>0.06141422959406372</td>\n",
       "    </tr>\n",
       "    <tr>\n",
       "        <td>3-Premium</td>\n",
       "        <td>Wallet</td>\n",
       "        <td>0.0392841553906591</td>\n",
       "        <td>0.05683238760366652</td>\n",
       "    </tr>\n",
       "    <tr>\n",
       "        <td>2-Mass</td>\n",
       "        <td>Wallet</td>\n",
       "        <td>0.0392841553906591</td>\n",
       "        <td>0.0545185508511567</td>\n",
       "    </tr>\n",
       "    <tr>\n",
       "        <td>2-Mass</td>\n",
       "        <td>Winter Accessories</td>\n",
       "        <td>0.0392841553906591</td>\n",
       "        <td>0.05416892186817983</td>\n",
       "    </tr>\n",
       "    <tr>\n",
       "        <td>4-Designer</td>\n",
       "        <td>Belts</td>\n",
       "        <td>0.026189436927106065</td>\n",
       "        <td>0.04989087734613706</td>\n",
       "    </tr>\n",
       "    <tr>\n",
       "        <td>4-Designer</td>\n",
       "        <td>Sweatshirts &amp; Fleece</td>\n",
       "        <td>0.034919249236141425</td>\n",
       "        <td>0.04652989960715845</td>\n",
       "    </tr>\n",
       "    <tr>\n",
       "        <td>4-Designer</td>\n",
       "        <td>Overalls</td>\n",
       "        <td>0.008729812309035356</td>\n",
       "        <td>0.04063727629855958</td>\n",
       "    </tr>\n",
       "    <tr>\n",
       "        <td>3-Premium</td>\n",
       "        <td>Shorts - Active</td>\n",
       "        <td>0.030554343081623747</td>\n",
       "        <td>0.039066783064164126</td>\n",
       "    </tr>\n",
       "    <tr>\n",
       "        <td>2-Mass</td>\n",
       "        <td>Active Dress</td>\n",
       "        <td>0.021824530772588387</td>\n",
       "        <td>0.036054124836316016</td>\n",
       "    </tr>\n",
       "    <tr>\n",
       "        <td>4-Designer</td>\n",
       "        <td>Active Tops</td>\n",
       "        <td>0.013094718463553033</td>\n",
       "        <td>0.034919685726756876</td>\n",
       "    </tr>\n",
       "    <tr>\n",
       "        <td>3-Premium</td>\n",
       "        <td>Bags &amp; Luggage</td>\n",
       "        <td>0.017459624618070713</td>\n",
       "        <td>0.03212570929725011</td>\n",
       "    </tr>\n",
       "    <tr>\n",
       "        <td>1-Value</td>\n",
       "        <td>Watches</td>\n",
       "        <td>0.013094718463553033</td>\n",
       "        <td>0.030510694020078565</td>\n",
       "    </tr>\n",
       "    <tr>\n",
       "        <td>3-Premium</td>\n",
       "        <td>Watches</td>\n",
       "        <td>0.017459624618070713</td>\n",
       "        <td>0.027455259711916195</td>\n",
       "    </tr>\n",
       "    <tr>\n",
       "        <td>2-Mass</td>\n",
       "        <td>Overalls</td>\n",
       "        <td>0.017459624618070713</td>\n",
       "        <td>0.02479266695766041</td>\n",
       "    </tr>\n",
       "    <tr>\n",
       "        <td>3-Premium</td>\n",
       "        <td>Cover up</td>\n",
       "        <td>0.017459624618070713</td>\n",
       "        <td>0.024181580096027937</td>\n",
       "    </tr>\n",
       "    <tr>\n",
       "        <td>1-Value</td>\n",
       "        <td>Active Skirts / Skorts</td>\n",
       "        <td>0.021824530772588387</td>\n",
       "        <td>0.02352684417285028</td>\n",
       "    </tr>\n",
       "    <tr>\n",
       "        <td>3-Premium</td>\n",
       "        <td>Overalls</td>\n",
       "        <td>0.008729812309035356</td>\n",
       "        <td>0.021475338280226977</td>\n",
       "    </tr>\n",
       "    <tr>\n",
       "        <td>3-Premium</td>\n",
       "        <td>In the bag</td>\n",
       "        <td>0.008729812309035356</td>\n",
       "        <td>0.020689655172413793</td>\n",
       "    </tr>\n",
       "    <tr>\n",
       "        <td>3-Premium</td>\n",
       "        <td>Winter Accessories</td>\n",
       "        <td>0.008729812309035356</td>\n",
       "        <td>0.02034046268005238</td>\n",
       "    </tr>\n",
       "    <tr>\n",
       "        <td>4-Designer</td>\n",
       "        <td>Vest</td>\n",
       "        <td>0.013094718463553033</td>\n",
       "        <td>0.020122653862941944</td>\n",
       "    </tr>\n",
       "    <tr>\n",
       "        <td>4-Designer</td>\n",
       "        <td>Leggings</td>\n",
       "        <td>0.008729812309035356</td>\n",
       "        <td>0.019074639895242253</td>\n",
       "    </tr>\n",
       "    <tr>\n",
       "        <td>4-Designer</td>\n",
       "        <td>Cover up</td>\n",
       "        <td>0.004364906154517678</td>\n",
       "        <td>0.01732867743343518</td>\n",
       "    </tr>\n",
       "    <tr>\n",
       "        <td>4-Designer</td>\n",
       "        <td>Active Pants</td>\n",
       "        <td>0.008729812309035356</td>\n",
       "        <td>0.014927979048450458</td>\n",
       "    </tr>\n",
       "    <tr>\n",
       "        <td>3-Premium</td>\n",
       "        <td>Active Dress</td>\n",
       "        <td>0.008729812309035356</td>\n",
       "        <td>0.014709733740724575</td>\n",
       "    </tr>\n",
       "    <tr>\n",
       "        <td>2-Mass</td>\n",
       "        <td>Watches</td>\n",
       "        <td>0.008729812309035356</td>\n",
       "        <td>0.014273243125272807</td>\n",
       "    </tr>\n",
       "    <tr>\n",
       "        <td>4-Designer</td>\n",
       "        <td>Tights &amp; Hosiery</td>\n",
       "        <td>0.004364906154517678</td>\n",
       "        <td>0.009035355739851593</td>\n",
       "    </tr>\n",
       "    <tr>\n",
       "        <td>2-Mass</td>\n",
       "        <td>Cover up</td>\n",
       "        <td>0.008729812309035356</td>\n",
       "        <td>0.008904408555216063</td>\n",
       "    </tr>\n",
       "    <tr>\n",
       "        <td>1-Value</td>\n",
       "        <td>Tights &amp; Hosiery</td>\n",
       "        <td>0.008729812309035356</td>\n",
       "        <td>0.006852902662592754</td>\n",
       "    </tr>\n",
       "    <tr>\n",
       "        <td>2-Mass</td>\n",
       "        <td>Tights &amp; Hosiery</td>\n",
       "        <td>0.004364906154517678</td>\n",
       "        <td>0.004190309908336971</td>\n",
       "    </tr>\n",
       "    <tr>\n",
       "        <td>3-Premium</td>\n",
       "        <td>Tights &amp; Hosiery</td>\n",
       "        <td>0.004364906154517678</td>\n",
       "        <td>0.004190309908336971</td>\n",
       "    </tr>\n",
       "    <tr>\n",
       "        <td>1-Value</td>\n",
       "        <td>Active Dress</td>\n",
       "        <td>0.004364906154517678</td>\n",
       "        <td>0.0023134002618943692</td>\n",
       "    </tr>\n",
       "</table>"
      ],
      "text/plain": [
       "[('1-Value', 'Tops & Blouses & Shirts', 9.580969009166303, 13.623179834133566),\n",
       " ('2-Mass', 'Tops & Blouses & Shirts', 7.114797031863815, 10.706346573548668),\n",
       " ('1-Value', 'Dresses', 5.822784810126582, 9.446303797468353),\n",
       " ('2-Mass', 'Dresses', 4.251418594500218, 7.036097773897861),\n",
       " ('1-Value', 'Sweaters', 4.552597119161938, 6.9677498908773465),\n",
       " ('1-Value', 'Tees & Tanks', 5.032736796158883, 6.318097773897862),\n",
       " ('2-Mass', 'Sweaters', 3.736359668267132, 5.782016586643387),\n",
       " ('2-Mass', 'Pants', 2.4487123526844172, 4.441719336534264),\n",
       " ('3-Premium', 'Tops & Blouses & Shirts', 2.684417285028372, 4.083535573985159),\n",
       " ('1-Value', 'Jeans', 2.2304670449585333, 3.9597481449148844),\n",
       " ('1-Value', 'Pants', 2.3788738542121344, 3.8364098646879095),\n",
       " ('3-Premium', 'Dresses', 1.8463553033609779, 3.2106272370144042),\n",
       " ('1-Value', 'Skirts & Skorts', 2.1082496726320383, 3.074671322566565),\n",
       " ('2-Mass', 'Tees & Tanks', 2.1562636403317326, 2.886590135312091),\n",
       " ('2-Mass', 'Jeans', 1.6062854648625053, 2.8082688782191183),\n",
       " ('2-Mass', 'Skirts & Skorts', 1.6979484941073768, 2.4715338280226975),\n",
       " ('3-Premium', 'Sweaters', 1.5495416848537757, 2.4473461370580534),\n",
       " ('2-Mass', 'Shoes', 1.4666084679179399, 2.3954116106503713),\n",
       " ('1-Value', 'Coats & Jackets', 1.4229594063727629, 2.340910519423832),\n",
       " ('2-Mass', 'Coats & Jackets', 1.3138367525098211, 2.0594391095591447),\n",
       " ('1-Value', 'Handbags', 0.7682234831951112, 1.9722601484068092),\n",
       " ('4-Designer', 'Dresses', 0.894805761676124, 1.8994041903099086),\n",
       " ('1-Value', 'One Piece', 1.2701876909646441, 1.845074639895242),\n",
       " ('2-Mass', 'Active Pants', 1.1305106940200786, 1.8210266259275427),\n",
       " ('1-Value', 'Sweatshirts & Fleece', 1.069402007856831, 1.7593801833260585),\n",
       " ('3-Premium', 'Jeans', 0.9777389786119599, 1.7412553470100394),\n",
       " ('1-Value', 'Shorts', 1.5189873417721518, 1.6614683544303797),\n",
       " ('1-Value', 'Shoes', 0.9821038847664776, 1.6425687472719337),\n",
       " ('2-Mass', 'Handbags', 0.6154517677869926, 1.5541388040157138),\n",
       " ('1-Value', 'Scarves & Wraps', 1.4404190309908338, 1.484351811436054),\n",
       " ('4-Designer', 'Handbags', 0.48886948930597995, 1.4748214753382805),\n",
       " ('2-Mass', 'Active Tops', 1.056307289393278, 1.4440776953295504),\n",
       " ('3-Premium', 'Pants', 0.8336970755128764, 1.417618507202095),\n",
       " ('1-Value', 'Active Pants', 0.9079004801396771, 1.3584914884329986),\n",
       " ('1-Value', None, 1.938018332605849, 1.334325621999127),\n",
       " ('1-Value', 'Leggings', 0.92099519860323, 1.3036687036228722),\n",
       " ('4-Designer', 'Tops & Blouses & Shirts', 0.7114797031863814, 1.1841156700130946),\n",
       " ('1-Value', 'Active Tops', 0.8642514185945003, 1.1663937145351377),\n",
       " ('3-Premium', 'Skirts & Skorts', 0.7245744216499346, 1.1377992143168922),\n",
       " ('2-Mass', 'Sweatshirts & Fleece', 0.7333042339589699, 1.1058227848101267),\n",
       " ('3-Premium', 'Tees & Tanks', 0.7638585770405936, 1.0392295940637277),\n",
       " ('3-Premium', 'Shoes', 0.6154517677869926, 0.995185508511567),\n",
       " ('2-Mass', 'Shorts', 0.6765604539502401, 0.8938040157136623),\n",
       " ('4-Designer', 'Sweaters', 0.4975993016150153, 0.8616927106067219),\n",
       " ('2-Mass', 'One Piece', 0.37538192928852027, 0.8469367088607594),\n",
       " ('2-Mass', 'Blazers', 0.5805325185508512, 0.8291165429943256),\n",
       " ('1-Value', 'Swim', 0.5761676123963335, 0.8291051942383239),\n",
       " ('3-Premium', 'Handbags', 0.28808380619816676, 0.8253024879965081),\n",
       " ('1-Value', 'Boots', 0.42776080314273246, 0.8218140549978177),\n",
       " ('2-Mass', 'Boots', 0.37101702313400264, 0.70400480139677),\n",
       " ('3-Premium', 'Coats & Jackets', 0.41903099083369705, 0.6944600611086861),\n",
       " ('3-Premium', 'Active Tops', 0.3841117415975556, 0.6771890004364907),\n",
       " ('4-Designer', 'Skirts & Skorts', 0.33173286774334354, 0.6288991706678307),\n",
       " ('4-Designer', 'Shoes', 0.28808380619816676, 0.6270720209515495),\n",
       " ('2-Mass', 'Shorts - Active', 0.45831514622435615, 0.5953972064600611),\n",
       " ('4-Designer', 'Pants', 0.30554343081623747, 0.5814797031863815),\n",
       " ('4-Designer', 'Coats & Jackets', 0.24879965080750766, 0.5786084679179399),\n",
       " ('1-Value', 'Headwear', 0.39284155390659103, 0.5783020515058926),\n",
       " ('1-Value', 'Blazers', 0.3622872108249673, 0.5696604103011785),\n",
       " ('3-Premium', 'Active Pants', 0.30990833697075515, 0.5282697512003492),\n",
       " ('2-Mass', 'Leggings', 0.30990833697075515, 0.519561326931471),\n",
       " ('2-Mass', None, 0.6765604539502401, 0.5024137931034484),\n",
       " ('1-Value', 'Belts', 0.3273679615888258, 0.4551396769969445),\n",
       " ('4-Designer', 'Jeans', 0.22697512003491926, 0.4444853775643824),\n",
       " ('1-Value', 'Vest', 0.2749890877346137, 0.3980467044958534),\n",
       " ('3-Premium', 'Sweatshirts & Fleece', 0.22697512003491926, 0.34647752073330423),\n",
       " ('1-Value', 'Shorts - Active', 0.29681361850720206, 0.33551811436054124),\n",
       " ('3-Premium', 'One Piece', 0.1396769969445657, 0.3334369271060672),\n",
       " ('2-Mass', 'Swim', 0.2182453077258839, 0.3209079004801397),\n",
       " ('4-Designer', 'Blazers', 0.14840680925360103, 0.2904469663902226),\n",
       " ('3-Premium', 'Shorts', 0.21388040157136623, 0.28315626364033175),\n",
       " ('3-Premium', 'Boots', 0.16586643387167177, 0.2813260584897425),\n",
       " ('2-Mass', 'Scarves & Wraps', 0.16586643387167177, 0.2731488432998691),\n",
       " ('3-Premium', 'Blazers', 0.18769096464426013, 0.2722457442164994),\n",
       " ('3-Premium', None, 0.32300305543430813, 0.25452640768223483),\n",
       " ('4-Designer', None, 0.19642077695329552, 0.24560453950240071),\n",
       " ('2-Mass', 'Vest', 0.1789611523352248, 0.2116036665211698),\n",
       " ('2-Mass', 'Headwear', 0.16586643387167177, 0.18887210824967265),\n",
       " ('2-Mass', 'Bags & Luggage', 0.056743780008729816, 0.16905106940200787),\n",
       " ('3-Premium', 'Swim', 0.08293321693583589, 0.14364862505456133),\n",
       " ('4-Designer', 'Boots', 0.0785683107813182, 0.14334002618943692),\n",
       " ('4-Designer', 'Wallet', 0.09166302924487124, 0.14272850283718902),\n",
       " ('4-Designer', 'Headwear', 0.043649061545176775, 0.1383238760366652),\n",
       " ('4-Designer', 'Tees & Tanks', 0.10475774770842426, 0.1341737232649498),\n",
       " ('3-Premium', 'Scarves & Wraps', 0.09166302924487124, 0.13147228284591883),\n",
       " ('1-Value', 'Cover up', 0.04801396769969445, 0.12579659537319948),\n",
       " ('1-Value', 'Winter Accessories', 0.09166302924487124, 0.12553251855085115),\n",
       " ('4-Designer', 'One Piece', 0.043649061545176775, 0.1110868616324749),\n",
       " ('2-Mass', 'Active Skirts / Skorts', 0.0785683107813182, 0.10541510257529461),\n",
       " ('1-Value', 'Overalls', 0.06983849847228285, 0.10392666957660411),\n",
       " ('3-Premium', 'Belts', 0.06983849847228285, 0.09786468790920995),\n",
       " ('3-Premium', 'Leggings', 0.06547359231776517, 0.09729375818419904),\n",
       " ('1-Value', 'Wallet', 0.061108686163247494, 0.09633173286774334),\n",
       " ('4-Designer', 'Bags & Luggage', 0.021824530772588387, 0.09231776516804889),\n",
       " ('2-Mass', 'Belts', 0.056743780008729816, 0.08756132693147098),\n",
       " ('4-Designer', 'In the bag', 0.034919249236141425, 0.08581405499781755),\n",
       " ('1-Value', 'In the bag', 0.06547359231776517, 0.08485377564382365),\n",
       " ('3-Premium', 'Vest', 0.061108686163247494, 0.08450720209515496),\n",
       " ('1-Value', 'Bags & Luggage', 0.0392841553906591, 0.08158140549978175),\n",
       " ('2-Mass', 'In the bag', 0.043649061545176775, 0.08013967699694456),\n",
       " ('4-Designer', 'Shorts', 0.061108686163247494, 0.07769358358795286),\n",
       " ('3-Premium', 'Headwear', 0.0392841553906591, 0.06656307289393278),\n",
       " ('4-Designer', 'Scarves & Wraps', 0.0392841553906591, 0.06324749017896115),\n",
       " ('4-Designer', 'Swim', 0.021824530772588387, 0.06141422959406372),\n",
       " ('3-Premium', 'Wallet', 0.0392841553906591, 0.05683238760366652),\n",
       " ('2-Mass', 'Wallet', 0.0392841553906591, 0.0545185508511567),\n",
       " ('2-Mass', 'Winter Accessories', 0.0392841553906591, 0.05416892186817983),\n",
       " ('4-Designer', 'Belts', 0.026189436927106065, 0.04989087734613706),\n",
       " ('4-Designer', 'Sweatshirts & Fleece', 0.034919249236141425, 0.04652989960715845),\n",
       " ('4-Designer', 'Overalls', 0.008729812309035356, 0.04063727629855958),\n",
       " ('3-Premium', 'Shorts - Active', 0.030554343081623747, 0.039066783064164126),\n",
       " ('2-Mass', 'Active Dress', 0.021824530772588387, 0.036054124836316016),\n",
       " ('4-Designer', 'Active Tops', 0.013094718463553033, 0.034919685726756876),\n",
       " ('3-Premium', 'Bags & Luggage', 0.017459624618070713, 0.03212570929725011),\n",
       " ('1-Value', 'Watches', 0.013094718463553033, 0.030510694020078565),\n",
       " ('3-Premium', 'Watches', 0.017459624618070713, 0.027455259711916195),\n",
       " ('2-Mass', 'Overalls', 0.017459624618070713, 0.02479266695766041),\n",
       " ('3-Premium', 'Cover up', 0.017459624618070713, 0.024181580096027937),\n",
       " ('1-Value', 'Active Skirts / Skorts', 0.021824530772588387, 0.02352684417285028),\n",
       " ('3-Premium', 'Overalls', 0.008729812309035356, 0.021475338280226977),\n",
       " ('3-Premium', 'In the bag', 0.008729812309035356, 0.020689655172413793),\n",
       " ('3-Premium', 'Winter Accessories', 0.008729812309035356, 0.02034046268005238),\n",
       " ('4-Designer', 'Vest', 0.013094718463553033, 0.020122653862941944),\n",
       " ('4-Designer', 'Leggings', 0.008729812309035356, 0.019074639895242253),\n",
       " ('4-Designer', 'Cover up', 0.004364906154517678, 0.01732867743343518),\n",
       " ('4-Designer', 'Active Pants', 0.008729812309035356, 0.014927979048450458),\n",
       " ('3-Premium', 'Active Dress', 0.008729812309035356, 0.014709733740724575),\n",
       " ('2-Mass', 'Watches', 0.008729812309035356, 0.014273243125272807),\n",
       " ('4-Designer', 'Tights & Hosiery', 0.004364906154517678, 0.009035355739851593),\n",
       " ('2-Mass', 'Cover up', 0.008729812309035356, 0.008904408555216063),\n",
       " ('1-Value', 'Tights & Hosiery', 0.008729812309035356, 0.006852902662592754),\n",
       " ('2-Mass', 'Tights & Hosiery', 0.004364906154517678, 0.004190309908336971),\n",
       " ('3-Premium', 'Tights & Hosiery', 0.004364906154517678, 0.004190309908336971),\n",
       " ('1-Value', 'Active Dress', 0.004364906154517678, 0.0023134002618943692)]"
      ]
     },
     "execution_count": 10,
     "metadata": {},
     "output_type": "execute_result"
    }
   ],
   "source": [
    "%%sql \n",
    "/*average total processing time by item_category and brand group rounded to two decimal places*/\n",
    "WITH cte AS (\n",
    "SELECT DISTINCT brand_tier_group, item_category,\n",
    "    CAST(COUNT(item_id) OVER(partition by brand_tier_group, item_category) AS FLOAT)/COUNT(item_id) OVER() as rate_inventory,\n",
    "    ROUND(AVG(total_time) OVER(PARTITION BY brand_tier_group, item_category),2) AS AVG_processing_time\n",
    "FROM merch_processing\n",
    "WHERE brand_tier_group NOT NULL AND item_id NOT NULL)\n",
    "\n",
    "SELECT brand_tier_group, item_category, rate_inventory*100 AS percent_inventory, \n",
    "        rate_inventory*AVG_processing_time AS weighted_avg_time\n",
    "FROM cte\n",
    "ORDER BY weighted_avg_time DESC"
   ]
  },
  {
   "cell_type": "code",
   "execution_count": 11,
   "metadata": {},
   "outputs": [
    {
     "name": "stdout",
     "output_type": "stream",
     "text": [
      " * sqlite:///merchprocessingdb.sql\n",
      "Done.\n"
     ]
    },
    {
     "data": {
      "text/html": [
       "<table>\n",
       "    <tr>\n",
       "        <th>warehouse</th>\n",
       "        <th>percent_of_inventory</th>\n",
       "        <th>weighted_avg_time</th>\n",
       "        <th>sum_weighted_avg</th>\n",
       "    </tr>\n",
       "    <tr>\n",
       "        <td>DC02</td>\n",
       "        <td>32.9253170126805</td>\n",
       "        <td>53.595831033241325</td>\n",
       "        <td>148.6322580903236</td>\n",
       "    </tr>\n",
       "    <tr>\n",
       "        <td>DC05</td>\n",
       "        <td>32.03328133125325</td>\n",
       "        <td>47.912178887155484</td>\n",
       "        <td>148.6322580903236</td>\n",
       "    </tr>\n",
       "    <tr>\n",
       "        <td>DC03</td>\n",
       "        <td>17.584703388135527</td>\n",
       "        <td>25.884683387335492</td>\n",
       "        <td>148.6322580903236</td>\n",
       "    </tr>\n",
       "    <tr>\n",
       "        <td>DC04</td>\n",
       "        <td>17.45669826793072</td>\n",
       "        <td>21.239564782591305</td>\n",
       "        <td>148.6322580903236</td>\n",
       "    </tr>\n",
       "</table>"
      ],
      "text/plain": [
       "[('DC02', 32.9253170126805, 53.595831033241325, 148.6322580903236),\n",
       " ('DC05', 32.03328133125325, 47.912178887155484, 148.6322580903236),\n",
       " ('DC03', 17.584703388135527, 25.884683387335492, 148.6322580903236),\n",
       " ('DC04', 17.45669826793072, 21.239564782591305, 148.6322580903236)]"
      ]
     },
     "execution_count": 11,
     "metadata": {},
     "output_type": "execute_result"
    }
   ],
   "source": [
    "%%sql\n",
    "/* number of items and average processing time overall by warehouse*/\n",
    "WITH cte AS (\n",
    "SELECT DISTINCT warehouse, \n",
    "        CAST(COUNT(item_id) OVER(partition by warehouse) AS FLOAT)/COUNT(item_id) OVER() AS item_count_rate, \n",
    "        ROUND(AVG(total_time) OVER(PARTITION BY warehouse), 2) AS avg_processing_time\n",
    "FROM merch_processing \n",
    "WHERE item_id NOT NULL )\n",
    "\n",
    "SELECT warehouse, item_count_rate*100 AS percent_of_inventory, item_count_rate*avg_processing_time AS weighted_avg_time,\n",
    "        SUM(item_count_rate*avg_processing_time) OVER() AS sum_weighted_avg\n",
    "FROM cte\n",
    "ORDER BY weighted_avg_time DESC"
   ]
  },
  {
   "cell_type": "code",
   "execution_count": 12,
   "metadata": {},
   "outputs": [
    {
     "name": "stdout",
     "output_type": "stream",
     "text": [
      " * sqlite:///merchprocessingdb.sql\n",
      "Done.\n"
     ]
    },
    {
     "data": {
      "text/html": [
       "<table>\n",
       "    <tr>\n",
       "        <th>item_category</th>\n",
       "        <th>percent_of_items</th>\n",
       "        <th>weighted_avg_total</th>\n",
       "        <th>sum_weighted_avg_total</th>\n",
       "        <th>avg_weighted_avg_total</th>\n",
       "        <th>weighted_merch</th>\n",
       "        <th>weighted_itemization</th>\n",
       "        <th>weighted_photo_station</th>\n",
       "        <th>weighted_qa_time</th>\n",
       "    </tr>\n",
       "    <tr>\n",
       "        <td>Tops &amp; Blouses &amp; Shirts</td>\n",
       "        <td>20.397322392571798</td>\n",
       "        <td>29.873918376160656</td>\n",
       "        <td>155.10787734830495</td>\n",
       "        <td>4.561996392597204</td>\n",
       "        <td>6.345606996329086</td>\n",
       "        <td>10.912567480025912</td>\n",
       "        <td>14.123106024616712</td>\n",
       "        <td>1.5399978406391708</td>\n",
       "    </tr>\n",
       "    <tr>\n",
       "        <td>Dresses</td>\n",
       "        <td>13.159144893111637</td>\n",
       "        <td>22.031040380047504</td>\n",
       "        <td>155.10787734830495</td>\n",
       "        <td>4.561996392597204</td>\n",
       "        <td>4.393838479809976</td>\n",
       "        <td>7.512555819477434</td>\n",
       "        <td>10.429938242280285</td>\n",
       "        <td>1.0395724465558194</td>\n",
       "    </tr>\n",
       "    <tr>\n",
       "        <td>Sweaters</td>\n",
       "        <td>10.46426257827683</td>\n",
       "        <td>16.18088922478946</td>\n",
       "        <td>155.10787734830495</td>\n",
       "        <td>4.561996392597204</td>\n",
       "        <td>3.479367307277046</td>\n",
       "        <td>5.538734182681926</td>\n",
       "        <td>7.4986905635931755</td>\n",
       "        <td>0.7011055927445476</td>\n",
       "    </tr>\n",
       "    <tr>\n",
       "        <td>Tees &amp; Tanks</td>\n",
       "        <td>8.594256100194341</td>\n",
       "        <td>10.82962211185489</td>\n",
       "        <td>155.10787734830495</td>\n",
       "        <td>4.561996392597204</td>\n",
       "        <td>2.6246858129993518</td>\n",
       "        <td>4.190559274454761</td>\n",
       "        <td>5.172882746706974</td>\n",
       "        <td>0.5646426257827682</td>\n",
       "    </tr>\n",
       "    <tr>\n",
       "        <td>Pants</td>\n",
       "        <td>6.128266033254157</td>\n",
       "        <td>10.405182897862232</td>\n",
       "        <td>155.10787734830495</td>\n",
       "        <td>4.561996392597204</td>\n",
       "        <td>1.9922992874109262</td>\n",
       "        <td>3.9705035629453684</td>\n",
       "        <td>5.08646080760095</td>\n",
       "        <td>0.4130451306413302</td>\n",
       "    </tr>\n",
       "    <tr>\n",
       "        <td>Jeans</td>\n",
       "        <td>5.195422155042108</td>\n",
       "        <td>9.09718419347873</td>\n",
       "        <td>155.10787734830495</td>\n",
       "        <td>4.561996392597204</td>\n",
       "        <td>1.7581308572662495</td>\n",
       "        <td>3.310522997192831</td>\n",
       "        <td>4.4898838263873895</td>\n",
       "        <td>0.4701857050313108</td>\n",
       "    </tr>\n",
       "    <tr>\n",
       "        <td>Skirts &amp; Skorts</td>\n",
       "        <td>4.901749082271648</td>\n",
       "        <td>7.313409630749297</td>\n",
       "        <td>155.10787734830495</td>\n",
       "        <td>4.561996392597204</td>\n",
       "        <td>1.4783675232131288</td>\n",
       "        <td>2.62782768300583</td>\n",
       "        <td>3.889537896782552</td>\n",
       "        <td>0.37988555387605266</td>\n",
       "    </tr>\n",
       "    <tr>\n",
       "        <td>Coats &amp; Jackets</td>\n",
       "        <td>3.5068019866119626</td>\n",
       "        <td>5.843734830490174</td>\n",
       "        <td>155.10787734830495</td>\n",
       "        <td>4.561996392597204</td>\n",
       "        <td>1.3059330598142949</td>\n",
       "        <td>1.9245329302526453</td>\n",
       "        <td>2.7454752753185057</td>\n",
       "        <td>0.3401597927013604</td>\n",
       "    </tr>\n",
       "    <tr>\n",
       "        <td>Handbags</td>\n",
       "        <td>2.142085942561002</td>\n",
       "        <td>5.7699226948823155</td>\n",
       "        <td>155.10787734830495</td>\n",
       "        <td>4.561996392597204</td>\n",
       "        <td>0.7343070611099115</td>\n",
       "        <td>1.7944253940833512</td>\n",
       "        <td>3.816554523860937</td>\n",
       "        <td>0.22106326927229542</td>\n",
       "    </tr>\n",
       "    <tr>\n",
       "        <td>Shoes</td>\n",
       "        <td>3.3729216152019</td>\n",
       "        <td>5.722498812351543</td>\n",
       "        <td>155.10787734830495</td>\n",
       "        <td>4.561996392597204</td>\n",
       "        <td>1.292166270783848</td>\n",
       "        <td>2.1805938242280285</td>\n",
       "        <td>2.304380047505938</td>\n",
       "        <td>0.4087980997624703</td>\n",
       "    </tr>\n",
       "    <tr>\n",
       "        <td>Active Pants</td>\n",
       "        <td>2.4832649535737423</td>\n",
       "        <td>3.8738933275750376</td>\n",
       "        <td>155.10787734830495</td>\n",
       "        <td>4.561996392597204</td>\n",
       "        <td>0.7494493629885554</td>\n",
       "        <td>1.3302850356294538</td>\n",
       "        <td>1.8701468365363854</td>\n",
       "        <td>0.18872813647160439</td>\n",
       "    </tr>\n",
       "    <tr>\n",
       "        <td>One Piece</td>\n",
       "        <td>2.2716475923126755</td>\n",
       "        <td>3.5069695530123086</td>\n",
       "        <td>155.10787734830495</td>\n",
       "        <td>4.561996392597204</td>\n",
       "        <td>0.7326063485208378</td>\n",
       "        <td>1.3111949902828763</td>\n",
       "        <td>2.5433366443532712</td>\n",
       "        <td>1.875699416972576</td>\n",
       "    </tr>\n",
       "    <tr>\n",
       "        <td>Sweatshirts &amp; Fleece</td>\n",
       "        <td>2.1982293241200606</td>\n",
       "        <td>3.4430865903692505</td>\n",
       "        <td>155.10787734830495</td>\n",
       "        <td>4.561996392597204</td>\n",
       "        <td>0.7797119412653855</td>\n",
       "        <td>1.1538505722306198</td>\n",
       "        <td>1.6055866983372924</td>\n",
       "        <td>0.14024703087885987</td>\n",
       "    </tr>\n",
       "    <tr>\n",
       "        <td>Active Tops</td>\n",
       "        <td>2.3364284171885124</td>\n",
       "        <td>3.340158065212697</td>\n",
       "        <td>155.10787734830495</td>\n",
       "        <td>4.561996392597204</td>\n",
       "        <td>0.733404880155474</td>\n",
       "        <td>1.2705497732671132</td>\n",
       "        <td>1.455594903908443</td>\n",
       "        <td>0.17850313107320234</td>\n",
       "    </tr>\n",
       "    <tr>\n",
       "        <td>Shorts</td>\n",
       "        <td>2.7855754696609805</td>\n",
       "        <td>3.1797343986180095</td>\n",
       "        <td>155.10787734830495</td>\n",
       "        <td>4.561996392597204</td>\n",
       "        <td>0.8223018786439215</td>\n",
       "        <td>1.6543532714316562</td>\n",
       "        <td>1.5916778233642843</td>\n",
       "        <td>0.11782984236665948</td>\n",
       "    </tr>\n",
       "    <tr>\n",
       "        <td>Leggings</td>\n",
       "        <td>1.4726840855106889</td>\n",
       "        <td>2.112418052256532</td>\n",
       "        <td>155.10787734830495</td>\n",
       "        <td>4.561996392597204</td>\n",
       "        <td>0.4593301662707838</td>\n",
       "        <td>0.8071781472684085</td>\n",
       "        <td>1.08433729216152</td>\n",
       "        <td>0.08099762470308788</td>\n",
       "    </tr>\n",
       "    <tr>\n",
       "        <td>Boots</td>\n",
       "        <td>1.0667242496221119</td>\n",
       "        <td>1.9719464478514361</td>\n",
       "        <td>155.10787734830495</td>\n",
       "        <td>4.561996392597204</td>\n",
       "        <td>0.45570459943856617</td>\n",
       "        <td>0.6380077736989851</td>\n",
       "        <td>0.9066089397538328</td>\n",
       "        <td>0.09600518246599006</td>\n",
       "    </tr>\n",
       "    <tr>\n",
       "        <td>Blazers</td>\n",
       "        <td>1.2697041675664003</td>\n",
       "        <td>1.951662275966314</td>\n",
       "        <td>155.10787734830495</td>\n",
       "        <td>4.561996392597204</td>\n",
       "        <td>0.44477736989851</td>\n",
       "        <td>0.6055219175124162</td>\n",
       "        <td>0.8904435327143165</td>\n",
       "        <td>0.07351587130209458</td>\n",
       "    </tr>\n",
       "    <tr>\n",
       "        <td>Scarves &amp; Wraps</td>\n",
       "        <td>1.7231699416972577</td>\n",
       "        <td>1.9383938674152452</td>\n",
       "        <td>155.10787734830495</td>\n",
       "        <td>4.561996392597204</td>\n",
       "        <td>0.5260837832001728</td>\n",
       "        <td>0.8465933923558627</td>\n",
       "        <td>1.0647467069747356</td>\n",
       "        <td>0.10907665730943641</td>\n",
       "    </tr>\n",
       "    <tr>\n",
       "        <td>Swim</td>\n",
       "        <td>0.9285251565536602</td>\n",
       "        <td>1.4057870870222415</td>\n",
       "        <td>155.10787734830495</td>\n",
       "        <td>4.561996392597204</td>\n",
       "        <td>0.35386093716259986</td>\n",
       "        <td>0.4914683653638523</td>\n",
       "        <td>0.65702440077737</td>\n",
       "        <td>0.08765277477866551</td>\n",
       "    </tr>\n",
       "    <tr>\n",
       "        <td>Headwear</td>\n",
       "        <td>0.7082703519758151</td>\n",
       "        <td>1.0555353055495573</td>\n",
       "        <td>155.10787734830495</td>\n",
       "        <td>4.561996392597204</td>\n",
       "        <td>0.22445087454113583</td>\n",
       "        <td>0.48148218527315917</td>\n",
       "        <td>0.41844612394731157</td>\n",
       "        <td>0.03711336644353271</td>\n",
       "    </tr>\n",
       "    <tr>\n",
       "        <td>Shorts - Active</td>\n",
       "        <td>0.8248758367523213</td>\n",
       "        <td>0.9943878212049233</td>\n",
       "        <td>155.10787734830495</td>\n",
       "        <td>4.561996392597204</td>\n",
       "        <td>0.23789419131936948</td>\n",
       "        <td>0.4135927445476139</td>\n",
       "        <td>0.42250140358453897</td>\n",
       "        <td>0.07234161088317857</td>\n",
       "    </tr>\n",
       "    <tr>\n",
       "        <td>Vest</td>\n",
       "        <td>0.5312027639818614</td>\n",
       "        <td>0.7139896350680198</td>\n",
       "        <td>155.10787734830495</td>\n",
       "        <td>4.561996392597204</td>\n",
       "        <td>0.1600513927877348</td>\n",
       "        <td>0.27978449578924636</td>\n",
       "        <td>0.317074929820773</td>\n",
       "        <td>0.018592096739365148</td>\n",
       "    </tr>\n",
       "    <tr>\n",
       "        <td>Belts</td>\n",
       "        <td>0.4750593824228029</td>\n",
       "        <td>0.6831353919239905</td>\n",
       "        <td>155.10787734830495</td>\n",
       "        <td>4.561996392597204</td>\n",
       "        <td>0.13358669833729217</td>\n",
       "        <td>0.24850356294536818</td>\n",
       "        <td>0.31102137767220905</td>\n",
       "        <td>0.13021377672209028</td>\n",
       "    </tr>\n",
       "    <tr>\n",
       "        <td>Bags &amp; Luggage</td>\n",
       "        <td>0.13819909306845174</td>\n",
       "        <td>0.3734830490174908</td>\n",
       "        <td>155.10787734830495</td>\n",
       "        <td>4.561996392597204</td>\n",
       "        <td>0.08743856618440941</td>\n",
       "        <td>0.15170114446123947</td>\n",
       "        <td>0.24241502915137117</td>\n",
       "        <td>0.018311379831569854</td>\n",
       "    </tr>\n",
       "    <tr>\n",
       "        <td>Wallet</td>\n",
       "        <td>0.22889224789462317</td>\n",
       "        <td>0.3467030878859857</td>\n",
       "        <td>155.10787734830495</td>\n",
       "        <td>4.561996392597204</td>\n",
       "        <td>0.07370330382206867</td>\n",
       "        <td>0.16235327143165623</td>\n",
       "        <td>0.12692075145756856</td>\n",
       "        <td>0.014488879291729647</td>\n",
       "    </tr>\n",
       "    <tr>\n",
       "        <td>In the bag</td>\n",
       "        <td>0.1511552580436191</td>\n",
       "        <td>0.2686180090693155</td>\n",
       "        <td>155.10787734830495</td>\n",
       "        <td>4.561996392597204</td>\n",
       "        <td>0.055398402072986394</td>\n",
       "        <td>0.10534009933059814</td>\n",
       "        <td>0.12557978838263872</td>\n",
       "        <td>0.010323904124379184</td>\n",
       "    </tr>\n",
       "    <tr>\n",
       "        <td>Overalls</td>\n",
       "        <td>0.12524292809328438</td>\n",
       "        <td>0.22469833729216152</td>\n",
       "        <td>155.10787734830495</td>\n",
       "        <td>4.561996392597204</td>\n",
       "        <td>0.04155560354135176</td>\n",
       "        <td>0.08158324335996545</td>\n",
       "        <td>0.10636881882962644</td>\n",
       "        <td>0.0067631181170373575</td>\n",
       "    </tr>\n",
       "    <tr>\n",
       "        <td>Winter Accessories</td>\n",
       "        <td>0.14251781472684086</td>\n",
       "        <td>0.20305938242280286</td>\n",
       "        <td>155.10787734830495</td>\n",
       "        <td>4.561996392597204</td>\n",
       "        <td>0.0463895486935867</td>\n",
       "        <td>0.07613301662707839</td>\n",
       "        <td>0.08036579572446556</td>\n",
       "        <td>0.005700712589073635</td>\n",
       "    </tr>\n",
       "    <tr>\n",
       "        <td>Cover up</td>\n",
       "        <td>0.07773698985100409</td>\n",
       "        <td>0.174348520837832</td>\n",
       "        <td>155.10787734830495</td>\n",
       "        <td>4.561996392597204</td>\n",
       "        <td>0.023274454761390628</td>\n",
       "        <td>0.06515137119412653</td>\n",
       "        <td>0.10115914489311163</td>\n",
       "        <td>0.003109479594040164</td>\n",
       "    </tr>\n",
       "    <tr>\n",
       "        <td>Active Skirts / Skorts</td>\n",
       "        <td>0.09933059814294969</td>\n",
       "        <td>0.12757028719499028</td>\n",
       "        <td>155.10787734830495</td>\n",
       "        <td>4.561996392597204</td>\n",
       "        <td>0.02984884474195638</td>\n",
       "        <td>0.056936298855538754</td>\n",
       "        <td>0.0420367091340963</td>\n",
       "        <td>0.003476570935003239</td>\n",
       "    </tr>\n",
       "    <tr>\n",
       "        <td>Watches</td>\n",
       "        <td>0.038868494925502046</td>\n",
       "        <td>0.07147527531850571</td>\n",
       "        <td>155.10787734830495</td>\n",
       "        <td>4.561996392597204</td>\n",
       "        <td>0.01651911034333837</td>\n",
       "        <td>0.03264953573742172</td>\n",
       "        <td>0.024148995897214424</td>\n",
       "        <td>0.010688836104513063</td>\n",
       "    </tr>\n",
       "    <tr>\n",
       "        <td>Active Dress</td>\n",
       "        <td>0.034549773267112935</td>\n",
       "        <td>0.05251565536601166</td>\n",
       "        <td>155.10787734830495</td>\n",
       "        <td>4.561996392597204</td>\n",
       "        <td>0.01100755776290218</td>\n",
       "        <td>0.017917512416324766</td>\n",
       "        <td>0.028330814079032606</td>\n",
       "        <td>0.0010364931980133881</td>\n",
       "    </tr>\n",
       "    <tr>\n",
       "        <td>Tights &amp; Hosiery</td>\n",
       "        <td>0.025912329950334705</td>\n",
       "        <td>0.02690477218743252</td>\n",
       "        <td>155.10787734830495</td>\n",
       "        <td>4.561996392597204</td>\n",
       "        <td>0.006737205787087023</td>\n",
       "        <td>0.007644137335348737</td>\n",
       "        <td>0.012093284387821207</td>\n",
       "        <td>0.0008628805873461456</td>\n",
       "    </tr>\n",
       "</table>"
      ],
      "text/plain": [
       "[('Tops & Blouses & Shirts', 20.397322392571798, 29.873918376160656, 155.10787734830495, 4.561996392597204, 6.345606996329086, 10.912567480025912, 14.123106024616712, 1.5399978406391708),\n",
       " ('Dresses', 13.159144893111637, 22.031040380047504, 155.10787734830495, 4.561996392597204, 4.393838479809976, 7.512555819477434, 10.429938242280285, 1.0395724465558194),\n",
       " ('Sweaters', 10.46426257827683, 16.18088922478946, 155.10787734830495, 4.561996392597204, 3.479367307277046, 5.538734182681926, 7.4986905635931755, 0.7011055927445476),\n",
       " ('Tees & Tanks', 8.594256100194341, 10.82962211185489, 155.10787734830495, 4.561996392597204, 2.6246858129993518, 4.190559274454761, 5.172882746706974, 0.5646426257827682),\n",
       " ('Pants', 6.128266033254157, 10.405182897862232, 155.10787734830495, 4.561996392597204, 1.9922992874109262, 3.9705035629453684, 5.08646080760095, 0.4130451306413302),\n",
       " ('Jeans', 5.195422155042108, 9.09718419347873, 155.10787734830495, 4.561996392597204, 1.7581308572662495, 3.310522997192831, 4.4898838263873895, 0.4701857050313108),\n",
       " ('Skirts & Skorts', 4.901749082271648, 7.313409630749297, 155.10787734830495, 4.561996392597204, 1.4783675232131288, 2.62782768300583, 3.889537896782552, 0.37988555387605266),\n",
       " ('Coats & Jackets', 3.5068019866119626, 5.843734830490174, 155.10787734830495, 4.561996392597204, 1.3059330598142949, 1.9245329302526453, 2.7454752753185057, 0.3401597927013604),\n",
       " ('Handbags', 2.142085942561002, 5.7699226948823155, 155.10787734830495, 4.561996392597204, 0.7343070611099115, 1.7944253940833512, 3.816554523860937, 0.22106326927229542),\n",
       " ('Shoes', 3.3729216152019, 5.722498812351543, 155.10787734830495, 4.561996392597204, 1.292166270783848, 2.1805938242280285, 2.304380047505938, 0.4087980997624703),\n",
       " ('Active Pants', 2.4832649535737423, 3.8738933275750376, 155.10787734830495, 4.561996392597204, 0.7494493629885554, 1.3302850356294538, 1.8701468365363854, 0.18872813647160439),\n",
       " ('One Piece', 2.2716475923126755, 3.5069695530123086, 155.10787734830495, 4.561996392597204, 0.7326063485208378, 1.3111949902828763, 2.5433366443532712, 1.875699416972576),\n",
       " ('Sweatshirts & Fleece', 2.1982293241200606, 3.4430865903692505, 155.10787734830495, 4.561996392597204, 0.7797119412653855, 1.1538505722306198, 1.6055866983372924, 0.14024703087885987),\n",
       " ('Active Tops', 2.3364284171885124, 3.340158065212697, 155.10787734830495, 4.561996392597204, 0.733404880155474, 1.2705497732671132, 1.455594903908443, 0.17850313107320234),\n",
       " ('Shorts', 2.7855754696609805, 3.1797343986180095, 155.10787734830495, 4.561996392597204, 0.8223018786439215, 1.6543532714316562, 1.5916778233642843, 0.11782984236665948),\n",
       " ('Leggings', 1.4726840855106889, 2.112418052256532, 155.10787734830495, 4.561996392597204, 0.4593301662707838, 0.8071781472684085, 1.08433729216152, 0.08099762470308788),\n",
       " ('Boots', 1.0667242496221119, 1.9719464478514361, 155.10787734830495, 4.561996392597204, 0.45570459943856617, 0.6380077736989851, 0.9066089397538328, 0.09600518246599006),\n",
       " ('Blazers', 1.2697041675664003, 1.951662275966314, 155.10787734830495, 4.561996392597204, 0.44477736989851, 0.6055219175124162, 0.8904435327143165, 0.07351587130209458),\n",
       " ('Scarves & Wraps', 1.7231699416972577, 1.9383938674152452, 155.10787734830495, 4.561996392597204, 0.5260837832001728, 0.8465933923558627, 1.0647467069747356, 0.10907665730943641),\n",
       " ('Swim', 0.9285251565536602, 1.4057870870222415, 155.10787734830495, 4.561996392597204, 0.35386093716259986, 0.4914683653638523, 0.65702440077737, 0.08765277477866551),\n",
       " ('Headwear', 0.7082703519758151, 1.0555353055495573, 155.10787734830495, 4.561996392597204, 0.22445087454113583, 0.48148218527315917, 0.41844612394731157, 0.03711336644353271),\n",
       " ('Shorts - Active', 0.8248758367523213, 0.9943878212049233, 155.10787734830495, 4.561996392597204, 0.23789419131936948, 0.4135927445476139, 0.42250140358453897, 0.07234161088317857),\n",
       " ('Vest', 0.5312027639818614, 0.7139896350680198, 155.10787734830495, 4.561996392597204, 0.1600513927877348, 0.27978449578924636, 0.317074929820773, 0.018592096739365148),\n",
       " ('Belts', 0.4750593824228029, 0.6831353919239905, 155.10787734830495, 4.561996392597204, 0.13358669833729217, 0.24850356294536818, 0.31102137767220905, 0.13021377672209028),\n",
       " ('Bags & Luggage', 0.13819909306845174, 0.3734830490174908, 155.10787734830495, 4.561996392597204, 0.08743856618440941, 0.15170114446123947, 0.24241502915137117, 0.018311379831569854),\n",
       " ('Wallet', 0.22889224789462317, 0.3467030878859857, 155.10787734830495, 4.561996392597204, 0.07370330382206867, 0.16235327143165623, 0.12692075145756856, 0.014488879291729647),\n",
       " ('In the bag', 0.1511552580436191, 0.2686180090693155, 155.10787734830495, 4.561996392597204, 0.055398402072986394, 0.10534009933059814, 0.12557978838263872, 0.010323904124379184),\n",
       " ('Overalls', 0.12524292809328438, 0.22469833729216152, 155.10787734830495, 4.561996392597204, 0.04155560354135176, 0.08158324335996545, 0.10636881882962644, 0.0067631181170373575),\n",
       " ('Winter Accessories', 0.14251781472684086, 0.20305938242280286, 155.10787734830495, 4.561996392597204, 0.0463895486935867, 0.07613301662707839, 0.08036579572446556, 0.005700712589073635),\n",
       " ('Cover up', 0.07773698985100409, 0.174348520837832, 155.10787734830495, 4.561996392597204, 0.023274454761390628, 0.06515137119412653, 0.10115914489311163, 0.003109479594040164),\n",
       " ('Active Skirts / Skorts', 0.09933059814294969, 0.12757028719499028, 155.10787734830495, 4.561996392597204, 0.02984884474195638, 0.056936298855538754, 0.0420367091340963, 0.003476570935003239),\n",
       " ('Watches', 0.038868494925502046, 0.07147527531850571, 155.10787734830495, 4.561996392597204, 0.01651911034333837, 0.03264953573742172, 0.024148995897214424, 0.010688836104513063),\n",
       " ('Active Dress', 0.034549773267112935, 0.05251565536601166, 155.10787734830495, 4.561996392597204, 0.01100755776290218, 0.017917512416324766, 0.028330814079032606, 0.0010364931980133881),\n",
       " ('Tights & Hosiery', 0.025912329950334705, 0.02690477218743252, 155.10787734830495, 4.561996392597204, 0.006737205787087023, 0.007644137335348737, 0.012093284387821207, 0.0008628805873461456)]"
      ]
     },
     "execution_count": 12,
     "metadata": {},
     "output_type": "execute_result"
    }
   ],
   "source": [
    "%%sql\n",
    "/* Count by category */\n",
    "WITH cte AS (\n",
    "SELECT DISTINCT item_category, COUNT(item_id) OVER(PARTITION BY item_category) AS item_count, \n",
    "                CAST(COUNT(item_id) OVER(PARTITION BY item_category) AS FLOAT)/COUNT(item_id) OVER() AS rate_of_all_items,\n",
    "                ROUND(AVG(merch_station_time) FILTER(WHERE (item_accepted_or_rejected != 'rejected') & (merch_station_time !=0)) OVER(PARTITION BY item_category), 2)AS avg_merch_station_time,\n",
    "                ROUND(AVG(itemization_station_time) FILTER(WHERE (item_accepted_or_rejected != 'rejected') & (itemization_station_time !=0)) OVER(PARTITION BY item_category),2) AS avg_itemization_station_time,\n",
    "                ROUND(AVG(photo_station_time) FILTER(WHERE (item_accepted_or_rejected != 'rejected') & (photo_station_time !=0)) OVER(PARTITION BY item_category),2) AS avg_photo_station_time, \n",
    "                ROUND(AVG(qa_time) FILTER(WHERE (item_accepted_or_rejected != 'rejected') & (qa_time !=0)) OVER(PARTITION BY item_category),2) AS avg_qa_time,\n",
    "                ROUND(AVG(total_time) OVER(PARTITION BY item_category), 2) AS avg_total_time\n",
    "FROM merch_processing\n",
    "WHERE (item_category IS NOT NULL) & (item_id NOT NULL)\n",
    "ORDER BY avg_total_time DESC, item_count DESC )\n",
    "\n",
    "/*find the weighted average for each item category to determine which items contribute more to the total weighted average overall */\n",
    "\n",
    "SELECT item_category, rate_of_all_items*100 AS percent_of_items, rate_of_all_items*avg_total_time AS weighted_avg_total, \n",
    "        SUM(rate_of_all_items*avg_total_time) OVER() AS sum_weighted_avg_total,\n",
    "        AVG(rate_of_all_items*avg_total_time) OVER() AS avg_weighted_avg_total, \n",
    "        avg_merch_station_time*rate_of_all_items AS weighted_merch, avg_itemization_station_time*rate_of_all_items AS weighted_itemization, \n",
    "        avg_photo_station_time*rate_of_all_items AS weighted_photo_station, avg_qa_time*rate_of_all_items AS weighted_qa_time\n",
    "FROM cte\n",
    "ORDER BY weighted_avg_total DESC\n",
    "\n",
    "/*tops, dresses, and sweaters have the highest weighted average total time */\n",
    "/*active pants, tops, and dresses have the highest weighted average qa time */\n",
    "/*tops, dresses, and sweaters have the highest weighted average photo time */\n",
    "/*tops, dresses, and sweaters have the highest weighted average itemization time */\n",
    "/*tops, dresses, and sweaters have the highest weighted average merchandise station time */\n"
   ]
  },
  {
   "cell_type": "code",
   "execution_count": 13,
   "metadata": {},
   "outputs": [
    {
     "name": "stdout",
     "output_type": "stream",
     "text": [
      " * sqlite:///merchprocessingdb.sql\n",
      "Done.\n"
     ]
    },
    {
     "data": {
      "text/html": [
       "<table>\n",
       "    <tr>\n",
       "        <th>column</th>\n",
       "        <th>percent_NULL</th>\n",
       "    </tr>\n",
       "    <tr>\n",
       "        <td>item_purchase_date</td>\n",
       "        <td>76.86307452298092</td>\n",
       "    </tr>\n",
       "    <tr>\n",
       "        <td>listing_price</td>\n",
       "        <td>25.657026281051245</td>\n",
       "    </tr>\n",
       "    <tr>\n",
       "        <td>item_listing_date</td>\n",
       "        <td>25.493019720788833</td>\n",
       "    </tr>\n",
       "    <tr>\n",
       "        <td>brand_tier_group</td>\n",
       "        <td>8.356334253370134</td>\n",
       "    </tr>\n",
       "    <tr>\n",
       "        <td>item_category</td>\n",
       "        <td>7.376295051802072</td>\n",
       "    </tr>\n",
       "</table>"
      ],
      "text/plain": [
       "[('item_purchase_date', 76.86307452298092),\n",
       " ('listing_price', 25.657026281051245),\n",
       " ('item_listing_date', 25.493019720788833),\n",
       " ('brand_tier_group', 8.356334253370134),\n",
       " ('item_category', 7.376295051802072)]"
      ]
     },
     "execution_count": 13,
     "metadata": {},
     "output_type": "execute_result"
    }
   ],
   "source": [
    "%%sql\n",
    "/*Percent of NULL values in each column */\n",
    "WITH calc AS (\n",
    "SELECT CAST(SUM(CASE WHEN item_category IS NULL THEN 1 ELSE 0 END) AS FLOAT)/COUNT(item_id)*100 AS item_category,\n",
    "CAST(SUM(CASE WHEN brand_tier_group IS NULL THEN 1 ELSE 0 END) AS FLOAT)/COUNT(item_id)*100 AS brand_tier_group, \n",
    "        CAST(SUM(CASE WHEN listing_price IS NULL THEN 1 ELSE 0 END) AS FLOAT)/COUNT(item_id)*100 AS listing_price,\n",
    "        CAST(SUM(CASE WHEN item_purchase_date IS NULL THEN 1 ELSE 0 END) AS FLOAT)/COUNT(item_id)*100 AS item_purchase_date,\n",
    "        CAST(SUM(CASE WHEN item_listing_date IS NULL THEN 1 ELSE 0 END) AS FLOAT)/COUNT(item_id)*100 AS item_listing_date\n",
    "FROM merch_processing \n",
    ")\n",
    "\n",
    "SELECT 'item_category' AS column, item_category AS percent_NULL FROM calc \n",
    "UNION ALL\n",
    "SELECT 'brand_tier_group' AS column, brand_tier_group FROM calc\n",
    "UNION ALL\n",
    "SELECT 'listing_price', listing_price FROM calc\n",
    "UNION ALL\n",
    "SELECT 'item_purchase_date', item_purchase_date FROM calc\n",
    "UNION ALL \n",
    "SELECT 'item_listing_date', item_listing_date FROM calc\n",
    "ORDER BY percent_NULL DESC"
   ]
  },
  {
   "cell_type": "code",
   "execution_count": 14,
   "metadata": {},
   "outputs": [
    {
     "name": "stdout",
     "output_type": "stream",
     "text": [
      " * sqlite:///merchprocessingdb.sql\n",
      "Done.\n"
     ]
    },
    {
     "data": {
      "text/html": [
       "<table>\n",
       "    <tr>\n",
       "        <th>station</th>\n",
       "        <th>percent_rejected</th>\n",
       "    </tr>\n",
       "    <tr>\n",
       "        <td>merch_station</td>\n",
       "        <td>8.24283425316005</td>\n",
       "    </tr>\n",
       "    <tr>\n",
       "        <td>itemization_station</td>\n",
       "        <td>81.11091329891401</td>\n",
       "    </tr>\n",
       "    <tr>\n",
       "        <td>photo_station</td>\n",
       "        <td>9.631475876802565</td>\n",
       "    </tr>\n",
       "    <tr>\n",
       "        <td>qa_station</td>\n",
       "        <td>1.0147765711233774</td>\n",
       "    </tr>\n",
       "</table>"
      ],
      "text/plain": [
       "[('merch_station', 8.24283425316005),\n",
       " ('itemization_station', 81.11091329891401),\n",
       " ('photo_station', 9.631475876802565),\n",
       " ('qa_station', 1.0147765711233774)]"
      ]
     },
     "execution_count": 14,
     "metadata": {},
     "output_type": "execute_result"
    }
   ],
   "source": [
    "%%sql \n",
    "\n",
    "\n",
    "/* Percent rejected at each station */\n",
    "\n",
    "\n",
    "WITH rejected_items AS (\n",
    "    SELECT item_id, merch_station_time, itemization_station_time, photo_station_time, qa_time\n",
    "    FROM merch_processing\n",
    "    WHERE item_accepted_or_rejected = 'rejected' \n",
    "),\n",
    "\n",
    "  count_unexamined AS (\n",
    "SELECT COUNT(item_id) AS num_items, \n",
    "      SUM(CASE WHEN merch_station_time = 0 THEN 1 ELSE 0 END) AS merch_station,\n",
    "      SUM(CASE WHEN itemization_station_time = 0 THEN 1 ELSE 0 END) AS itemization_station,\n",
    "       SUM(CASE WHEN photo_station_time = 0 THEN 1 ELSE 0 END) AS photo_station,\n",
    "       SUM(CASE WHEN qa_time = 0 THEN 1 ELSE 0 END) AS qa_station\n",
    "FROM rejected_items ),\n",
    "\n",
    "    percent_rejected AS (\n",
    "SELECT merch_station AS on_receipt,  CAST(itemization_station AS FLOAT)/num_items*100 AS merch_station, \n",
    "        CAST((photo_station - itemization_station) AS FLOAT)/num_items*100 AS itemization_station, \n",
    "        CAST((qa_station - photo_station) AS FLOAT)/num_items*100 AS photo_station, \n",
    "        100 - CAST(qa_station AS FLOAT)/num_items*100 AS qa_station\n",
    "FROM count_unexamined)\n",
    "    \n",
    "SELECT 'merch_station' AS station, merch_station AS percent_rejected FROM percent_rejected\n",
    "UNION ALL\n",
    "SELECT 'itemization_station', itemization_station FROM percent_rejected\n",
    "UNION ALL \n",
    "SELECT 'photo_station' AS station,photo_station FROM percent_rejected\n",
    "UNION ALL \n",
    "SELECT 'qa_station' AS station,qa_station FROM percent_rejected"
   ]
  },
  {
   "cell_type": "code",
   "execution_count": 15,
   "metadata": {},
   "outputs": [
    {
     "data": {
      "text/plain": [
       "99.99999999999999"
      ]
     },
     "execution_count": 15,
     "metadata": {},
     "output_type": "execute_result"
    }
   ],
   "source": [
    "8.242834 + 81.110913 + 9.631476 + 1.014777"
   ]
  },
  {
   "cell_type": "code",
   "execution_count": 16,
   "metadata": {},
   "outputs": [
    {
     "name": "stdout",
     "output_type": "stream",
     "text": [
      " * sqlite:///merchprocessingdb.sql\n",
      "Done.\n"
     ]
    },
    {
     "data": {
      "text/html": [
       "<table>\n",
       "    <tr>\n",
       "        <th>long_processing_time</th>\n",
       "        <th>item_accepted_or_rejected</th>\n",
       "        <th>percent</th>\n",
       "    </tr>\n",
       "    <tr>\n",
       "        <td>0</td>\n",
       "        <td>accepted</td>\n",
       "        <td>72.38130200685266</td>\n",
       "    </tr>\n",
       "    <tr>\n",
       "        <td>0</td>\n",
       "        <td>rejected</td>\n",
       "        <td>27.618697993147332</td>\n",
       "    </tr>\n",
       "    <tr>\n",
       "        <td>1</td>\n",
       "        <td>accepted</td>\n",
       "        <td>87.25592143269786</td>\n",
       "    </tr>\n",
       "    <tr>\n",
       "        <td>1</td>\n",
       "        <td>rejected</td>\n",
       "        <td>12.744078567302138</td>\n",
       "    </tr>\n",
       "</table>"
      ],
      "text/plain": [
       "[(0, 'accepted', 72.38130200685266),\n",
       " (0, 'rejected', 27.618697993147332),\n",
       " (1, 'accepted', 87.25592143269786),\n",
       " (1, 'rejected', 12.744078567302138)]"
      ]
     },
     "execution_count": 16,
     "metadata": {},
     "output_type": "execute_result"
    }
   ],
   "source": [
    "%%sql\n",
    "/* percentage of items rejected grouped by long_processing_time */\n",
    "SELECT DISTINCT long_processing_time, item_accepted_or_rejected,\n",
    "    CAST(COUNT(item_id) OVER(PARTITION BY long_processing_time, item_accepted_or_rejected) AS FLOAT)*100/ COUNT(item_id) OVER(PARTITION BY long_processing_time) AS percent\n",
    "FROM merch_processing\n",
    "WHERE long_processing_time NOT NULL AND item_id NOT NULL"
   ]
  },
  {
   "cell_type": "code",
   "execution_count": 17,
   "metadata": {},
   "outputs": [
    {
     "name": "stdout",
     "output_type": "stream",
     "text": [
      " * sqlite:///merchprocessingdb.sql\n",
      "Done.\n"
     ]
    },
    {
     "data": {
      "text/html": [
       "<table>\n",
       "    <tr>\n",
       "        <th>item_id</th>\n",
       "        <th>merch_station_time</th>\n",
       "        <th>itemization_station_time</th>\n",
       "        <th>photo_station_time</th>\n",
       "        <th>qa_time</th>\n",
       "    </tr>\n",
       "    <tr>\n",
       "        <td>65134238.0</td>\n",
       "        <td>21</td>\n",
       "        <td>57</td>\n",
       "        <td>58</td>\n",
       "        <td>0</td>\n",
       "    </tr>\n",
       "    <tr>\n",
       "        <td>66838835.0</td>\n",
       "        <td>32</td>\n",
       "        <td>30</td>\n",
       "        <td>0</td>\n",
       "        <td>0</td>\n",
       "    </tr>\n",
       "    <tr>\n",
       "        <td>64915074.0</td>\n",
       "        <td>50</td>\n",
       "        <td>23</td>\n",
       "        <td>0</td>\n",
       "        <td>0</td>\n",
       "    </tr>\n",
       "    <tr>\n",
       "        <td>66156962.0</td>\n",
       "        <td>31</td>\n",
       "        <td>45</td>\n",
       "        <td>36</td>\n",
       "        <td>0</td>\n",
       "    </tr>\n",
       "    <tr>\n",
       "        <td>64888129.0</td>\n",
       "        <td>30</td>\n",
       "        <td>53</td>\n",
       "        <td>65</td>\n",
       "        <td>0</td>\n",
       "    </tr>\n",
       "    <tr>\n",
       "        <td>67027332.0</td>\n",
       "        <td>14</td>\n",
       "        <td>32</td>\n",
       "        <td>42</td>\n",
       "        <td>0</td>\n",
       "    </tr>\n",
       "    <tr>\n",
       "        <td>65819664.0</td>\n",
       "        <td>44</td>\n",
       "        <td>102</td>\n",
       "        <td>45</td>\n",
       "        <td>0</td>\n",
       "    </tr>\n",
       "    <tr>\n",
       "        <td>67306863.0</td>\n",
       "        <td>31</td>\n",
       "        <td>34</td>\n",
       "        <td>32</td>\n",
       "        <td>0</td>\n",
       "    </tr>\n",
       "    <tr>\n",
       "        <td>65608092.0</td>\n",
       "        <td>26</td>\n",
       "        <td>39</td>\n",
       "        <td>46</td>\n",
       "        <td>0</td>\n",
       "    </tr>\n",
       "    <tr>\n",
       "        <td>65249137.0</td>\n",
       "        <td>18</td>\n",
       "        <td>36</td>\n",
       "        <td>166</td>\n",
       "        <td>0</td>\n",
       "    </tr>\n",
       "</table>"
      ],
      "text/plain": [
       "[(65134238.0, '21', 57, 58, 0),\n",
       " (66838835.0, '32', 30, 0, 0),\n",
       " (64915074.0, '50', 23, 0, 0),\n",
       " (66156962.0, '31', 45, 36, 0),\n",
       " (64888129.0, '30', 53, 65, 0),\n",
       " (67027332.0, '14', 32, 42, 0),\n",
       " (65819664.0, '44', 102, 45, 0),\n",
       " (67306863.0, '31', 34, 32, 0),\n",
       " (65608092.0, '26', 39, 46, 0),\n",
       " (65249137.0, '18', 36, 166, 0)]"
      ]
     },
     "execution_count": 17,
     "metadata": {},
     "output_type": "execute_result"
    }
   ],
   "source": [
    "%%sql\n",
    "/*Rows with at least one zero in a station time column */\n",
    "SELECT item_id, merch_station_time, itemization_station_time, photo_station_time, qa_time\n",
    "FROM merch_processing\n",
    "WHERE (merch_station_time = 0) | (itemization_station_time=0) | (photo_station_time = 0) | (qa_time = 0)\n",
    "LIMIT 10"
   ]
  },
  {
   "cell_type": "code",
   "execution_count": 18,
   "metadata": {},
   "outputs": [
    {
     "name": "stdout",
     "output_type": "stream",
     "text": [
      " * sqlite:///merchprocessingdb.sql\n",
      "Done.\n"
     ]
    },
    {
     "data": {
      "text/html": [
       "<table>\n",
       "    <tr>\n",
       "        <th>percent_rows_affected</th>\n",
       "    </tr>\n",
       "    <tr>\n",
       "        <td>0.6859874394975799</td>\n",
       "    </tr>\n",
       "</table>"
      ],
      "text/plain": [
       "[(0.6859874394975799,)]"
      ]
     },
     "execution_count": 18,
     "metadata": {},
     "output_type": "execute_result"
    }
   ],
   "source": [
    "%%sql\n",
    "/*percent of accepted rows with zeros in at least one station column out of all the rows */\n",
    "WITH count_ZEROS AS (\n",
    "SELECT DISTINCT ROW_NUMBER() OVER () AS id, COUNT(item_id) OVER() as count\n",
    "FROM merch_processing\n",
    "WHERE (merch_station_time = 0) | (itemization_station_time=0) | (photo_station_time = 0) | (qa_time = 0) \n",
    "& (merch_processing.item_accepted_or_rejected = 'accepted')),\n",
    "\n",
    "    count_ALL AS (\n",
    "SELECT DISTINCT ROW_NUMBER() OVER () AS id, COUNT(merch_processing.item_id) OVER() AS count\n",
    "FROM merch_processing\n",
    ")\n",
    "\n",
    "SELECT CAST(count_ZEROS.count AS FLOAT)/count_ALL.count AS percent_rows_affected\n",
    "FROM count_ZEROS, count_ALL\n",
    "\n",
    "LIMIT 1\n"
   ]
  },
  {
   "cell_type": "markdown",
   "metadata": {},
   "source": [
    "# Python Analysis"
   ]
  },
  {
   "cell_type": "code",
   "execution_count": 19,
   "metadata": {},
   "outputs": [
    {
     "data": {
      "text/html": [
       "<div>\n",
       "<style scoped>\n",
       "    .dataframe tbody tr th:only-of-type {\n",
       "        vertical-align: middle;\n",
       "    }\n",
       "\n",
       "    .dataframe tbody tr th {\n",
       "        vertical-align: top;\n",
       "    }\n",
       "\n",
       "    .dataframe thead th {\n",
       "        text-align: right;\n",
       "    }\n",
       "</style>\n",
       "<table border=\"1\" class=\"dataframe\">\n",
       "  <thead>\n",
       "    <tr style=\"text-align: right;\">\n",
       "      <th></th>\n",
       "      <th>item_id</th>\n",
       "      <th>warehouse</th>\n",
       "      <th>gender</th>\n",
       "      <th>item_category</th>\n",
       "      <th>brand_tier_group</th>\n",
       "      <th>listing_price</th>\n",
       "      <th>item_listing_date</th>\n",
       "      <th>item_purchase_date</th>\n",
       "      <th>item_accepted_or_rejected</th>\n",
       "      <th>merch_station_time</th>\n",
       "      <th>itemization_station_time</th>\n",
       "      <th>photo_station_time</th>\n",
       "      <th>qa_time</th>\n",
       "    </tr>\n",
       "  </thead>\n",
       "  <tbody>\n",
       "    <tr>\n",
       "      <th>19933</th>\n",
       "      <td>NaN</td>\n",
       "      <td>66858910</td>\n",
       "      <td>DC02</td>\n",
       "      <td>women</td>\n",
       "      <td>Tops &amp; Blouses &amp; Shirts</td>\n",
       "      <td>1-Value</td>\n",
       "      <td>1900-01-12</td>\n",
       "      <td>2020-02-07</td>\n",
       "      <td>NaN</td>\n",
       "      <td>accepted</td>\n",
       "      <td>17</td>\n",
       "      <td>26</td>\n",
       "      <td>47</td>\n",
       "    </tr>\n",
       "  </tbody>\n",
       "</table>\n",
       "</div>"
      ],
      "text/plain": [
       "       item_id warehouse gender item_category         brand_tier_group  \\\n",
       "19933      NaN  66858910   DC02         women  Tops & Blouses & Shirts   \n",
       "\n",
       "      listing_price item_listing_date item_purchase_date  \\\n",
       "19933       1-Value        1900-01-12         2020-02-07   \n",
       "\n",
       "      item_accepted_or_rejected merch_station_time  itemization_station_time  \\\n",
       "19933                       NaN           accepted                        17   \n",
       "\n",
       "       photo_station_time  qa_time  \n",
       "19933                  26       47  "
      ]
     },
     "execution_count": 19,
     "metadata": {},
     "output_type": "execute_result"
    }
   ],
   "source": [
    "#Find rows with values that don't make sense - In this row, it seems values are in the wrong columns. \n",
    "#We don't know how long this item was at the QA station assuming the values refer to the previous column so we should just \n",
    "#leave this row out of the analysis. It is only one row and we have plenty of observations in the data set. \n",
    "merch_processing[merch_processing['item_id'].isnull() == True]"
   ]
  },
  {
   "cell_type": "code",
   "execution_count": 20,
   "metadata": {},
   "outputs": [
    {
     "data": {
      "text/html": [
       "<div>\n",
       "<style scoped>\n",
       "    .dataframe tbody tr th:only-of-type {\n",
       "        vertical-align: middle;\n",
       "    }\n",
       "\n",
       "    .dataframe tbody tr th {\n",
       "        vertical-align: top;\n",
       "    }\n",
       "\n",
       "    .dataframe thead th {\n",
       "        text-align: right;\n",
       "    }\n",
       "</style>\n",
       "<table border=\"1\" class=\"dataframe\">\n",
       "  <thead>\n",
       "    <tr style=\"text-align: right;\">\n",
       "      <th></th>\n",
       "      <th>item_id</th>\n",
       "      <th>warehouse</th>\n",
       "      <th>gender</th>\n",
       "      <th>item_category</th>\n",
       "      <th>brand_tier_group</th>\n",
       "      <th>listing_price</th>\n",
       "      <th>item_listing_date</th>\n",
       "      <th>item_purchase_date</th>\n",
       "      <th>item_accepted_or_rejected</th>\n",
       "      <th>merch_station_time</th>\n",
       "      <th>itemization_station_time</th>\n",
       "      <th>photo_station_time</th>\n",
       "      <th>qa_time</th>\n",
       "    </tr>\n",
       "  </thead>\n",
       "  <tbody>\n",
       "  </tbody>\n",
       "</table>\n",
       "</div>"
      ],
      "text/plain": [
       "Empty DataFrame\n",
       "Columns: [item_id, warehouse, gender, item_category, brand_tier_group, listing_price, item_listing_date, item_purchase_date, item_accepted_or_rejected, merch_station_time, itemization_station_time, photo_station_time, qa_time]\n",
       "Index: []"
      ]
     },
     "execution_count": 20,
     "metadata": {},
     "output_type": "execute_result"
    }
   ],
   "source": [
    "#No duplicated items by item id\n",
    "merch_processing[merch_processing['item_id'].duplicated()]"
   ]
  },
  {
   "cell_type": "code",
   "execution_count": 21,
   "metadata": {},
   "outputs": [],
   "source": [
    "#drop rows with values that don't make sense\n",
    "merch_processing.drop(merch_processing[merch_processing['item_id'].isnull()].index, inplace=True)"
   ]
  },
  {
   "cell_type": "code",
   "execution_count": 22,
   "metadata": {},
   "outputs": [
    {
     "data": {
      "text/html": [
       "<div>\n",
       "<style scoped>\n",
       "    .dataframe tbody tr th:only-of-type {\n",
       "        vertical-align: middle;\n",
       "    }\n",
       "\n",
       "    .dataframe tbody tr th {\n",
       "        vertical-align: top;\n",
       "    }\n",
       "\n",
       "    .dataframe thead th {\n",
       "        text-align: right;\n",
       "    }\n",
       "</style>\n",
       "<table border=\"1\" class=\"dataframe\">\n",
       "  <thead>\n",
       "    <tr style=\"text-align: right;\">\n",
       "      <th></th>\n",
       "      <th>percent_missing</th>\n",
       "    </tr>\n",
       "  </thead>\n",
       "  <tbody>\n",
       "    <tr>\n",
       "      <th>item_purchase_date</th>\n",
       "      <td>76.863075</td>\n",
       "    </tr>\n",
       "    <tr>\n",
       "      <th>listing_price</th>\n",
       "      <td>25.657026</td>\n",
       "    </tr>\n",
       "    <tr>\n",
       "      <th>item_listing_date</th>\n",
       "      <td>25.493020</td>\n",
       "    </tr>\n",
       "    <tr>\n",
       "      <th>brand_tier_group</th>\n",
       "      <td>8.356334</td>\n",
       "    </tr>\n",
       "    <tr>\n",
       "      <th>item_category</th>\n",
       "      <td>7.376295</td>\n",
       "    </tr>\n",
       "  </tbody>\n",
       "</table>\n",
       "</div>"
      ],
      "text/plain": [
       "                    percent_missing\n",
       "item_purchase_date        76.863075\n",
       "listing_price             25.657026\n",
       "item_listing_date         25.493020\n",
       "brand_tier_group           8.356334\n",
       "item_category              7.376295"
      ]
     },
     "execution_count": 22,
     "metadata": {},
     "output_type": "execute_result"
    }
   ],
   "source": [
    "#Item_purchase_date, listing_price, and item_listing_date are missing a lot of values, probably because \n",
    "#these are not determined until after the process is over. \n",
    "#Brand tier group and item_category have very small percentages of missing values which \n",
    "#shouldn't pose too much of a problem. \n",
    "\n",
    "percent_missing = merch_processing.isnull().sum() * 100 / len(merch_processing)\n",
    "missing_value_df = pd.DataFrame({'percent_missing': percent_missing})\n",
    "missing_value_df.sort_values(by='percent_missing', ascending=False).head()"
   ]
  },
  {
   "cell_type": "code",
   "execution_count": 23,
   "metadata": {},
   "outputs": [],
   "source": [
    "#Change column data types\n",
    "merch_processing = merch_processing.convert_dtypes()\n",
    "merch_processing['listing_price'] = merch_processing['listing_price'].astype(np.float64)\n",
    "merch_processing['item_category'] = merch_processing['item_category'].astype('category')\n",
    "merch_processing['gender'] = merch_processing['gender'].astype('category')\n",
    "merch_processing['brand_tier_group'] = merch_processing['brand_tier_group'].astype('category')\n",
    "merch_processing['item_accepted_or_rejected'] = merch_processing['item_accepted_or_rejected'].astype('category')\n",
    "merch_processing['warehouse'] = merch_processing['warehouse'].astype('category')\n",
    "merch_processing[['merch_station_time','itemization_station_time', 'photo_station_time', 'qa_time']] = merch_processing[['merch_station_time','itemization_station_time', 'photo_station_time', 'qa_time']].astype(np.int64)"
   ]
  },
  {
   "cell_type": "code",
   "execution_count": 24,
   "metadata": {
    "scrolled": true
   },
   "outputs": [],
   "source": [
    "#Create a total time column\n",
    "merch_processing['total_time'] = merch_processing['merch_station_time'] + merch_processing['itemization_station_time'] + merch_processing['photo_station_time'] + merch_processing['qa_time']\n",
    "merch_processing['total_time'] = merch_processing['total_time'].astype(np.int64)"
   ]
  },
  {
   "cell_type": "code",
   "execution_count": 25,
   "metadata": {
    "scrolled": true
   },
   "outputs": [
    {
     "data": {
      "text/plain": [
       "item_id                               Int64\n",
       "warehouse                          category\n",
       "gender                             category\n",
       "item_category                      category\n",
       "brand_tier_group                   category\n",
       "listing_price                       float64\n",
       "item_listing_date            datetime64[ns]\n",
       "item_purchase_date           datetime64[ns]\n",
       "item_accepted_or_rejected          category\n",
       "merch_station_time                    int64\n",
       "itemization_station_time              int64\n",
       "photo_station_time                    int64\n",
       "qa_time                               int64\n",
       "total_time                            int64\n",
       "dtype: object"
      ]
     },
     "execution_count": 25,
     "metadata": {},
     "output_type": "execute_result"
    }
   ],
   "source": [
    " merch_processing.dtypes"
   ]
  },
  {
   "cell_type": "code",
   "execution_count": 26,
   "metadata": {},
   "outputs": [
    {
     "data": {
      "text/html": [
       "<div>\n",
       "<style scoped>\n",
       "    .dataframe tbody tr th:only-of-type {\n",
       "        vertical-align: middle;\n",
       "    }\n",
       "\n",
       "    .dataframe tbody tr th {\n",
       "        vertical-align: top;\n",
       "    }\n",
       "\n",
       "    .dataframe thead th {\n",
       "        text-align: right;\n",
       "    }\n",
       "</style>\n",
       "<table border=\"1\" class=\"dataframe\">\n",
       "  <thead>\n",
       "    <tr style=\"text-align: right;\">\n",
       "      <th></th>\n",
       "      <th>item_id</th>\n",
       "      <th>listing_price</th>\n",
       "      <th>merch_station_time</th>\n",
       "      <th>itemization_station_time</th>\n",
       "      <th>photo_station_time</th>\n",
       "      <th>qa_time</th>\n",
       "      <th>total_time</th>\n",
       "    </tr>\n",
       "  </thead>\n",
       "  <tbody>\n",
       "    <tr>\n",
       "      <th>count</th>\n",
       "      <td>2.499900e+04</td>\n",
       "      <td>18585.000000</td>\n",
       "      <td>24999.000000</td>\n",
       "      <td>24999.000000</td>\n",
       "      <td>24999.000000</td>\n",
       "      <td>24999.000000</td>\n",
       "      <td>24999.000000</td>\n",
       "    </tr>\n",
       "    <tr>\n",
       "      <th>mean</th>\n",
       "      <td>6.600680e+07</td>\n",
       "      <td>20.860810</td>\n",
       "      <td>33.116045</td>\n",
       "      <td>54.151606</td>\n",
       "      <td>60.554382</td>\n",
       "      <td>0.810672</td>\n",
       "      <td>148.632705</td>\n",
       "    </tr>\n",
       "    <tr>\n",
       "      <th>std</th>\n",
       "      <td>8.017280e+05</td>\n",
       "      <td>23.597091</td>\n",
       "      <td>28.087892</td>\n",
       "      <td>57.404061</td>\n",
       "      <td>73.233454</td>\n",
       "      <td>14.049210</td>\n",
       "      <td>102.531958</td>\n",
       "    </tr>\n",
       "    <tr>\n",
       "      <th>min</th>\n",
       "      <td>5.031642e+07</td>\n",
       "      <td>2.990000</td>\n",
       "      <td>1.000000</td>\n",
       "      <td>0.000000</td>\n",
       "      <td>0.000000</td>\n",
       "      <td>0.000000</td>\n",
       "      <td>2.000000</td>\n",
       "    </tr>\n",
       "    <tr>\n",
       "      <th>25%</th>\n",
       "      <td>6.534756e+07</td>\n",
       "      <td>10.990000</td>\n",
       "      <td>21.000000</td>\n",
       "      <td>32.000000</td>\n",
       "      <td>25.000000</td>\n",
       "      <td>0.000000</td>\n",
       "      <td>93.000000</td>\n",
       "    </tr>\n",
       "    <tr>\n",
       "      <th>50%</th>\n",
       "      <td>6.599858e+07</td>\n",
       "      <td>14.990000</td>\n",
       "      <td>27.000000</td>\n",
       "      <td>43.000000</td>\n",
       "      <td>45.000000</td>\n",
       "      <td>0.000000</td>\n",
       "      <td>126.000000</td>\n",
       "    </tr>\n",
       "    <tr>\n",
       "      <th>75%</th>\n",
       "      <td>6.668066e+07</td>\n",
       "      <td>22.990000</td>\n",
       "      <td>37.000000</td>\n",
       "      <td>59.000000</td>\n",
       "      <td>73.000000</td>\n",
       "      <td>0.000000</td>\n",
       "      <td>172.000000</td>\n",
       "    </tr>\n",
       "    <tr>\n",
       "      <th>max</th>\n",
       "      <td>6.735763e+07</td>\n",
       "      <td>629.990000</td>\n",
       "      <td>842.000000</td>\n",
       "      <td>1818.000000</td>\n",
       "      <td>1418.000000</td>\n",
       "      <td>1915.000000</td>\n",
       "      <td>2035.000000</td>\n",
       "    </tr>\n",
       "  </tbody>\n",
       "</table>\n",
       "</div>"
      ],
      "text/plain": [
       "            item_id  listing_price  merch_station_time  \\\n",
       "count  2.499900e+04   18585.000000        24999.000000   \n",
       "mean   6.600680e+07      20.860810           33.116045   \n",
       "std    8.017280e+05      23.597091           28.087892   \n",
       "min    5.031642e+07       2.990000            1.000000   \n",
       "25%    6.534756e+07      10.990000           21.000000   \n",
       "50%    6.599858e+07      14.990000           27.000000   \n",
       "75%    6.668066e+07      22.990000           37.000000   \n",
       "max    6.735763e+07     629.990000          842.000000   \n",
       "\n",
       "       itemization_station_time  photo_station_time       qa_time  \\\n",
       "count              24999.000000        24999.000000  24999.000000   \n",
       "mean                  54.151606           60.554382      0.810672   \n",
       "std                   57.404061           73.233454     14.049210   \n",
       "min                    0.000000            0.000000      0.000000   \n",
       "25%                   32.000000           25.000000      0.000000   \n",
       "50%                   43.000000           45.000000      0.000000   \n",
       "75%                   59.000000           73.000000      0.000000   \n",
       "max                 1818.000000         1418.000000   1915.000000   \n",
       "\n",
       "         total_time  \n",
       "count  24999.000000  \n",
       "mean     148.632705  \n",
       "std      102.531958  \n",
       "min        2.000000  \n",
       "25%       93.000000  \n",
       "50%      126.000000  \n",
       "75%      172.000000  \n",
       "max     2035.000000  "
      ]
     },
     "execution_count": 26,
     "metadata": {},
     "output_type": "execute_result"
    }
   ],
   "source": [
    "#Look at range of values to identify possible data entry errors, etc. There are extremely high values in the time columns\n",
    "# which might be worth a closer look.I would need more qualitative information about the business processes, etc\n",
    "# to understand if these are typos, etc. So, I am going to allow all the data in the analysis. \n",
    "merch_processing.describe()"
   ]
  },
  {
   "cell_type": "markdown",
   "metadata": {},
   "source": [
    "# Which items have the longest processing time? "
   ]
  },
  {
   "cell_type": "markdown",
   "metadata": {},
   "source": [
    "\n",
    "<pre>\n",
    "<strong>Processing Time by warehouse, item_category, and brand_tier_group</strong>\n",
    "warehouse                          category\n",
    "item_category                      category\n",
    "brand_tier_group                   category </pre>"
   ]
  },
  {
   "cell_type": "code",
   "execution_count": 27,
   "metadata": {
    "scrolled": true
   },
   "outputs": [
    {
     "data": {
      "text/html": [
       "<div>\n",
       "<style scoped>\n",
       "    .dataframe tbody tr th:only-of-type {\n",
       "        vertical-align: middle;\n",
       "    }\n",
       "\n",
       "    .dataframe tbody tr th {\n",
       "        vertical-align: top;\n",
       "    }\n",
       "\n",
       "    .dataframe thead th {\n",
       "        text-align: right;\n",
       "    }\n",
       "</style>\n",
       "<table border=\"1\" class=\"dataframe\">\n",
       "  <thead>\n",
       "    <tr style=\"text-align: right;\">\n",
       "      <th></th>\n",
       "      <th></th>\n",
       "      <th>item_id</th>\n",
       "      <th>percent_category_at_warehouses</th>\n",
       "    </tr>\n",
       "    <tr>\n",
       "      <th>item_category</th>\n",
       "      <th>warehouse</th>\n",
       "      <th></th>\n",
       "      <th></th>\n",
       "    </tr>\n",
       "  </thead>\n",
       "  <tbody>\n",
       "    <tr>\n",
       "      <th rowspan=\"4\" valign=\"top\">Winter Accessories</th>\n",
       "      <th>DC02</th>\n",
       "      <td>22</td>\n",
       "      <td>66.666667</td>\n",
       "    </tr>\n",
       "    <tr>\n",
       "      <th>DC05</th>\n",
       "      <td>6</td>\n",
       "      <td>18.181818</td>\n",
       "    </tr>\n",
       "    <tr>\n",
       "      <th>DC04</th>\n",
       "      <td>4</td>\n",
       "      <td>12.121212</td>\n",
       "    </tr>\n",
       "    <tr>\n",
       "      <th>DC03</th>\n",
       "      <td>1</td>\n",
       "      <td>3.030303</td>\n",
       "    </tr>\n",
       "    <tr>\n",
       "      <th rowspan=\"4\" valign=\"top\">Watches</th>\n",
       "      <th>DC02</th>\n",
       "      <td>5</td>\n",
       "      <td>55.555556</td>\n",
       "    </tr>\n",
       "    <tr>\n",
       "      <th>DC03</th>\n",
       "      <td>2</td>\n",
       "      <td>22.222222</td>\n",
       "    </tr>\n",
       "    <tr>\n",
       "      <th>DC04</th>\n",
       "      <td>2</td>\n",
       "      <td>22.222222</td>\n",
       "    </tr>\n",
       "    <tr>\n",
       "      <th>DC05</th>\n",
       "      <td>0</td>\n",
       "      <td>0.000000</td>\n",
       "    </tr>\n",
       "    <tr>\n",
       "      <th rowspan=\"2\" valign=\"top\">Wallet</th>\n",
       "      <th>DC03</th>\n",
       "      <td>15</td>\n",
       "      <td>28.301887</td>\n",
       "    </tr>\n",
       "    <tr>\n",
       "      <th>DC05</th>\n",
       "      <td>15</td>\n",
       "      <td>28.301887</td>\n",
       "    </tr>\n",
       "  </tbody>\n",
       "</table>\n",
       "</div>"
      ],
      "text/plain": [
       "                              item_id  percent_category_at_warehouses\n",
       "item_category      warehouse                                         \n",
       "Winter Accessories DC02            22                       66.666667\n",
       "                   DC05             6                       18.181818\n",
       "                   DC04             4                       12.121212\n",
       "                   DC03             1                        3.030303\n",
       "Watches            DC02             5                       55.555556\n",
       "                   DC03             2                       22.222222\n",
       "                   DC04             2                       22.222222\n",
       "                   DC05             0                        0.000000\n",
       "Wallet             DC03            15                       28.301887\n",
       "                   DC05            15                       28.301887"
      ]
     },
     "execution_count": 27,
     "metadata": {},
     "output_type": "execute_result"
    }
   ],
   "source": [
    "item_cats_warehouses = merch_processing[['item_category','warehouse','item_id']].groupby(['item_category','warehouse']).count()\n",
    "item_cats_warehouses['percent_category_at_warehouses'] = item_cats_warehouses.groupby(level=0).transform(lambda x: x/(x.sum())*100)\n",
    "item_cats_warehouses.sort_values(by=['item_category','item_id','percent_category_at_warehouses'], ascending=False).head(10)"
   ]
  },
  {
   "cell_type": "code",
   "execution_count": 28,
   "metadata": {},
   "outputs": [
    {
     "name": "stdout",
     "output_type": "stream",
     "text": [
      "79.0\n"
     ]
    }
   ],
   "source": [
    "#Use the Inter Quartile Range to identify outliers\n",
    "Q1 = merch_processing['total_time'].quantile(0.25)\n",
    "Q3 = merch_processing['total_time'].quantile(0.75)\n",
    "IQR = Q3 - Q1\n",
    "print(IQR)"
   ]
  },
  {
   "cell_type": "code",
   "execution_count": 29,
   "metadata": {},
   "outputs": [],
   "source": [
    "#Create a column identifying items with longer processing time based on the interquartile range\n",
    "#This column identifies these items differently than the SQL query above (just to demonstrate two ways of looking at the same thing) \n",
    "merch_processing['long_processing_time'] = merch_processing['total_time'][(merch_processing['total_time'] > (Q3 + 1.5 * IQR))].notnull()"
   ]
  },
  {
   "cell_type": "code",
   "execution_count": 30,
   "metadata": {},
   "outputs": [],
   "source": [
    "#Replace NaN values with False (The line above creates a column with value True for observations with a long processing time\n",
    "#and value NaN for those without a long processing time)\n",
    "merch_processing['long_processing_time'].fillna(False, inplace=True)"
   ]
  },
  {
   "cell_type": "code",
   "execution_count": 31,
   "metadata": {
    "scrolled": false
   },
   "outputs": [
    {
     "name": "stdout",
     "output_type": "stream",
     "text": [
      "(1636, 2)\n",
      "(23363, 2)\n"
     ]
    }
   ],
   "source": [
    "print(merch_processing[['total_time', 'long_processing_time']][merch_processing['long_processing_time']==True].shape)\n",
    "print(merch_processing[['total_time', 'long_processing_time']][merch_processing['long_processing_time']==False].shape)"
   ]
  },
  {
   "cell_type": "code",
   "execution_count": 32,
   "metadata": {
    "scrolled": true
   },
   "outputs": [
    {
     "data": {
      "text/plain": [
       "<matplotlib.axes._subplots.AxesSubplot at 0x2648c445948>"
      ]
     },
     "execution_count": 32,
     "metadata": {},
     "output_type": "execute_result"
    },
    {
     "data": {
      "image/png": "[encoded data removed]",
      "text/plain": [
       "<Figure size 432x288 with 1 Axes>"
      ]
     },
     "metadata": {
      "needs_background": "light"
     },
     "output_type": "display_data"
    }
   ],
   "source": [
    "item_cats_warehouses.loc[(['Tops & Blouses & Shirts'],item_cats_warehouses.index.get_level_values(1).unique()),:].sort_values(by='percent_category_at_warehouses', ascending=False).plot.bar(y='percent_category_at_warehouses')"
   ]
  },
  {
   "cell_type": "code",
   "execution_count": 33,
   "metadata": {
    "scrolled": true
   },
   "outputs": [
    {
     "data": {
      "text/plain": [
       "<matplotlib.axes._subplots.AxesSubplot at 0x2648c1e0288>"
      ]
     },
     "execution_count": 33,
     "metadata": {},
     "output_type": "execute_result"
    },
    {
     "data": {
      "image/png": "[encoded data removed]",
      "text/plain": [
       "<Figure size 432x288 with 1 Axes>"
      ]
     },
     "metadata": {
      "needs_background": "light"
     },
     "output_type": "display_data"
    }
   ],
   "source": [
    "item_cats_warehouses.loc[(['Dresses'],item_cats_warehouses.index.get_level_values(1).unique()),:].sort_values(by='percent_category_at_warehouses', ascending=False).plot.bar(y='percent_category_at_warehouses')"
   ]
  },
  {
   "cell_type": "markdown",
   "metadata": {},
   "source": [
    "## Merchandise Station Time"
   ]
  },
  {
   "cell_type": "code",
   "execution_count": 34,
   "metadata": {},
   "outputs": [
    {
     "data": {
      "text/plain": [
       "<matplotlib.axes._subplots.AxesSubplot at 0x2648c1de508>"
      ]
     },
     "execution_count": 34,
     "metadata": {},
     "output_type": "execute_result"
    },
    {
     "data": {
      "image/png": "[encoded data removed]",
      "text/plain": [
       "<Figure size 432x288 with 1 Axes>"
      ]
     },
     "metadata": {
      "needs_background": "light"
     },
     "output_type": "display_data"
    }
   ],
   "source": [
    "#Bags and luggage have the longest processing time at the merchandise station\n",
    "merch_processing[(merch_processing.item_accepted_or_rejected != 'rejected') & (merch_processing.merch_station_time !=0)][['merch_station_time','item_category']].groupby('item_category').mean().sort_values(by='merch_station_time', ascending=False).plot.bar()"
   ]
  },
  {
   "cell_type": "code",
   "execution_count": 35,
   "metadata": {},
   "outputs": [
    {
     "data": {
      "text/plain": [
       "<matplotlib.axes._subplots.AxesSubplot at 0x2648c375548>"
      ]
     },
     "execution_count": 35,
     "metadata": {},
     "output_type": "execute_result"
    },
    {
     "data": {
      "image/png": "[encoded data removed]",
      "text/plain": [
       "<Figure size 432x288 with 1 Axes>"
      ]
     },
     "metadata": {
      "needs_background": "light"
     },
     "output_type": "display_data"
    }
   ],
   "source": [
    "#Designer merchandise has a longer processing time at the merchandise station\n",
    "merch_processing[(merch_processing.item_accepted_or_rejected != 'rejected') & (merch_processing.merch_station_time !=0)][['merch_station_time','brand_tier_group']].groupby('brand_tier_group').mean().sort_values(by='merch_station_time', ascending=False).plot.bar()"
   ]
  },
  {
   "cell_type": "code",
   "execution_count": 36,
   "metadata": {},
   "outputs": [
    {
     "data": {
      "text/plain": [
       "<matplotlib.axes._subplots.AxesSubplot at 0x2648c4cddc8>"
      ]
     },
     "execution_count": 36,
     "metadata": {},
     "output_type": "execute_result"
    },
    {
     "data": {
      "image/png": "[encoded data removed]",
      "text/plain": [
       "<Figure size 432x288 with 1 Axes>"
      ]
     },
     "metadata": {
      "needs_background": "light"
     },
     "output_type": "display_data"
    }
   ],
   "source": [
    "tdf = merch_processing[(merch_processing.item_accepted_or_rejected != 'rejected') & (merch_processing.merch_station_time !=0)][['merch_station_time','item_category','brand_tier_group']].groupby(['brand_tier_group','item_category']).mean().sort_values(by='merch_station_time', ascending=False)\n",
    "tdf.loc[(tdf.index.get_level_values(0),['Tops & Blouses & Shirts', 'Dresses', 'Sweaters']),:].sort_values(by='merch_station_time', ascending=False).plot.bar()"
   ]
  },
  {
   "cell_type": "code",
   "execution_count": 37,
   "metadata": {},
   "outputs": [
    {
     "data": {
      "text/plain": [
       "<matplotlib.axes._subplots.AxesSubplot at 0x2648c5a7308>"
      ]
     },
     "execution_count": 37,
     "metadata": {},
     "output_type": "execute_result"
    },
    {
     "data": {
      "image/png": "[encoded data removed]",
      "text/plain": [
       "<Figure size 432x288 with 1 Axes>"
      ]
     },
     "metadata": {
      "needs_background": "light"
     },
     "output_type": "display_data"
    }
   ],
   "source": [
    "#Warehouse DC04 has the lowest processing time at the merchandise station and DC02 & DC05 has the longest processing time\n",
    "merch_processing[(merch_processing.item_accepted_or_rejected != 'rejected') & (merch_processing.merch_station_time !=0)][['merch_station_time','warehouse']].groupby('warehouse').mean().sort_values(by='merch_station_time', ascending=False).plot.bar()"
   ]
  },
  {
   "cell_type": "code",
   "execution_count": 38,
   "metadata": {},
   "outputs": [
    {
     "data": {
      "text/html": [
       "<div>\n",
       "<style scoped>\n",
       "    .dataframe tbody tr th:only-of-type {\n",
       "        vertical-align: middle;\n",
       "    }\n",
       "\n",
       "    .dataframe tbody tr th {\n",
       "        vertical-align: top;\n",
       "    }\n",
       "\n",
       "    .dataframe thead th {\n",
       "        text-align: right;\n",
       "    }\n",
       "</style>\n",
       "<table border=\"1\" class=\"dataframe\">\n",
       "  <thead>\n",
       "    <tr style=\"text-align: right;\">\n",
       "      <th></th>\n",
       "      <th></th>\n",
       "      <th>merch_station_time</th>\n",
       "    </tr>\n",
       "    <tr>\n",
       "      <th>warehouse</th>\n",
       "      <th>item_category</th>\n",
       "      <th></th>\n",
       "    </tr>\n",
       "  </thead>\n",
       "  <tbody>\n",
       "    <tr>\n",
       "      <th rowspan=\"3\" valign=\"top\">DC02</th>\n",
       "      <th>Tops &amp; Blouses &amp; Shirts</th>\n",
       "      <td>33.712018</td>\n",
       "    </tr>\n",
       "    <tr>\n",
       "      <th>Dresses</th>\n",
       "      <td>35.330357</td>\n",
       "    </tr>\n",
       "    <tr>\n",
       "      <th>Sweaters</th>\n",
       "      <td>35.043478</td>\n",
       "    </tr>\n",
       "    <tr>\n",
       "      <th rowspan=\"3\" valign=\"top\">DC03</th>\n",
       "      <th>Tops &amp; Blouses &amp; Shirts</th>\n",
       "      <td>29.332865</td>\n",
       "    </tr>\n",
       "    <tr>\n",
       "      <th>Dresses</th>\n",
       "      <td>31.864224</td>\n",
       "    </tr>\n",
       "    <tr>\n",
       "      <th>Sweaters</th>\n",
       "      <td>32.663239</td>\n",
       "    </tr>\n",
       "    <tr>\n",
       "      <th rowspan=\"3\" valign=\"top\">DC04</th>\n",
       "      <th>Tops &amp; Blouses &amp; Shirts</th>\n",
       "      <td>24.476005</td>\n",
       "    </tr>\n",
       "    <tr>\n",
       "      <th>Dresses</th>\n",
       "      <td>27.524702</td>\n",
       "    </tr>\n",
       "    <tr>\n",
       "      <th>Sweaters</th>\n",
       "      <td>26.640118</td>\n",
       "    </tr>\n",
       "    <tr>\n",
       "      <th rowspan=\"3\" valign=\"top\">DC05</th>\n",
       "      <th>Tops &amp; Blouses &amp; Shirts</th>\n",
       "      <td>33.466346</td>\n",
       "    </tr>\n",
       "    <tr>\n",
       "      <th>Dresses</th>\n",
       "      <td>36.358816</td>\n",
       "    </tr>\n",
       "    <tr>\n",
       "      <th>Sweaters</th>\n",
       "      <td>34.693598</td>\n",
       "    </tr>\n",
       "  </tbody>\n",
       "</table>\n",
       "</div>"
      ],
      "text/plain": [
       "                                   merch_station_time\n",
       "warehouse item_category                              \n",
       "DC02      Tops & Blouses & Shirts           33.712018\n",
       "          Dresses                           35.330357\n",
       "          Sweaters                          35.043478\n",
       "DC03      Tops & Blouses & Shirts           29.332865\n",
       "          Dresses                           31.864224\n",
       "          Sweaters                          32.663239\n",
       "DC04      Tops & Blouses & Shirts           24.476005\n",
       "          Dresses                           27.524702\n",
       "          Sweaters                          26.640118\n",
       "DC05      Tops & Blouses & Shirts           33.466346\n",
       "          Dresses                           36.358816\n",
       "          Sweaters                          34.693598"
      ]
     },
     "execution_count": 38,
     "metadata": {},
     "output_type": "execute_result"
    }
   ],
   "source": [
    "warehouse_category_merchandise = merch_processing[(merch_processing.item_accepted_or_rejected != 'rejected') & (merch_processing.merch_station_time !=0)][['item_category','merch_station_time','warehouse']].groupby(['warehouse','item_category']).mean()\n",
    "warehouse_category_merchandise.loc[(warehouse_category_merchandise.index.get_level_values(0),['Tops & Blouses & Shirts', 'Dresses', 'Sweaters']),:]"
   ]
  },
  {
   "cell_type": "markdown",
   "metadata": {},
   "source": [
    "## Itemization Station Time"
   ]
  },
  {
   "cell_type": "code",
   "execution_count": 39,
   "metadata": {
    "scrolled": true
   },
   "outputs": [
    {
     "data": {
      "text/plain": [
       "<matplotlib.axes._subplots.AxesSubplot at 0x2648d63d408>"
      ]
     },
     "execution_count": 39,
     "metadata": {},
     "output_type": "execute_result"
    },
    {
     "data": {
      "image/png": "[encoded data removed]",
      "text/plain": [
       "<Figure size 432x288 with 1 Axes>"
      ]
     },
     "metadata": {
      "needs_background": "light"
     },
     "output_type": "display_data"
    }
   ],
   "source": [
    "#Bags & Luggage, Handbags, Watches, and Cover Up have the longest processing time at the itemization station\n",
    "merch_processing[(merch_processing.item_accepted_or_rejected != 'rejected') & (merch_processing.itemization_station_time !=0)][['itemization_station_time','item_category']].groupby('item_category').mean().sort_values(by='itemization_station_time', ascending=False).plot.bar()"
   ]
  },
  {
   "cell_type": "code",
   "execution_count": 40,
   "metadata": {},
   "outputs": [
    {
     "data": {
      "text/plain": [
       "<matplotlib.axes._subplots.AxesSubplot at 0x2648d75b488>"
      ]
     },
     "execution_count": 40,
     "metadata": {},
     "output_type": "execute_result"
    },
    {
     "data": {
      "image/png": "[encoded data removed]",
      "text/plain": [
       "<Figure size 432x288 with 1 Axes>"
      ]
     },
     "metadata": {
      "needs_background": "light"
     },
     "output_type": "display_data"
    }
   ],
   "source": [
    "#Designer merchandise takes longer to process at the itemization station\n",
    "merch_processing[(merch_processing.item_accepted_or_rejected != 'rejected') & (merch_processing.itemization_station_time !=0)][['itemization_station_time','brand_tier_group']].groupby('brand_tier_group').mean().sort_values(by='itemization_station_time', ascending=False).plot.bar()"
   ]
  },
  {
   "cell_type": "code",
   "execution_count": 41,
   "metadata": {},
   "outputs": [
    {
     "data": {
      "text/plain": [
       "<matplotlib.axes._subplots.AxesSubplot at 0x2648ed53f48>"
      ]
     },
     "execution_count": 41,
     "metadata": {},
     "output_type": "execute_result"
    },
    {
     "data": {
      "image/png": "[encoded data removed]",
      "text/plain": [
       "<Figure size 432x288 with 1 Axes>"
      ]
     },
     "metadata": {
      "needs_background": "light"
     },
     "output_type": "display_data"
    }
   ],
   "source": [
    "tdf = merch_processing[(merch_processing.item_accepted_or_rejected != 'rejected') & (merch_processing.itemization_station_time !=0)][['itemization_station_time','item_category','brand_tier_group']].groupby(['brand_tier_group','item_category']).mean().sort_values(by='itemization_station_time', ascending=False)\n",
    "tdf.loc[(tdf.index.get_level_values(0),['Tops & Blouses & Shirts', 'Dresses', 'Sweaters']),:].sort_values(by='itemization_station_time',ascending=False).plot.bar()"
   ]
  },
  {
   "cell_type": "code",
   "execution_count": 42,
   "metadata": {},
   "outputs": [
    {
     "data": {
      "text/plain": [
       "<matplotlib.axes._subplots.AxesSubplot at 0x2648e7b2708>"
      ]
     },
     "execution_count": 42,
     "metadata": {},
     "output_type": "execute_result"
    },
    {
     "data": {
      "image/png": "[encoded data removed]",
      "text/plain": [
       "<Figure size 432x288 with 1 Axes>"
      ]
     },
     "metadata": {
      "needs_background": "light"
     },
     "output_type": "display_data"
    }
   ],
   "source": [
    "#Warehouse 5 and 2 have longer processing times at the itemization station\n",
    "merch_processing[(merch_processing.item_accepted_or_rejected != 'rejected') & (merch_processing.itemization_station_time !=0)][['itemization_station_time','warehouse']].groupby('warehouse').mean().sort_values(by='itemization_station_time', ascending=False).plot.bar()"
   ]
  },
  {
   "cell_type": "code",
   "execution_count": 43,
   "metadata": {},
   "outputs": [
    {
     "data": {
      "text/html": [
       "<div>\n",
       "<style scoped>\n",
       "    .dataframe tbody tr th:only-of-type {\n",
       "        vertical-align: middle;\n",
       "    }\n",
       "\n",
       "    .dataframe tbody tr th {\n",
       "        vertical-align: top;\n",
       "    }\n",
       "\n",
       "    .dataframe thead th {\n",
       "        text-align: right;\n",
       "    }\n",
       "</style>\n",
       "<table border=\"1\" class=\"dataframe\">\n",
       "  <thead>\n",
       "    <tr style=\"text-align: right;\">\n",
       "      <th></th>\n",
       "      <th></th>\n",
       "      <th>itemization_station_time</th>\n",
       "    </tr>\n",
       "    <tr>\n",
       "      <th>warehouse</th>\n",
       "      <th>item_category</th>\n",
       "      <th></th>\n",
       "    </tr>\n",
       "  </thead>\n",
       "  <tbody>\n",
       "    <tr>\n",
       "      <th rowspan=\"3\" valign=\"top\">DC02</th>\n",
       "      <th>Tops &amp; Blouses &amp; Shirts</th>\n",
       "      <td>55.944067</td>\n",
       "    </tr>\n",
       "    <tr>\n",
       "      <th>Dresses</th>\n",
       "      <td>59.199777</td>\n",
       "    </tr>\n",
       "    <tr>\n",
       "      <th>Sweaters</th>\n",
       "      <td>54.921269</td>\n",
       "    </tr>\n",
       "    <tr>\n",
       "      <th rowspan=\"3\" valign=\"top\">DC03</th>\n",
       "      <th>Tops &amp; Blouses &amp; Shirts</th>\n",
       "      <td>49.278090</td>\n",
       "    </tr>\n",
       "    <tr>\n",
       "      <th>Dresses</th>\n",
       "      <td>55.502155</td>\n",
       "    </tr>\n",
       "    <tr>\n",
       "      <th>Sweaters</th>\n",
       "      <td>48.149100</td>\n",
       "    </tr>\n",
       "    <tr>\n",
       "      <th rowspan=\"3\" valign=\"top\">DC04</th>\n",
       "      <th>Tops &amp; Blouses &amp; Shirts</th>\n",
       "      <td>42.762646</td>\n",
       "    </tr>\n",
       "    <tr>\n",
       "      <th>Dresses</th>\n",
       "      <td>44.454855</td>\n",
       "    </tr>\n",
       "    <tr>\n",
       "      <th>Sweaters</th>\n",
       "      <td>46.398230</td>\n",
       "    </tr>\n",
       "    <tr>\n",
       "      <th rowspan=\"3\" valign=\"top\">DC05</th>\n",
       "      <th>Tops &amp; Blouses &amp; Shirts</th>\n",
       "      <td>59.961538</td>\n",
       "    </tr>\n",
       "    <tr>\n",
       "      <th>Dresses</th>\n",
       "      <td>64.807645</td>\n",
       "    </tr>\n",
       "    <tr>\n",
       "      <th>Sweaters</th>\n",
       "      <td>56.553354</td>\n",
       "    </tr>\n",
       "  </tbody>\n",
       "</table>\n",
       "</div>"
      ],
      "text/plain": [
       "                                   itemization_station_time\n",
       "warehouse item_category                                    \n",
       "DC02      Tops & Blouses & Shirts                 55.944067\n",
       "          Dresses                                 59.199777\n",
       "          Sweaters                                54.921269\n",
       "DC03      Tops & Blouses & Shirts                 49.278090\n",
       "          Dresses                                 55.502155\n",
       "          Sweaters                                48.149100\n",
       "DC04      Tops & Blouses & Shirts                 42.762646\n",
       "          Dresses                                 44.454855\n",
       "          Sweaters                                46.398230\n",
       "DC05      Tops & Blouses & Shirts                 59.961538\n",
       "          Dresses                                 64.807645\n",
       "          Sweaters                                56.553354"
      ]
     },
     "execution_count": 43,
     "metadata": {},
     "output_type": "execute_result"
    }
   ],
   "source": [
    "warehouse_category_itemization = merch_processing[(merch_processing.item_accepted_or_rejected != 'rejected') & (merch_processing.itemization_station_time !=0)][['item_category','itemization_station_time','warehouse']].groupby(['warehouse','item_category']).mean()\n",
    "warehouse_category_itemization.loc[(warehouse_category_itemization.index.get_level_values(0),['Tops & Blouses & Shirts', 'Dresses', 'Sweaters']),:]"
   ]
  },
  {
   "cell_type": "markdown",
   "metadata": {},
   "source": [
    "## Photo Station Time"
   ]
  },
  {
   "cell_type": "code",
   "execution_count": 44,
   "metadata": {},
   "outputs": [
    {
     "data": {
      "text/plain": [
       "<matplotlib.axes._subplots.AxesSubplot at 0x2648e882588>"
      ]
     },
     "execution_count": 44,
     "metadata": {},
     "output_type": "execute_result"
    },
    {
     "data": {
      "image/png": "[encoded data removed]",
      "text/plain": [
       "<Figure size 432x288 with 1 Axes>"
      ]
     },
     "metadata": {
      "needs_background": "light"
     },
     "output_type": "display_data"
    }
   ],
   "source": [
    "#Handbags take the longest to process at the photo station followed by Luggage, cover up, and one pieces\n",
    "merch_processing[(merch_processing.item_accepted_or_rejected != 'rejected') & (merch_processing.photo_station_time !=0)][['photo_station_time','item_category']].groupby('item_category').mean().sort_values(by='photo_station_time', ascending=False).plot.bar()"
   ]
  },
  {
   "cell_type": "code",
   "execution_count": 45,
   "metadata": {},
   "outputs": [
    {
     "data": {
      "text/plain": [
       "<matplotlib.axes._subplots.AxesSubplot at 0x2648e9998c8>"
      ]
     },
     "execution_count": 45,
     "metadata": {},
     "output_type": "execute_result"
    },
    {
     "data": {
      "image/png": "[encoded data removed]",
      "text/plain": [
       "<Figure size 432x288 with 1 Axes>"
      ]
     },
     "metadata": {
      "needs_background": "light"
     },
     "output_type": "display_data"
    }
   ],
   "source": [
    "#Designer merchandise take the longest time to process at the photo station\n",
    "merch_processing[(merch_processing.item_accepted_or_rejected != 'rejected') & (merch_processing.photo_station_time !=0)][['photo_station_time','brand_tier_group']].groupby('brand_tier_group').mean().sort_values(by='photo_station_time', ascending=False).plot.bar()"
   ]
  },
  {
   "cell_type": "code",
   "execution_count": 46,
   "metadata": {},
   "outputs": [
    {
     "data": {
      "text/plain": [
       "<matplotlib.axes._subplots.AxesSubplot at 0x2648ea0a988>"
      ]
     },
     "execution_count": 46,
     "metadata": {},
     "output_type": "execute_result"
    },
    {
     "data": {
      "image/png": "[encoded data removed]",
      "text/plain": [
       "<Figure size 432x288 with 1 Axes>"
      ]
     },
     "metadata": {
      "needs_background": "light"
     },
     "output_type": "display_data"
    }
   ],
   "source": [
    "tdf = merch_processing[(merch_processing.item_accepted_or_rejected != 'rejected') & (merch_processing.photo_station_time !=0)][['photo_station_time','item_category','brand_tier_group']].groupby(['brand_tier_group','item_category']).mean().sort_values(by='photo_station_time', ascending=False)\n",
    "tdf.loc[(tdf.index.get_level_values(0),['Tops & Blouses & Shirts', 'Dresses', 'Sweaters']),:].sort_values(by='photo_station_time', ascending=False).plot.bar()"
   ]
  },
  {
   "cell_type": "code",
   "execution_count": 47,
   "metadata": {},
   "outputs": [
    {
     "data": {
      "text/plain": [
       "<matplotlib.axes._subplots.AxesSubplot at 0x2648ea973c8>"
      ]
     },
     "execution_count": 47,
     "metadata": {},
     "output_type": "execute_result"
    },
    {
     "data": {
      "image/png": "[encoded data removed]",
      "text/plain": [
       "<Figure size 432x288 with 1 Axes>"
      ]
     },
     "metadata": {
      "needs_background": "light"
     },
     "output_type": "display_data"
    }
   ],
   "source": [
    "#Warehouses 2 and 3 take the longest time to process merchandise at the photo station\n",
    "merch_processing[(merch_processing.item_accepted_or_rejected != 'rejected') & (merch_processing.photo_station_time !=0)][['photo_station_time','warehouse']].groupby('warehouse').mean().sort_values(by='photo_station_time', ascending=False).plot.bar()"
   ]
  },
  {
   "cell_type": "code",
   "execution_count": 48,
   "metadata": {},
   "outputs": [
    {
     "data": {
      "text/html": [
       "<div>\n",
       "<style scoped>\n",
       "    .dataframe tbody tr th:only-of-type {\n",
       "        vertical-align: middle;\n",
       "    }\n",
       "\n",
       "    .dataframe tbody tr th {\n",
       "        vertical-align: top;\n",
       "    }\n",
       "\n",
       "    .dataframe thead th {\n",
       "        text-align: right;\n",
       "    }\n",
       "</style>\n",
       "<table border=\"1\" class=\"dataframe\">\n",
       "  <thead>\n",
       "    <tr style=\"text-align: right;\">\n",
       "      <th></th>\n",
       "      <th></th>\n",
       "      <th>photo_station_time</th>\n",
       "    </tr>\n",
       "    <tr>\n",
       "      <th>warehouse</th>\n",
       "      <th>item_category</th>\n",
       "      <th></th>\n",
       "    </tr>\n",
       "  </thead>\n",
       "  <tbody>\n",
       "    <tr>\n",
       "      <th rowspan=\"3\" valign=\"top\">DC02</th>\n",
       "      <th>Tops &amp; Blouses &amp; Shirts</th>\n",
       "      <td>84.457294</td>\n",
       "    </tr>\n",
       "    <tr>\n",
       "      <th>Dresses</th>\n",
       "      <td>88.867188</td>\n",
       "    </tr>\n",
       "    <tr>\n",
       "      <th>Sweaters</th>\n",
       "      <td>80.622353</td>\n",
       "    </tr>\n",
       "    <tr>\n",
       "      <th rowspan=\"3\" valign=\"top\">DC03</th>\n",
       "      <th>Tops &amp; Blouses &amp; Shirts</th>\n",
       "      <td>66.373596</td>\n",
       "    </tr>\n",
       "    <tr>\n",
       "      <th>Dresses</th>\n",
       "      <td>88.409483</td>\n",
       "    </tr>\n",
       "    <tr>\n",
       "      <th>Sweaters</th>\n",
       "      <td>84.670951</td>\n",
       "    </tr>\n",
       "    <tr>\n",
       "      <th rowspan=\"3\" valign=\"top\">DC04</th>\n",
       "      <th>Tops &amp; Blouses &amp; Shirts</th>\n",
       "      <td>58.367056</td>\n",
       "    </tr>\n",
       "    <tr>\n",
       "      <th>Dresses</th>\n",
       "      <td>66.492334</td>\n",
       "    </tr>\n",
       "    <tr>\n",
       "      <th>Sweaters</th>\n",
       "      <td>55.421829</td>\n",
       "    </tr>\n",
       "    <tr>\n",
       "      <th rowspan=\"3\" valign=\"top\">DC05</th>\n",
       "      <th>Tops &amp; Blouses &amp; Shirts</th>\n",
       "      <td>61.448718</td>\n",
       "    </tr>\n",
       "    <tr>\n",
       "      <th>Dresses</th>\n",
       "      <td>72.651048</td>\n",
       "    </tr>\n",
       "    <tr>\n",
       "      <th>Sweaters</th>\n",
       "      <td>60.728659</td>\n",
       "    </tr>\n",
       "  </tbody>\n",
       "</table>\n",
       "</div>"
      ],
      "text/plain": [
       "                                   photo_station_time\n",
       "warehouse item_category                              \n",
       "DC02      Tops & Blouses & Shirts           84.457294\n",
       "          Dresses                           88.867188\n",
       "          Sweaters                          80.622353\n",
       "DC03      Tops & Blouses & Shirts           66.373596\n",
       "          Dresses                           88.409483\n",
       "          Sweaters                          84.670951\n",
       "DC04      Tops & Blouses & Shirts           58.367056\n",
       "          Dresses                           66.492334\n",
       "          Sweaters                          55.421829\n",
       "DC05      Tops & Blouses & Shirts           61.448718\n",
       "          Dresses                           72.651048\n",
       "          Sweaters                          60.728659"
      ]
     },
     "execution_count": 48,
     "metadata": {},
     "output_type": "execute_result"
    }
   ],
   "source": [
    "warehouse_category_photo = merch_processing[(merch_processing.item_accepted_or_rejected != 'rejected') & (merch_processing.photo_station_time !=0)][['item_category','photo_station_time','warehouse']].groupby(['warehouse','item_category']).mean()\n",
    "warehouse_category_photo.loc[(warehouse_category_photo.index.get_level_values(0),['Tops & Blouses & Shirts', 'Dresses', 'Sweaters']),:]"
   ]
  },
  {
   "cell_type": "markdown",
   "metadata": {},
   "source": [
    "## QA Station"
   ]
  },
  {
   "cell_type": "code",
   "execution_count": 49,
   "metadata": {},
   "outputs": [
    {
     "data": {
      "text/plain": [
       "<matplotlib.axes._subplots.AxesSubplot at 0x2648eb0b808>"
      ]
     },
     "execution_count": 49,
     "metadata": {},
     "output_type": "execute_result"
    },
    {
     "data": {
      "image/png": "[encoded data removed]",
      "text/plain": [
       "<Figure size 432x288 with 1 Axes>"
      ]
     },
     "metadata": {
      "needs_background": "light"
     },
     "output_type": "display_data"
    }
   ],
   "source": [
    "#One pieces, and belts take the longest time to process at the QA station with one pieces taking the longest\n",
    "merch_processing[(merch_processing.item_accepted_or_rejected != 'rejected') & (merch_processing.qa_time !=0)][['qa_time','item_category']].groupby('item_category').mean().sort_values(by='qa_time', ascending=False).plot.bar()"
   ]
  },
  {
   "cell_type": "code",
   "execution_count": 50,
   "metadata": {},
   "outputs": [
    {
     "data": {
      "text/plain": [
       "<matplotlib.axes._subplots.AxesSubplot at 0x2648ec36708>"
      ]
     },
     "execution_count": 50,
     "metadata": {},
     "output_type": "execute_result"
    },
    {
     "data": {
      "image/png": "[encoded data removed]",
      "text/plain": [
       "<Figure size 432x288 with 1 Axes>"
      ]
     },
     "metadata": {
      "needs_background": "light"
     },
     "output_type": "display_data"
    }
   ],
   "source": [
    "#Designer merchandise has a lower processing time at the qa station\n",
    "merch_processing[(merch_processing.item_accepted_or_rejected != 'rejected') & (merch_processing.qa_time !=0)][['qa_time','brand_tier_group']].groupby('brand_tier_group').mean().sort_values(by='qa_time', ascending=False).plot.bar()"
   ]
  },
  {
   "cell_type": "code",
   "execution_count": 51,
   "metadata": {},
   "outputs": [
    {
     "data": {
      "text/plain": [
       "<matplotlib.axes._subplots.AxesSubplot at 0x2648ea07f08>"
      ]
     },
     "execution_count": 51,
     "metadata": {},
     "output_type": "execute_result"
    },
    {
     "data": {
      "image/png": "[encoded data removed]",
      "text/plain": [
       "<Figure size 432x288 with 1 Axes>"
      ]
     },
     "metadata": {
      "needs_background": "light"
     },
     "output_type": "display_data"
    }
   ],
   "source": [
    "tdf = merch_processing[(merch_processing.item_accepted_or_rejected != 'rejected') & (merch_processing.qa_time !=0) ][['qa_time','item_category','brand_tier_group']].groupby(['brand_tier_group','item_category']).mean().sort_values(by='qa_time', ascending=False)\n",
    "tdf.loc[(tdf.index.get_level_values(0),['Tops & Blouses & Shirts', 'Dresses', 'Sweaters']),:].sort_values(by='qa_time', ascending=False).plot.bar()"
   ]
  },
  {
   "cell_type": "code",
   "execution_count": 52,
   "metadata": {
    "scrolled": true
   },
   "outputs": [
    {
     "data": {
      "text/html": [
       "<div>\n",
       "<style scoped>\n",
       "    .dataframe tbody tr th:only-of-type {\n",
       "        vertical-align: middle;\n",
       "    }\n",
       "\n",
       "    .dataframe tbody tr th {\n",
       "        vertical-align: top;\n",
       "    }\n",
       "\n",
       "    .dataframe thead th {\n",
       "        text-align: right;\n",
       "    }\n",
       "</style>\n",
       "<table border=\"1\" class=\"dataframe\">\n",
       "  <thead>\n",
       "    <tr style=\"text-align: right;\">\n",
       "      <th></th>\n",
       "      <th>qa_time</th>\n",
       "    </tr>\n",
       "    <tr>\n",
       "      <th>warehouse</th>\n",
       "      <th></th>\n",
       "    </tr>\n",
       "  </thead>\n",
       "  <tbody>\n",
       "    <tr>\n",
       "      <th>DC04</th>\n",
       "      <td>111.050000</td>\n",
       "    </tr>\n",
       "    <tr>\n",
       "      <th>DC03</th>\n",
       "      <td>7.117647</td>\n",
       "    </tr>\n",
       "    <tr>\n",
       "      <th>DC02</th>\n",
       "      <td>4.690476</td>\n",
       "    </tr>\n",
       "    <tr>\n",
       "      <th>DC05</th>\n",
       "      <td>3.000000</td>\n",
       "    </tr>\n",
       "  </tbody>\n",
       "</table>\n",
       "</div>"
      ],
      "text/plain": [
       "              qa_time\n",
       "warehouse            \n",
       "DC04       111.050000\n",
       "DC03         7.117647\n",
       "DC02         4.690476\n",
       "DC05         3.000000"
      ]
     },
     "execution_count": 52,
     "metadata": {},
     "output_type": "execute_result"
    }
   ],
   "source": [
    "merch_processing[(merch_processing.item_accepted_or_rejected != 'rejected') & (merch_processing.qa_time !=0) ][['qa_time','warehouse']].groupby('warehouse').mean().sort_values(by='qa_time', ascending=False)"
   ]
  },
  {
   "cell_type": "code",
   "execution_count": 53,
   "metadata": {},
   "outputs": [
    {
     "data": {
      "text/plain": [
       "<matplotlib.axes._subplots.AxesSubplot at 0x2648edff888>"
      ]
     },
     "execution_count": 53,
     "metadata": {},
     "output_type": "execute_result"
    },
    {
     "data": {
      "image/png": "[encoded data removed]",
      "text/plain": [
       "<Figure size 432x288 with 1 Axes>"
      ]
     },
     "metadata": {
      "needs_background": "light"
     },
     "output_type": "display_data"
    }
   ],
   "source": [
    "#DC04 has the longest processing time at the qa station\n",
    "merch_processing[(merch_processing.item_accepted_or_rejected != 'rejected') & (merch_processing.qa_time !=0) ][['qa_time','warehouse']].groupby('warehouse').mean().sort_values(by='qa_time', ascending=False).plot.bar()"
   ]
  },
  {
   "cell_type": "code",
   "execution_count": 54,
   "metadata": {},
   "outputs": [
    {
     "data": {
      "text/html": [
       "<div>\n",
       "<style scoped>\n",
       "    .dataframe tbody tr th:only-of-type {\n",
       "        vertical-align: middle;\n",
       "    }\n",
       "\n",
       "    .dataframe tbody tr th {\n",
       "        vertical-align: top;\n",
       "    }\n",
       "\n",
       "    .dataframe thead th {\n",
       "        text-align: right;\n",
       "    }\n",
       "</style>\n",
       "<table border=\"1\" class=\"dataframe\">\n",
       "  <thead>\n",
       "    <tr style=\"text-align: right;\">\n",
       "      <th></th>\n",
       "      <th></th>\n",
       "      <th>qa_time</th>\n",
       "    </tr>\n",
       "    <tr>\n",
       "      <th>warehouse</th>\n",
       "      <th>item_category</th>\n",
       "      <th></th>\n",
       "    </tr>\n",
       "  </thead>\n",
       "  <tbody>\n",
       "    <tr>\n",
       "      <th rowspan=\"3\" valign=\"top\">DC02</th>\n",
       "      <th>Tops &amp; Blouses &amp; Shirts</th>\n",
       "      <td>3.875000</td>\n",
       "    </tr>\n",
       "    <tr>\n",
       "      <th>Dresses</th>\n",
       "      <td>5.000000</td>\n",
       "    </tr>\n",
       "    <tr>\n",
       "      <th>Sweaters</th>\n",
       "      <td>3.333333</td>\n",
       "    </tr>\n",
       "    <tr>\n",
       "      <th rowspan=\"3\" valign=\"top\">DC03</th>\n",
       "      <th>Tops &amp; Blouses &amp; Shirts</th>\n",
       "      <td>6.169591</td>\n",
       "    </tr>\n",
       "    <tr>\n",
       "      <th>Dresses</th>\n",
       "      <td>7.171296</td>\n",
       "    </tr>\n",
       "    <tr>\n",
       "      <th>Sweaters</th>\n",
       "      <td>6.593750</td>\n",
       "    </tr>\n",
       "    <tr>\n",
       "      <th rowspan=\"3\" valign=\"top\">DC04</th>\n",
       "      <th>Tops &amp; Blouses &amp; Shirts</th>\n",
       "      <td>57.700000</td>\n",
       "    </tr>\n",
       "    <tr>\n",
       "      <th>Dresses</th>\n",
       "      <td>69.000000</td>\n",
       "    </tr>\n",
       "    <tr>\n",
       "      <th>Sweaters</th>\n",
       "      <td>20.500000</td>\n",
       "    </tr>\n",
       "    <tr>\n",
       "      <th rowspan=\"3\" valign=\"top\">DC05</th>\n",
       "      <th>Tops &amp; Blouses &amp; Shirts</th>\n",
       "      <td>NaN</td>\n",
       "    </tr>\n",
       "    <tr>\n",
       "      <th>Dresses</th>\n",
       "      <td>NaN</td>\n",
       "    </tr>\n",
       "    <tr>\n",
       "      <th>Sweaters</th>\n",
       "      <td>NaN</td>\n",
       "    </tr>\n",
       "  </tbody>\n",
       "</table>\n",
       "</div>"
      ],
      "text/plain": [
       "                                     qa_time\n",
       "warehouse item_category                     \n",
       "DC02      Tops & Blouses & Shirts   3.875000\n",
       "          Dresses                   5.000000\n",
       "          Sweaters                  3.333333\n",
       "DC03      Tops & Blouses & Shirts   6.169591\n",
       "          Dresses                   7.171296\n",
       "          Sweaters                  6.593750\n",
       "DC04      Tops & Blouses & Shirts  57.700000\n",
       "          Dresses                  69.000000\n",
       "          Sweaters                 20.500000\n",
       "DC05      Tops & Blouses & Shirts        NaN\n",
       "          Dresses                        NaN\n",
       "          Sweaters                       NaN"
      ]
     },
     "execution_count": 54,
     "metadata": {},
     "output_type": "execute_result"
    }
   ],
   "source": [
    "warehouse_category_qa = merch_processing[(merch_processing.item_accepted_or_rejected != 'rejected') & (merch_processing.qa_time !=0)][['item_category','qa_time','warehouse']].groupby(['warehouse','item_category']).mean()\n",
    "warehouse_category_qa.loc[(warehouse_category_qa.index.get_level_values(0),['Tops & Blouses & Shirts', 'Dresses', 'Sweaters']), :]"
   ]
  },
  {
   "cell_type": "markdown",
   "metadata": {},
   "source": [
    "## Total Time"
   ]
  },
  {
   "cell_type": "code",
   "execution_count": 55,
   "metadata": {},
   "outputs": [
    {
     "data": {
      "text/html": [
       "<div>\n",
       "<style scoped>\n",
       "    .dataframe tbody tr th:only-of-type {\n",
       "        vertical-align: middle;\n",
       "    }\n",
       "\n",
       "    .dataframe tbody tr th {\n",
       "        vertical-align: top;\n",
       "    }\n",
       "\n",
       "    .dataframe thead th {\n",
       "        text-align: right;\n",
       "    }\n",
       "</style>\n",
       "<table border=\"1\" class=\"dataframe\">\n",
       "  <thead>\n",
       "    <tr style=\"text-align: right;\">\n",
       "      <th></th>\n",
       "      <th>total_time</th>\n",
       "    </tr>\n",
       "    <tr>\n",
       "      <th>item_category</th>\n",
       "      <th></th>\n",
       "    </tr>\n",
       "  </thead>\n",
       "  <tbody>\n",
       "    <tr>\n",
       "      <th>Bags &amp; Luggage</th>\n",
       "      <td>270.250000</td>\n",
       "    </tr>\n",
       "    <tr>\n",
       "      <th>Handbags</th>\n",
       "      <td>269.358871</td>\n",
       "    </tr>\n",
       "    <tr>\n",
       "      <th>Cover up</th>\n",
       "      <td>224.277778</td>\n",
       "    </tr>\n",
       "    <tr>\n",
       "      <th>Boots</th>\n",
       "      <td>184.858300</td>\n",
       "    </tr>\n",
       "    <tr>\n",
       "      <th>Watches</th>\n",
       "      <td>183.888889</td>\n",
       "    </tr>\n",
       "    <tr>\n",
       "      <th>Overalls</th>\n",
       "      <td>179.413793</td>\n",
       "    </tr>\n",
       "    <tr>\n",
       "      <th>In the bag</th>\n",
       "      <td>177.714286</td>\n",
       "    </tr>\n",
       "    <tr>\n",
       "      <th>Jeans</th>\n",
       "      <td>175.098919</td>\n",
       "    </tr>\n",
       "    <tr>\n",
       "      <th>Pants</th>\n",
       "      <td>169.790698</td>\n",
       "    </tr>\n",
       "    <tr>\n",
       "      <th>Shoes</th>\n",
       "      <td>169.655570</td>\n",
       "    </tr>\n",
       "    <tr>\n",
       "      <th>Dresses</th>\n",
       "      <td>167.416147</td>\n",
       "    </tr>\n",
       "    <tr>\n",
       "      <th>Coats &amp; Jackets</th>\n",
       "      <td>166.640394</td>\n",
       "    </tr>\n",
       "    <tr>\n",
       "      <th>Sweatshirts &amp; Fleece</th>\n",
       "      <td>156.628684</td>\n",
       "    </tr>\n",
       "    <tr>\n",
       "      <th>Active Pants</th>\n",
       "      <td>155.996522</td>\n",
       "    </tr>\n",
       "    <tr>\n",
       "      <th>Sweaters</th>\n",
       "      <td>154.628560</td>\n",
       "    </tr>\n",
       "    <tr>\n",
       "      <th>One Piece</th>\n",
       "      <td>154.384030</td>\n",
       "    </tr>\n",
       "    <tr>\n",
       "      <th>Blazers</th>\n",
       "      <td>153.707483</td>\n",
       "    </tr>\n",
       "    <tr>\n",
       "      <th>Active Dress</th>\n",
       "      <td>152.000000</td>\n",
       "    </tr>\n",
       "    <tr>\n",
       "      <th>Wallet</th>\n",
       "      <td>151.471698</td>\n",
       "    </tr>\n",
       "    <tr>\n",
       "      <th>Swim</th>\n",
       "      <td>151.400000</td>\n",
       "    </tr>\n",
       "    <tr>\n",
       "      <th>Skirts &amp; Skorts</th>\n",
       "      <td>149.198238</td>\n",
       "    </tr>\n",
       "    <tr>\n",
       "      <th>Headwear</th>\n",
       "      <td>149.030488</td>\n",
       "    </tr>\n",
       "    <tr>\n",
       "      <th>Tops &amp; Blouses &amp; Shirts</th>\n",
       "      <td>146.462206</td>\n",
       "    </tr>\n",
       "    <tr>\n",
       "      <th>Belts</th>\n",
       "      <td>143.800000</td>\n",
       "    </tr>\n",
       "    <tr>\n",
       "      <th>Leggings</th>\n",
       "      <td>143.439883</td>\n",
       "    </tr>\n",
       "    <tr>\n",
       "      <th>Active Tops</th>\n",
       "      <td>142.959335</td>\n",
       "    </tr>\n",
       "    <tr>\n",
       "      <th>Winter Accessories</th>\n",
       "      <td>142.484848</td>\n",
       "    </tr>\n",
       "    <tr>\n",
       "      <th>Vest</th>\n",
       "      <td>134.414634</td>\n",
       "    </tr>\n",
       "    <tr>\n",
       "      <th>Active Skirts / Skorts</th>\n",
       "      <td>128.434783</td>\n",
       "    </tr>\n",
       "    <tr>\n",
       "      <th>Tees &amp; Tanks</th>\n",
       "      <td>126.013568</td>\n",
       "    </tr>\n",
       "    <tr>\n",
       "      <th>Shorts - Active</th>\n",
       "      <td>120.554974</td>\n",
       "    </tr>\n",
       "    <tr>\n",
       "      <th>Shorts</th>\n",
       "      <td>114.153488</td>\n",
       "    </tr>\n",
       "    <tr>\n",
       "      <th>Scarves &amp; Wraps</th>\n",
       "      <td>112.493734</td>\n",
       "    </tr>\n",
       "    <tr>\n",
       "      <th>Tights &amp; Hosiery</th>\n",
       "      <td>103.833333</td>\n",
       "    </tr>\n",
       "  </tbody>\n",
       "</table>\n",
       "</div>"
      ],
      "text/plain": [
       "                         total_time\n",
       "item_category                      \n",
       "Bags & Luggage           270.250000\n",
       "Handbags                 269.358871\n",
       "Cover up                 224.277778\n",
       "Boots                    184.858300\n",
       "Watches                  183.888889\n",
       "Overalls                 179.413793\n",
       "In the bag               177.714286\n",
       "Jeans                    175.098919\n",
       "Pants                    169.790698\n",
       "Shoes                    169.655570\n",
       "Dresses                  167.416147\n",
       "Coats & Jackets          166.640394\n",
       "Sweatshirts & Fleece     156.628684\n",
       "Active Pants             155.996522\n",
       "Sweaters                 154.628560\n",
       "One Piece                154.384030\n",
       "Blazers                  153.707483\n",
       "Active Dress             152.000000\n",
       "Wallet                   151.471698\n",
       "Swim                     151.400000\n",
       "Skirts & Skorts          149.198238\n",
       "Headwear                 149.030488\n",
       "Tops & Blouses & Shirts  146.462206\n",
       "Belts                    143.800000\n",
       "Leggings                 143.439883\n",
       "Active Tops              142.959335\n",
       "Winter Accessories       142.484848\n",
       "Vest                     134.414634\n",
       "Active Skirts / Skorts   128.434783\n",
       "Tees & Tanks             126.013568\n",
       "Shorts - Active          120.554974\n",
       "Shorts                   114.153488\n",
       "Scarves & Wraps          112.493734\n",
       "Tights & Hosiery         103.833333"
      ]
     },
     "execution_count": 55,
     "metadata": {},
     "output_type": "execute_result"
    }
   ],
   "source": [
    "#Bags/Luggage, Handbags, and Cover up take the longest time to process overall (unweighted)\n",
    "merch_processing[['total_time','item_category']].groupby('item_category').mean().sort_values(by='total_time', ascending=False)"
   ]
  },
  {
   "cell_type": "code",
   "execution_count": 56,
   "metadata": {},
   "outputs": [
    {
     "data": {
      "text/plain": [
       "<matplotlib.axes._subplots.AxesSubplot at 0x2648ee6c808>"
      ]
     },
     "execution_count": 56,
     "metadata": {},
     "output_type": "execute_result"
    },
    {
     "data": {
      "image/png": "[encoded data removed]",
      "text/plain": [
       "<Figure size 432x288 with 1 Axes>"
      ]
     },
     "metadata": {
      "needs_background": "light"
     },
     "output_type": "display_data"
    }
   ],
   "source": [
    "#Designer merchandise takes the longest to process overall\n",
    "merch_processing[['total_time','brand_tier_group']].groupby('brand_tier_group').mean().sort_values(by='total_time', ascending=False).plot.bar()"
   ]
  },
  {
   "cell_type": "markdown",
   "metadata": {},
   "source": [
    "# Which station has the longest processing time?"
   ]
  },
  {
   "cell_type": "code",
   "execution_count": 57,
   "metadata": {
    "scrolled": true
   },
   "outputs": [
    {
     "data": {
      "text/plain": [
       "photo_station_time          60.554382\n",
       "itemization_station_time    54.151606\n",
       "merch_station_time          33.116045\n",
       "qa_time                      0.810672\n",
       "dtype: float64"
      ]
     },
     "execution_count": 57,
     "metadata": {},
     "output_type": "execute_result"
    }
   ],
   "source": [
    "#DC02 takes the longest total time to process merchandise\n",
    "merch_processing[['merch_station_time','itemization_station_time', 'photo_station_time', 'qa_time']].mean().sort_values(ascending=False)"
   ]
  },
  {
   "cell_type": "markdown",
   "metadata": {},
   "source": [
    "# How long does it take each warehouse to process items overall? "
   ]
  },
  {
   "cell_type": "code",
   "execution_count": 58,
   "metadata": {
    "scrolled": true
   },
   "outputs": [
    {
     "data": {
      "text/html": [
       "<div>\n",
       "<style scoped>\n",
       "    .dataframe tbody tr th:only-of-type {\n",
       "        vertical-align: middle;\n",
       "    }\n",
       "\n",
       "    .dataframe tbody tr th {\n",
       "        vertical-align: top;\n",
       "    }\n",
       "\n",
       "    .dataframe thead th {\n",
       "        text-align: right;\n",
       "    }\n",
       "</style>\n",
       "<table border=\"1\" class=\"dataframe\">\n",
       "  <thead>\n",
       "    <tr style=\"text-align: right;\">\n",
       "      <th></th>\n",
       "      <th>total_time</th>\n",
       "    </tr>\n",
       "    <tr>\n",
       "      <th>warehouse</th>\n",
       "      <th></th>\n",
       "    </tr>\n",
       "  </thead>\n",
       "  <tbody>\n",
       "    <tr>\n",
       "      <th>DC02</th>\n",
       "      <td>162.783258</td>\n",
       "    </tr>\n",
       "    <tr>\n",
       "      <th>DC05</th>\n",
       "      <td>149.567807</td>\n",
       "    </tr>\n",
       "    <tr>\n",
       "      <th>DC03</th>\n",
       "      <td>147.198362</td>\n",
       "    </tr>\n",
       "    <tr>\n",
       "      <th>DC04</th>\n",
       "      <td>121.672090</td>\n",
       "    </tr>\n",
       "  </tbody>\n",
       "</table>\n",
       "</div>"
      ],
      "text/plain": [
       "           total_time\n",
       "warehouse            \n",
       "DC02       162.783258\n",
       "DC05       149.567807\n",
       "DC03       147.198362\n",
       "DC04       121.672090"
      ]
     },
     "execution_count": 58,
     "metadata": {},
     "output_type": "execute_result"
    }
   ],
   "source": [
    "#DC02 takes the longest total time to process merchandise\n",
    "merch_processing[['total_time','warehouse']].groupby('warehouse').mean().sort_values(by='total_time', ascending=False)"
   ]
  },
  {
   "cell_type": "markdown",
   "metadata": {},
   "source": [
    "# How many items does each warehouse process? "
   ]
  },
  {
   "cell_type": "code",
   "execution_count": 59,
   "metadata": {},
   "outputs": [
    {
     "data": {
      "text/plain": [
       "<matplotlib.axes._subplots.AxesSubplot at 0x2648ee04d08>"
      ]
     },
     "execution_count": 59,
     "metadata": {},
     "output_type": "execute_result"
    },
    {
     "data": {
      "image/png": "[encoded data removed]",
      "text/plain": [
       "<Figure size 432x288 with 1 Axes>"
      ]
     },
     "metadata": {
      "needs_background": "light"
     },
     "output_type": "display_data"
    }
   ],
   "source": [
    "#DC02 and DC05 process the most merchandise\n",
    "merch_processing[['item_id','warehouse']].groupby('warehouse').count().sort_values(by='item_id', ascending=False).plot.bar()"
   ]
  },
  {
   "cell_type": "code",
   "execution_count": 60,
   "metadata": {},
   "outputs": [
    {
     "data": {
      "text/html": [
       "<div>\n",
       "<style scoped>\n",
       "    .dataframe tbody tr th:only-of-type {\n",
       "        vertical-align: middle;\n",
       "    }\n",
       "\n",
       "    .dataframe tbody tr th {\n",
       "        vertical-align: top;\n",
       "    }\n",
       "\n",
       "    .dataframe thead th {\n",
       "        text-align: right;\n",
       "    }\n",
       "</style>\n",
       "<table border=\"1\" class=\"dataframe\">\n",
       "  <thead>\n",
       "    <tr style=\"text-align: right;\">\n",
       "      <th></th>\n",
       "      <th></th>\n",
       "      <th>item_id</th>\n",
       "      <th>Percent_brands_at_warehouses</th>\n",
       "    </tr>\n",
       "    <tr>\n",
       "      <th>brand_tier_group</th>\n",
       "      <th>warehouse</th>\n",
       "      <th></th>\n",
       "      <th></th>\n",
       "    </tr>\n",
       "  </thead>\n",
       "  <tbody>\n",
       "    <tr>\n",
       "      <th rowspan=\"4\" valign=\"top\">4-Designer</th>\n",
       "      <th>DC02</th>\n",
       "      <td>439</td>\n",
       "      <td>38.307155</td>\n",
       "    </tr>\n",
       "    <tr>\n",
       "      <th>DC05</th>\n",
       "      <td>400</td>\n",
       "      <td>34.904014</td>\n",
       "    </tr>\n",
       "    <tr>\n",
       "      <th>DC04</th>\n",
       "      <td>158</td>\n",
       "      <td>13.787086</td>\n",
       "    </tr>\n",
       "    <tr>\n",
       "      <th>DC03</th>\n",
       "      <td>149</td>\n",
       "      <td>13.001745</td>\n",
       "    </tr>\n",
       "    <tr>\n",
       "      <th rowspan=\"4\" valign=\"top\">3-Premium</th>\n",
       "      <th>DC02</th>\n",
       "      <td>1109</td>\n",
       "      <td>36.600660</td>\n",
       "    </tr>\n",
       "    <tr>\n",
       "      <th>DC05</th>\n",
       "      <td>892</td>\n",
       "      <td>29.438944</td>\n",
       "    </tr>\n",
       "    <tr>\n",
       "      <th>DC04</th>\n",
       "      <td>531</td>\n",
       "      <td>17.524752</td>\n",
       "    </tr>\n",
       "    <tr>\n",
       "      <th>DC03</th>\n",
       "      <td>498</td>\n",
       "      <td>16.435644</td>\n",
       "    </tr>\n",
       "    <tr>\n",
       "      <th rowspan=\"4\" valign=\"top\">2-Mass</th>\n",
       "      <th>DC02</th>\n",
       "      <td>2469</td>\n",
       "      <td>31.808812</td>\n",
       "    </tr>\n",
       "    <tr>\n",
       "      <th>DC05</th>\n",
       "      <td>2403</td>\n",
       "      <td>30.958516</td>\n",
       "    </tr>\n",
       "    <tr>\n",
       "      <th>DC03</th>\n",
       "      <td>1462</td>\n",
       "      <td>18.835352</td>\n",
       "    </tr>\n",
       "    <tr>\n",
       "      <th>DC04</th>\n",
       "      <td>1428</td>\n",
       "      <td>18.397320</td>\n",
       "    </tr>\n",
       "    <tr>\n",
       "      <th rowspan=\"4\" valign=\"top\">1-Value</th>\n",
       "      <th>DC02</th>\n",
       "      <td>3575</td>\n",
       "      <td>32.582938</td>\n",
       "    </tr>\n",
       "    <tr>\n",
       "      <th>DC05</th>\n",
       "      <td>3564</td>\n",
       "      <td>32.482683</td>\n",
       "    </tr>\n",
       "    <tr>\n",
       "      <th>DC04</th>\n",
       "      <td>1945</td>\n",
       "      <td>17.726941</td>\n",
       "    </tr>\n",
       "    <tr>\n",
       "      <th>DC03</th>\n",
       "      <td>1888</td>\n",
       "      <td>17.207437</td>\n",
       "    </tr>\n",
       "  </tbody>\n",
       "</table>\n",
       "</div>"
      ],
      "text/plain": [
       "                            item_id  Percent_brands_at_warehouses\n",
       "brand_tier_group warehouse                                       \n",
       "4-Designer       DC02           439                     38.307155\n",
       "                 DC05           400                     34.904014\n",
       "                 DC04           158                     13.787086\n",
       "                 DC03           149                     13.001745\n",
       "3-Premium        DC02          1109                     36.600660\n",
       "                 DC05           892                     29.438944\n",
       "                 DC04           531                     17.524752\n",
       "                 DC03           498                     16.435644\n",
       "2-Mass           DC02          2469                     31.808812\n",
       "                 DC05          2403                     30.958516\n",
       "                 DC03          1462                     18.835352\n",
       "                 DC04          1428                     18.397320\n",
       "1-Value          DC02          3575                     32.582938\n",
       "                 DC05          3564                     32.482683\n",
       "                 DC04          1945                     17.726941\n",
       "                 DC03          1888                     17.207437"
      ]
     },
     "execution_count": 60,
     "metadata": {},
     "output_type": "execute_result"
    }
   ],
   "source": [
    "#Warehouses 2 and 5 process the highest percentage of items across all brand tiers\n",
    "tier_warehouses = merch_processing[['brand_tier_group','warehouse','item_id']].groupby(['brand_tier_group', 'warehouse']).count()\n",
    "tier_warehouses['Percent_brands_at_warehouses'] =  tier_warehouses.groupby(level=0).transform(lambda x: x/(x.sum())*100)\n",
    "tier_warehouses.sort_values(by=['brand_tier_group', 'Percent_brands_at_warehouses'], ascending=False)"
   ]
  },
  {
   "cell_type": "code",
   "execution_count": 61,
   "metadata": {},
   "outputs": [
    {
     "data": {
      "text/plain": [
       "<matplotlib.axes._subplots.AxesSubplot at 0x2648ef40b88>"
      ]
     },
     "execution_count": 61,
     "metadata": {},
     "output_type": "execute_result"
    },
    {
     "data": {
      "image/png": "[encoded data removed]",
      "text/plain": [
       "<Figure size 432x288 with 1 Axes>"
      ]
     },
     "metadata": {
      "needs_background": "light"
     },
     "output_type": "display_data"
    }
   ],
   "source": [
    "#Warehouse 2 and 5 process the most value items\n",
    "tier_warehouses.loc[(['1-Value'], item_cats_warehouses.index.get_level_values(1).unique()),:].sort_values(by='Percent_brands_at_warehouses', ascending=False).plot.bar(y='Percent_brands_at_warehouses')"
   ]
  },
  {
   "cell_type": "code",
   "execution_count": 62,
   "metadata": {},
   "outputs": [
    {
     "data": {
      "text/plain": [
       "<matplotlib.axes._subplots.AxesSubplot at 0x2648efcbe88>"
      ]
     },
     "execution_count": 62,
     "metadata": {},
     "output_type": "execute_result"
    },
    {
     "data": {
      "image/png": "[encoded data removed]",
      "text/plain": [
       "<Figure size 432x288 with 1 Axes>"
      ]
     },
     "metadata": {
      "needs_background": "light"
     },
     "output_type": "display_data"
    }
   ],
   "source": [
    "#Warehouses 2 and 5 process the most mass items\n",
    "tier_warehouses.loc[(['2-Mass'], item_cats_warehouses.index.get_level_values(1).unique()),:].sort_values(by='Percent_brands_at_warehouses', ascending=False).plot.bar(y='Percent_brands_at_warehouses')"
   ]
  },
  {
   "cell_type": "code",
   "execution_count": 63,
   "metadata": {},
   "outputs": [
    {
     "data": {
      "text/plain": [
       "<matplotlib.axes._subplots.AxesSubplot at 0x2648f02ff08>"
      ]
     },
     "execution_count": 63,
     "metadata": {},
     "output_type": "execute_result"
    },
    {
     "data": {
      "image/png": "[encoded data removed]",
      "text/plain": [
       "<Figure size 432x288 with 1 Axes>"
      ]
     },
     "metadata": {
      "needs_background": "light"
     },
     "output_type": "display_data"
    }
   ],
   "source": [
    "#2 and 5 process the most premium items\n",
    "tier_warehouses.loc[(['3-Premium'], item_cats_warehouses.index.get_level_values(1).unique()),:].sort_values(by='Percent_brands_at_warehouses', ascending=False).plot.bar(y='Percent_brands_at_warehouses')"
   ]
  },
  {
   "cell_type": "code",
   "execution_count": 64,
   "metadata": {},
   "outputs": [
    {
     "data": {
      "text/plain": [
       "<matplotlib.axes._subplots.AxesSubplot at 0x2648f0a6f08>"
      ]
     },
     "execution_count": 64,
     "metadata": {},
     "output_type": "execute_result"
    },
    {
     "data": {
      "image/png": "[encoded data removed]",
      "text/plain": [
       "<Figure size 432x288 with 1 Axes>"
      ]
     },
     "metadata": {
      "needs_background": "light"
     },
     "output_type": "display_data"
    }
   ],
   "source": [
    "#2 and 5 process the most designer items\n",
    "tier_warehouses.loc[(['4-Designer'], item_cats_warehouses.index.get_level_values(1).unique()),:].sort_values(by='Percent_brands_at_warehouses', ascending=False).plot.bar(y='Percent_brands_at_warehouses')"
   ]
  },
  {
   "cell_type": "markdown",
   "metadata": {},
   "source": [
    "# Item Accepted Or Rejected Analysis\n",
    "<pre>\n",
    "<strong>Categorical Variables</strong>\n",
    "item_category                      category\n",
    "brand_tier_group                   category\n",
    "\n",
    "</pre>\n",
    "<strong>Key Findings</strong>\n",
    "<ul>\n",
    "    <li>More value items are rejected at the warehouse than any other brand-tier group</li>\n",
    "    <li>Accepted items have a longer processing time on average, implying that rejections usually occur toward the beginning of the process</li>\n",
    "    <li>Items that are rejected usually don't spend much time at the QA station on average</li>\n",
    "    <li>Items that are ulimately rejected rarely make it to the photo station and the QA station</li>\n",
    "    <li>Most of the items rejected are rejected at the itemization station</li>\n",
    "    <li>9% of the rejected items are rejected at the merchandise station, 81% at the itemization station, 9.6% at the photo station, and 1% at the QA station</li>\n",
    "    <li>Higher processing time items have a higher percentage of rejected items than lower processing time items</li>\n",
    "    <li>Items with higher processing times are typically more expensive</li>\n",
    "</ul>"
   ]
  },
  {
   "cell_type": "code",
   "execution_count": 65,
   "metadata": {},
   "outputs": [
    {
     "data": {
      "text/plain": [
       "<matplotlib.axes._subplots.AxesSubplot at 0x2648f128388>"
      ]
     },
     "execution_count": 65,
     "metadata": {},
     "output_type": "execute_result"
    },
    {
     "data": {
      "image/png": "[encoded data removed]",
      "text/plain": [
       "<Figure size 432x288 with 1 Axes>"
      ]
     },
     "metadata": {
      "needs_background": "light"
     },
     "output_type": "display_data"
    }
   ],
   "source": [
    "#Accepted items have a longer processing time on average, \n",
    "#implying that rejections usually occur toward the beginning of the process\n",
    "merch_processing[[\"item_accepted_or_rejected\", \"total_time\"]].groupby('item_accepted_or_rejected').mean().plot.bar()"
   ]
  },
  {
   "cell_type": "code",
   "execution_count": 66,
   "metadata": {
    "scrolled": true
   },
   "outputs": [
    {
     "data": {
      "text/plain": [
       "<matplotlib.axes._subplots.AxesSubplot at 0x2648f19ff88>"
      ]
     },
     "execution_count": 66,
     "metadata": {},
     "output_type": "execute_result"
    },
    {
     "data": {
      "image/png": "[encoded data removed]",
      "text/plain": [
       "<Figure size 432x288 with 1 Axes>"
      ]
     },
     "metadata": {
      "needs_background": "light"
     },
     "output_type": "display_data"
    }
   ],
   "source": [
    "merch_processing[(merch_processing.item_accepted_or_rejected != 'rejected') & (merch_processing.qa_time !=0) ][[\"item_accepted_or_rejected\", \"qa_time\"]].groupby('item_accepted_or_rejected').mean().plot.bar()"
   ]
  },
  {
   "cell_type": "code",
   "execution_count": 67,
   "metadata": {
    "scrolled": true
   },
   "outputs": [
    {
     "data": {
      "text/plain": [
       "item_id                     5617\n",
       "merch_station_time          5617\n",
       "itemization_station_time    5154\n",
       "photo_station_time           598\n",
       "qa_time                       57\n",
       "dtype: int64"
      ]
     },
     "execution_count": 67,
     "metadata": {},
     "output_type": "execute_result"
    }
   ],
   "source": [
    "#Items that are ulimately rejected rarely make it to the photo station and the QA station \n",
    "#Most of the items rejected are rejected at the itemization station\n",
    "\n",
    "#We assume that 0 time at a station means that the item was rejected before reaching that station. \n",
    "# We change these to NaN values in this cell block to remove them from the aggregation count.\n",
    "temp_series = merch_processing[merch_processing['item_accepted_or_rejected']=='rejected'][['item_id','merch_station_time', 'itemization_station_time', 'photo_station_time', 'qa_time']].replace(to_replace=0, value=np.nan).count()\n",
    "temp_series\n",
    "\n",
    "#The difference in items from one station to another represent the number of items rejected at the earlier station. \n",
    "#In the below cell block, we use the shift method with a value of -1 to obtain this difference. "
   ]
  },
  {
   "cell_type": "code",
   "execution_count": 68,
   "metadata": {
    "scrolled": true
   },
   "outputs": [
    {
     "data": {
      "text/html": [
       "<div>\n",
       "<style scoped>\n",
       "    .dataframe tbody tr th:only-of-type {\n",
       "        vertical-align: middle;\n",
       "    }\n",
       "\n",
       "    .dataframe tbody tr th {\n",
       "        vertical-align: top;\n",
       "    }\n",
       "\n",
       "    .dataframe thead th {\n",
       "        text-align: right;\n",
       "    }\n",
       "</style>\n",
       "<table border=\"1\" class=\"dataframe\">\n",
       "  <thead>\n",
       "    <tr style=\"text-align: right;\">\n",
       "      <th></th>\n",
       "      <th>Percent Rejected By Station</th>\n",
       "    </tr>\n",
       "  </thead>\n",
       "  <tbody>\n",
       "    <tr>\n",
       "      <th>On Receipt</th>\n",
       "      <td>0.000000</td>\n",
       "    </tr>\n",
       "    <tr>\n",
       "      <th>Merchandise Station</th>\n",
       "      <td>8.242834</td>\n",
       "    </tr>\n",
       "    <tr>\n",
       "      <th>Itemization Station</th>\n",
       "      <td>81.110913</td>\n",
       "    </tr>\n",
       "    <tr>\n",
       "      <th>Photo Station</th>\n",
       "      <td>9.631476</td>\n",
       "    </tr>\n",
       "    <tr>\n",
       "      <th>QA Station</th>\n",
       "      <td>1.014777</td>\n",
       "    </tr>\n",
       "  </tbody>\n",
       "</table>\n",
       "</div>"
      ],
      "text/plain": [
       "                     Percent Rejected By Station\n",
       "On Receipt                              0.000000\n",
       "Merchandise Station                     8.242834\n",
       "Itemization Station                    81.110913\n",
       "Photo Station                           9.631476\n",
       "QA Station                              1.014777"
      ]
     },
     "execution_count": 68,
     "metadata": {},
     "output_type": "execute_result"
    }
   ],
   "source": [
    "# 9% of the rejected items are rejected at the merchandise station. \n",
    "# 81% are rejected at the itemization station \n",
    "# 9.6% at the photo station \n",
    "# 1% at the QA station\n",
    "\n",
    "perc_rejected_at_each_station = pd.DataFrame(temp_series/temp_series.item_id*100) - pd.DataFrame(temp_series/temp_series.item_id*100).shift(-1)\n",
    "perc_rejected_at_each_station.loc['qa_time'] = (temp_series/temp_series.item_id*100)[-1]\n",
    "perc_rejected_at_each_station.columns = ['Percent Rejected By Station']\n",
    "perc_rejected_at_each_station.index = ['On Receipt', 'Merchandise Station', 'Itemization Station', 'Photo Station', 'QA Station']\n",
    "perc_rejected_at_each_station"
   ]
  },
  {
   "cell_type": "code",
   "execution_count": 69,
   "metadata": {},
   "outputs": [
    {
     "name": "stdout",
     "output_type": "stream",
     "text": [
      "All (24999, 15)\n",
      "Rejected (5617, 15)\n",
      "Accepted (19382, 15)\n",
      "Percent rejected 0.22468898755950237\n",
      "Percent accepted 0.7753110124404976\n"
     ]
    }
   ],
   "source": [
    "print(\"All\", merch_processing.shape)\n",
    "print(\"Rejected\", merch_processing[merch_processing['item_accepted_or_rejected']=='rejected'].shape)\n",
    "print(\"Accepted\", merch_processing[merch_processing['item_accepted_or_rejected']=='accepted'].shape)\n",
    "print(\"Percent rejected\", merch_processing[merch_processing['item_accepted_or_rejected']=='rejected'].shape[0]/merch_processing.shape[0])\n",
    "print(\"Percent accepted\", merch_processing[merch_processing['item_accepted_or_rejected']=='accepted'].shape[0]/merch_processing.shape[0])"
   ]
  },
  {
   "cell_type": "code",
   "execution_count": 70,
   "metadata": {},
   "outputs": [
    {
     "data": {
      "text/plain": [
       "item_id                     19382\n",
       "merch_station_time          19382\n",
       "itemization_station_time    19382\n",
       "photo_station_time          19379\n",
       "qa_time                      2233\n",
       "dtype: int64"
      ]
     },
     "execution_count": 70,
     "metadata": {},
     "output_type": "execute_result"
    }
   ],
   "source": [
    "#items without zeros in station time columns filtered by accepted items\n",
    "temp_series = merch_processing[merch_processing['item_accepted_or_rejected']=='accepted'][['item_id','merch_station_time', 'itemization_station_time', 'photo_station_time', 'qa_time']].replace(to_replace=0, value=np.nan).count()\n",
    "temp_series"
   ]
  },
  {
   "cell_type": "code",
   "execution_count": 71,
   "metadata": {},
   "outputs": [
    {
     "data": {
      "text/html": [
       "<div>\n",
       "<style scoped>\n",
       "    .dataframe tbody tr th:only-of-type {\n",
       "        vertical-align: middle;\n",
       "    }\n",
       "\n",
       "    .dataframe tbody tr th {\n",
       "        vertical-align: top;\n",
       "    }\n",
       "\n",
       "    .dataframe thead th {\n",
       "        text-align: right;\n",
       "    }\n",
       "</style>\n",
       "<table border=\"1\" class=\"dataframe\">\n",
       "  <thead>\n",
       "    <tr style=\"text-align: right;\">\n",
       "      <th></th>\n",
       "      <th></th>\n",
       "      <th>item_id</th>\n",
       "      <th>percent_accepted_rejected</th>\n",
       "    </tr>\n",
       "    <tr>\n",
       "      <th>brand_tier_group</th>\n",
       "      <th>item_accepted_or_rejected</th>\n",
       "      <th></th>\n",
       "      <th></th>\n",
       "    </tr>\n",
       "  </thead>\n",
       "  <tbody>\n",
       "    <tr>\n",
       "      <th rowspan=\"2\" valign=\"top\">1-Value</th>\n",
       "      <th>accepted</th>\n",
       "      <td>8257</td>\n",
       "      <td>75.255195</td>\n",
       "    </tr>\n",
       "    <tr>\n",
       "      <th>rejected</th>\n",
       "      <td>2715</td>\n",
       "      <td>24.744805</td>\n",
       "    </tr>\n",
       "    <tr>\n",
       "      <th rowspan=\"2\" valign=\"top\">2-Mass</th>\n",
       "      <th>accepted</th>\n",
       "      <td>6863</td>\n",
       "      <td>88.417934</td>\n",
       "    </tr>\n",
       "    <tr>\n",
       "      <th>rejected</th>\n",
       "      <td>899</td>\n",
       "      <td>11.582066</td>\n",
       "    </tr>\n",
       "    <tr>\n",
       "      <th rowspan=\"2\" valign=\"top\">3-Premium</th>\n",
       "      <th>accepted</th>\n",
       "      <td>2718</td>\n",
       "      <td>89.702970</td>\n",
       "    </tr>\n",
       "    <tr>\n",
       "      <th>rejected</th>\n",
       "      <td>312</td>\n",
       "      <td>10.297030</td>\n",
       "    </tr>\n",
       "    <tr>\n",
       "      <th rowspan=\"2\" valign=\"top\">4-Designer</th>\n",
       "      <th>accepted</th>\n",
       "      <td>963</td>\n",
       "      <td>84.031414</td>\n",
       "    </tr>\n",
       "    <tr>\n",
       "      <th>rejected</th>\n",
       "      <td>183</td>\n",
       "      <td>15.968586</td>\n",
       "    </tr>\n",
       "  </tbody>\n",
       "</table>\n",
       "</div>"
      ],
      "text/plain": [
       "                                            item_id  percent_accepted_rejected\n",
       "brand_tier_group item_accepted_or_rejected                                    \n",
       "1-Value          accepted                      8257                  75.255195\n",
       "                 rejected                      2715                  24.744805\n",
       "2-Mass           accepted                      6863                  88.417934\n",
       "                 rejected                       899                  11.582066\n",
       "3-Premium        accepted                      2718                  89.702970\n",
       "                 rejected                       312                  10.297030\n",
       "4-Designer       accepted                       963                  84.031414\n",
       "                 rejected                       183                  15.968586"
      ]
     },
     "execution_count": 71,
     "metadata": {},
     "output_type": "execute_result"
    }
   ],
   "source": [
    "#More value items are rejected at the warehouse than any other brand-tier group\n",
    "accepted_brand = merch_processing[[\"item_accepted_or_rejected\", \"brand_tier_group\", 'item_id']].groupby(['brand_tier_group', 'item_accepted_or_rejected']).count()\n",
    "accepted_brand['percent_accepted_rejected'] = accepted_brand.groupby(level=0).item_id.transform(lambda x: x/(x[0]+x[1])*100)\n",
    "accepted_brand"
   ]
  },
  {
   "cell_type": "code",
   "execution_count": 72,
   "metadata": {},
   "outputs": [
    {
     "data": {
      "text/plain": [
       "<matplotlib.axes._subplots.AxesSubplot at 0x2648f213ac8>"
      ]
     },
     "execution_count": 72,
     "metadata": {},
     "output_type": "execute_result"
    },
    {
     "data": {
      "image/png": "[encoded data removed]",
      "text/plain": [
       "<Figure size 432x288 with 1 Axes>"
      ]
     },
     "metadata": {
      "needs_background": "light"
     },
     "output_type": "display_data"
    }
   ],
   "source": [
    "#Percent of items accepted by brand\n",
    "accepted_brand.loc[(accepted_brand.index.get_level_values(0),'accepted'),'percent_accepted_rejected'].sort_values(ascending=False).plot.bar()"
   ]
  },
  {
   "cell_type": "code",
   "execution_count": 73,
   "metadata": {},
   "outputs": [
    {
     "data": {
      "text/plain": [
       "<matplotlib.axes._subplots.AxesSubplot at 0x2648f184048>"
      ]
     },
     "execution_count": 73,
     "metadata": {},
     "output_type": "execute_result"
    },
    {
     "data": {
      "image/png": "[encoded data removed]",
      "text/plain": [
       "<Figure size 432x288 with 1 Axes>"
      ]
     },
     "metadata": {
      "needs_background": "light"
     },
     "output_type": "display_data"
    }
   ],
   "source": [
    "#Percent of rejected items by brand\n",
    "accepted_brand.loc[(accepted_brand.index.get_level_values(0),'rejected'),'percent_accepted_rejected'].sort_values(ascending=False).plot.bar()"
   ]
  },
  {
   "cell_type": "code",
   "execution_count": 74,
   "metadata": {},
   "outputs": [
    {
     "data": {
      "text/html": [
       "<div>\n",
       "<style scoped>\n",
       "    .dataframe tbody tr th:only-of-type {\n",
       "        vertical-align: middle;\n",
       "    }\n",
       "\n",
       "    .dataframe tbody tr th {\n",
       "        vertical-align: top;\n",
       "    }\n",
       "\n",
       "    .dataframe thead th {\n",
       "        text-align: right;\n",
       "    }\n",
       "</style>\n",
       "<table border=\"1\" class=\"dataframe\">\n",
       "  <thead>\n",
       "    <tr style=\"text-align: right;\">\n",
       "      <th></th>\n",
       "      <th></th>\n",
       "      <th>item_id</th>\n",
       "      <th>percent_accepted_rejected</th>\n",
       "    </tr>\n",
       "    <tr>\n",
       "      <th>item_category</th>\n",
       "      <th>item_accepted_or_rejected</th>\n",
       "      <th></th>\n",
       "      <th></th>\n",
       "    </tr>\n",
       "  </thead>\n",
       "  <tbody>\n",
       "    <tr>\n",
       "      <th rowspan=\"2\" valign=\"top\">Tops &amp; Blouses &amp; Shirts</th>\n",
       "      <th>accepted</th>\n",
       "      <td>4054</td>\n",
       "      <td>85.835274</td>\n",
       "    </tr>\n",
       "    <tr>\n",
       "      <th>rejected</th>\n",
       "      <td>669</td>\n",
       "      <td>14.164726</td>\n",
       "    </tr>\n",
       "    <tr>\n",
       "      <th rowspan=\"2\" valign=\"top\">Dresses</th>\n",
       "      <th>accepted</th>\n",
       "      <td>2758</td>\n",
       "      <td>90.515261</td>\n",
       "    </tr>\n",
       "    <tr>\n",
       "      <th>rejected</th>\n",
       "      <td>289</td>\n",
       "      <td>9.484739</td>\n",
       "    </tr>\n",
       "    <tr>\n",
       "      <th rowspan=\"2\" valign=\"top\">Sweaters</th>\n",
       "      <th>accepted</th>\n",
       "      <td>2235</td>\n",
       "      <td>92.241024</td>\n",
       "    </tr>\n",
       "    <tr>\n",
       "      <th>rejected</th>\n",
       "      <td>188</td>\n",
       "      <td>7.758976</td>\n",
       "    </tr>\n",
       "  </tbody>\n",
       "</table>\n",
       "</div>"
      ],
      "text/plain": [
       "                                                   item_id  \\\n",
       "item_category           item_accepted_or_rejected            \n",
       "Tops & Blouses & Shirts accepted                      4054   \n",
       "                        rejected                       669   \n",
       "Dresses                 accepted                      2758   \n",
       "                        rejected                       289   \n",
       "Sweaters                accepted                      2235   \n",
       "                        rejected                       188   \n",
       "\n",
       "                                                   percent_accepted_rejected  \n",
       "item_category           item_accepted_or_rejected                             \n",
       "Tops & Blouses & Shirts accepted                                   85.835274  \n",
       "                        rejected                                   14.164726  \n",
       "Dresses                 accepted                                   90.515261  \n",
       "                        rejected                                    9.484739  \n",
       "Sweaters                accepted                                   92.241024  \n",
       "                        rejected                                    7.758976  "
      ]
     },
     "execution_count": 74,
     "metadata": {},
     "output_type": "execute_result"
    }
   ],
   "source": [
    "accepted_category = merch_processing[[\"item_accepted_or_rejected\", \"item_category\", 'item_id']].groupby(['item_category', 'item_accepted_or_rejected']).count()\n",
    "accepted_category['percent_accepted_rejected'] = accepted_category.groupby(level=0).item_id.transform(lambda x: x/(x[0]+x[1])*100)\n",
    "accepted_category.loc[['Tops & Blouses & Shirts', 'Dresses', 'Sweaters'],:]"
   ]
  },
  {
   "cell_type": "code",
   "execution_count": 75,
   "metadata": {},
   "outputs": [
    {
     "data": {
      "text/html": [
       "<div>\n",
       "<style scoped>\n",
       "    .dataframe tbody tr th:only-of-type {\n",
       "        vertical-align: middle;\n",
       "    }\n",
       "\n",
       "    .dataframe tbody tr th {\n",
       "        vertical-align: top;\n",
       "    }\n",
       "\n",
       "    .dataframe thead th {\n",
       "        text-align: right;\n",
       "    }\n",
       "</style>\n",
       "<table border=\"1\" class=\"dataframe\">\n",
       "  <thead>\n",
       "    <tr style=\"text-align: right;\">\n",
       "      <th></th>\n",
       "      <th>item_id</th>\n",
       "      <th>percent_accepted_rejected</th>\n",
       "    </tr>\n",
       "    <tr>\n",
       "      <th>item_accepted_or_rejected</th>\n",
       "      <th></th>\n",
       "      <th></th>\n",
       "    </tr>\n",
       "  </thead>\n",
       "  <tbody>\n",
       "    <tr>\n",
       "      <th>accepted</th>\n",
       "      <td>333.387097</td>\n",
       "      <td>82.655723</td>\n",
       "    </tr>\n",
       "    <tr>\n",
       "      <th>rejected</th>\n",
       "      <td>84.741935</td>\n",
       "      <td>17.344277</td>\n",
       "    </tr>\n",
       "  </tbody>\n",
       "</table>\n",
       "</div>"
      ],
      "text/plain": [
       "                              item_id  percent_accepted_rejected\n",
       "item_accepted_or_rejected                                       \n",
       "accepted                   333.387097                  82.655723\n",
       "rejected                    84.741935                  17.344277"
      ]
     },
     "execution_count": 75,
     "metadata": {},
     "output_type": "execute_result"
    }
   ],
   "source": [
    "#mean of percent accepted rejected by low processing time categories \n",
    "categories = list(accepted_category.index.get_level_values(0).unique())\n",
    "for x in ['Tops & Blouses & Shirts', 'Dresses', 'Sweaters']:\n",
    "    categories.remove(x) \n",
    "accepted_category.loc[categories,:].mean(level=['item_accepted_or_rejected'])"
   ]
  },
  {
   "cell_type": "code",
   "execution_count": 76,
   "metadata": {
    "scrolled": true
   },
   "outputs": [
    {
     "data": {
      "text/html": [
       "<div>\n",
       "<style scoped>\n",
       "    .dataframe tbody tr th:only-of-type {\n",
       "        vertical-align: middle;\n",
       "    }\n",
       "\n",
       "    .dataframe tbody tr th {\n",
       "        vertical-align: top;\n",
       "    }\n",
       "\n",
       "    .dataframe thead th {\n",
       "        text-align: right;\n",
       "    }\n",
       "</style>\n",
       "<table border=\"1\" class=\"dataframe\">\n",
       "  <thead>\n",
       "    <tr style=\"text-align: right;\">\n",
       "      <th></th>\n",
       "      <th>item_id</th>\n",
       "      <th>percent_accepted_rejected</th>\n",
       "    </tr>\n",
       "    <tr>\n",
       "      <th>item_accepted_or_rejected</th>\n",
       "      <th></th>\n",
       "      <th></th>\n",
       "    </tr>\n",
       "  </thead>\n",
       "  <tbody>\n",
       "    <tr>\n",
       "      <th>accepted</th>\n",
       "      <td>3015.666667</td>\n",
       "      <td>89.53052</td>\n",
       "    </tr>\n",
       "    <tr>\n",
       "      <th>rejected</th>\n",
       "      <td>382.000000</td>\n",
       "      <td>10.46948</td>\n",
       "    </tr>\n",
       "  </tbody>\n",
       "</table>\n",
       "</div>"
      ],
      "text/plain": [
       "                               item_id  percent_accepted_rejected\n",
       "item_accepted_or_rejected                                        \n",
       "accepted                   3015.666667                   89.53052\n",
       "rejected                    382.000000                   10.46948"
      ]
     },
     "execution_count": 76,
     "metadata": {},
     "output_type": "execute_result"
    }
   ],
   "source": [
    "#Higher processing time items have a higher percentage of rejected items than lower processing time items\n",
    "high_processing_time_items =['Tops & Blouses & Shirts', 'Dresses', 'Sweaters']\n",
    "accepted_category.loc[high_processing_time_items, :].mean(level=['item_accepted_or_rejected'])"
   ]
  },
  {
   "cell_type": "markdown",
   "metadata": {},
   "source": [
    "## Long Processing Time"
   ]
  },
  {
   "cell_type": "code",
   "execution_count": 77,
   "metadata": {},
   "outputs": [
    {
     "name": "stdout",
     "output_type": "stream",
     "text": [
      "79.0\n"
     ]
    }
   ],
   "source": [
    "#Use the Inter Quartile Range to identify outliers\n",
    "Q1 = merch_processing['total_time'].quantile(0.25)\n",
    "Q3 = merch_processing['total_time'].quantile(0.75)\n",
    "IQR = Q3 - Q1\n",
    "print(IQR)"
   ]
  },
  {
   "cell_type": "code",
   "execution_count": 78,
   "metadata": {},
   "outputs": [],
   "source": [
    "#Create a column identifying items with longer processing time based on the interquartile range\n",
    "#This column identifies these items differently than the SQL query at the beginning \n",
    "# (just to demonstrate two ways of looking at the same thing) \n",
    "merch_processing['long_processing_time'] = merch_processing['total_time'][(merch_processing['total_time'] > (Q3 + 1.5 * IQR))].notnull()"
   ]
  },
  {
   "cell_type": "code",
   "execution_count": 79,
   "metadata": {},
   "outputs": [],
   "source": [
    "#Replace NaN values with False (The line above creates a column with value True for observations with a long processing time\n",
    "#and value NaN for those without a long processing time)\n",
    "merch_processing['long_processing_time'].fillna(False, inplace=True)"
   ]
  },
  {
   "cell_type": "code",
   "execution_count": 80,
   "metadata": {},
   "outputs": [
    {
     "name": "stdout",
     "output_type": "stream",
     "text": [
      "(1636, 2)\n",
      "(23363, 2)\n"
     ]
    }
   ],
   "source": [
    "print(merch_processing[['total_time', 'long_processing_time']][merch_processing['long_processing_time']==True].shape)\n",
    "print(merch_processing[['total_time', 'long_processing_time']][merch_processing['long_processing_time']==False].shape)"
   ]
  },
  {
   "cell_type": "code",
   "execution_count": 81,
   "metadata": {
    "scrolled": true
   },
   "outputs": [
    {
     "data": {
      "text/plain": [
       "<matplotlib.axes._subplots.AxesSubplot at 0x2648c48f8c8>"
      ]
     },
     "execution_count": 81,
     "metadata": {},
     "output_type": "execute_result"
    },
    {
     "data": {
      "image/png": "[encoded data removed]",
      "text/plain": [
       "<Figure size 432x288 with 1 Axes>"
      ]
     },
     "metadata": {
      "needs_background": "light"
     },
     "output_type": "display_data"
    }
   ],
   "source": [
    "#Items with higher processing times are typically more expensive\n",
    "merch_processing[['listing_price','long_processing_time']].groupby('long_processing_time').mean().plot.bar()"
   ]
  },
  {
   "cell_type": "code",
   "execution_count": 82,
   "metadata": {},
   "outputs": [
    {
     "data": {
      "text/html": [
       "<div>\n",
       "<style scoped>\n",
       "    .dataframe tbody tr th:only-of-type {\n",
       "        vertical-align: middle;\n",
       "    }\n",
       "\n",
       "    .dataframe tbody tr th {\n",
       "        vertical-align: top;\n",
       "    }\n",
       "\n",
       "    .dataframe thead th {\n",
       "        text-align: right;\n",
       "    }\n",
       "</style>\n",
       "<table border=\"1\" class=\"dataframe\">\n",
       "  <thead>\n",
       "    <tr style=\"text-align: right;\">\n",
       "      <th></th>\n",
       "      <th></th>\n",
       "      <th>item_id</th>\n",
       "      <th>percent</th>\n",
       "    </tr>\n",
       "    <tr>\n",
       "      <th>long_processing_time</th>\n",
       "      <th>item_accepted_or_rejected</th>\n",
       "      <th></th>\n",
       "      <th></th>\n",
       "    </tr>\n",
       "  </thead>\n",
       "  <tbody>\n",
       "    <tr>\n",
       "      <th rowspan=\"2\" valign=\"top\">False</th>\n",
       "      <th>accepted</th>\n",
       "      <td>17881</td>\n",
       "      <td>76.535548</td>\n",
       "    </tr>\n",
       "    <tr>\n",
       "      <th>rejected</th>\n",
       "      <td>5482</td>\n",
       "      <td>23.464452</td>\n",
       "    </tr>\n",
       "    <tr>\n",
       "      <th rowspan=\"2\" valign=\"top\">True</th>\n",
       "      <th>accepted</th>\n",
       "      <td>1501</td>\n",
       "      <td>91.748166</td>\n",
       "    </tr>\n",
       "    <tr>\n",
       "      <th>rejected</th>\n",
       "      <td>135</td>\n",
       "      <td>8.251834</td>\n",
       "    </tr>\n",
       "  </tbody>\n",
       "</table>\n",
       "</div>"
      ],
      "text/plain": [
       "                                                item_id    percent\n",
       "long_processing_time item_accepted_or_rejected                    \n",
       "False                accepted                     17881  76.535548\n",
       "                     rejected                      5482  23.464452\n",
       "True                 accepted                      1501  91.748166\n",
       "                     rejected                       135   8.251834"
      ]
     },
     "execution_count": 82,
     "metadata": {},
     "output_type": "execute_result"
    }
   ],
   "source": [
    "temp_df = merch_processing[['item_accepted_or_rejected','long_processing_time', 'item_id']].groupby(['long_processing_time','item_accepted_or_rejected']).count()\n",
    "temp_df['percent'] = temp_df.groupby(level=0).transform(lambda x: x/x.sum()*100)\n",
    "temp_df"
   ]
  },
  {
   "cell_type": "markdown",
   "metadata": {},
   "source": [
    "## Listing Price"
   ]
  },
  {
   "cell_type": "code",
   "execution_count": 83,
   "metadata": {},
   "outputs": [
    {
     "data": {
      "image/png": "[encoded data removed]",
      "text/plain": [
       "<Figure size 432x288 with 2 Axes>"
      ]
     },
     "metadata": {
      "needs_background": "light"
     },
     "output_type": "display_data"
    }
   ],
   "source": [
    "y1 = merch_processing[merch_processing['long_processing_time']==False]['total_time']\n",
    "y2 = merch_processing[merch_processing['long_processing_time']==True]['total_time']\n",
    "y3 = merch_processing['total_time']\n",
    "\n",
    "x1 = merch_processing[merch_processing['long_processing_time']==False]['listing_price']\n",
    "x2 = merch_processing[merch_processing['long_processing_time']==True]['listing_price']\n",
    "x3 = merch_processing['listing_price']\n",
    "\n",
    "plt.subplot(1, 2, 1)\n",
    "plt.scatter(x1, y1)\n",
    "plt.xlabel('listing_price')\n",
    "plt.ylabel('total_time')\n",
    "plt.title('Long Processing Time')\n",
    "\n",
    "plt.subplot(1, 2, 2)\n",
    "plt.scatter(x2, y2)\n",
    "plt.title('Short Processing Time')\n",
    "\n",
    "plt.tight_layout()\n",
    "plt.show()"
   ]
  },
  {
   "cell_type": "code",
   "execution_count": 84,
   "metadata": {},
   "outputs": [
    {
     "data": {
      "image/png": "[encoded data removed]",
      "text/plain": [
       "<Figure size 432x288 with 1 Axes>"
      ]
     },
     "metadata": {
      "needs_background": "light"
     },
     "output_type": "display_data"
    }
   ],
   "source": [
    "plt.scatter(x3, y3)\n",
    "plt.title('All Processing Times')\n",
    "plt.xlabel('listing_price')\n",
    "plt.ylabel('total_time')\n",
    "plt.show()"
   ]
  },
  {
   "cell_type": "code",
   "execution_count": null,
   "metadata": {},
   "outputs": [],
   "source": []
  },
  {
   "cell_type": "code",
   "execution_count": null,
   "metadata": {},
   "outputs": [],
   "source": []
  }
 ],
 "metadata": {
  "kernelspec": {
   "display_name": "Python 3",
   "language": "python",
   "name": "python3"
  },
  "language_info": {
   "codemirror_mode": {
    "name": "ipython",
    "version": 3
   },
   "file_extension": ".py",
   "mimetype": "text/x-python",
   "name": "python",
   "nbconvert_exporter": "python",
   "pygments_lexer": "ipython3",
   "version": "3.7.5"
  }
 },
 "nbformat": 4,
 "nbformat_minor": 2
}
